{
  "nbformat": 4,
  "nbformat_minor": 0,
  "metadata": {
    "colab": {
      "name": "demo.ipynb",
      "provenance": [],
      "collapsed_sections": [],
      "include_colab_link": true
    },
    "kernelspec": {
      "name": "python3",
      "display_name": "Python 3"
    },
    "accelerator": "GPU"
  },
  "cells": [
    {
      "cell_type": "markdown",
      "metadata": {
        "id": "view-in-github",
        "colab_type": "text"
      },
      "source": [
        "<a href=\"https://colab.research.google.com/github/sdll/cifar-100-densenet/blob/master/demo.ipynb\" target=\"_parent\"><img src=\"https://colab.research.google.com/assets/colab-badge.svg\" alt=\"Open In Colab\"/></a>"
      ]
    },
    {
      "cell_type": "markdown",
      "metadata": {
        "id": "KAW0R5zSsOjA",
        "colab_type": "text"
      },
      "source": [
        "# Image classification demo of DenseNet in PyTorch on CIFAR 100\n",
        "## Configuration"
      ]
    },
    {
      "cell_type": "code",
      "metadata": {
        "id": "TIpy5rccsFFn",
        "colab_type": "code",
        "colab": {}
      },
      "source": [
        "# Taken from https://git.io/JeD2H\n",
        "CIFAR_100_MEAN = (129.3, 124.1, 112.4)\n",
        "CIFAR_100_STD = (68.2,  65.4,  70.4)\n",
        "\n",
        "PROJECT = \"fastrino\"\n",
        "DEVICE = \"cuda\""
      ],
      "execution_count": 0,
      "outputs": []
    },
    {
      "cell_type": "code",
      "metadata": {
        "id": "VeALhFoGs_Yi",
        "colab_type": "code",
        "outputId": "7a52f0cb-80ec-470c-8ec7-1d38032a8b09",
        "colab": {
          "base_uri": "https://localhost:8080/",
          "height": 785
        }
      },
      "source": [
        "!pip install gsheet-keyring ipython-secrets comet_ml"
      ],
      "execution_count": 0,
      "outputs": [
        {
          "output_type": "stream",
          "text": [
            "Requirement already satisfied: gsheet-keyring in /usr/local/lib/python3.6/dist-packages (1.0.1)\n",
            "Requirement already satisfied: ipython-secrets in /usr/local/lib/python3.6/dist-packages (1.1.1)\n",
            "Requirement already satisfied: comet_ml in /usr/local/lib/python3.6/dist-packages (3.0.0)\n",
            "Requirement already satisfied: oauth2client in /usr/local/lib/python3.6/dist-packages (from gsheet-keyring) (4.1.3)\n",
            "Requirement already satisfied: keyring in /usr/local/lib/python3.6/dist-packages (from gsheet-keyring) (19.3.0)\n",
            "Requirement already satisfied: gspread in /usr/local/lib/python3.6/dist-packages (from gsheet-keyring) (3.0.1)\n",
            "Requirement already satisfied: ipython in /usr/local/lib/python3.6/dist-packages (from ipython-secrets) (5.5.0)\n",
            "Requirement already satisfied: nvidia-ml-py3>=7.352.0 in /usr/local/lib/python3.6/dist-packages (from comet_ml) (7.352.0)\n",
            "Requirement already satisfied: six in /usr/local/lib/python3.6/dist-packages (from comet_ml) (1.12.0)\n",
            "Requirement already satisfied: jsonschema<3.1.0,>=2.6.0 in /usr/local/lib/python3.6/dist-packages (from comet_ml) (2.6.0)\n",
            "Requirement already satisfied: requests>=2.18.4 in /usr/local/lib/python3.6/dist-packages (from comet_ml) (2.21.0)\n",
            "Requirement already satisfied: websocket-client>=0.55.0 in /usr/local/lib/python3.6/dist-packages (from comet_ml) (0.56.0)\n",
            "Requirement already satisfied: netifaces>=0.10.7 in /usr/local/lib/python3.6/dist-packages (from comet_ml) (0.10.9)\n",
            "Requirement already satisfied: comet-git-pure>=0.19.11 in /usr/local/lib/python3.6/dist-packages (from comet_ml) (0.19.14)\n",
            "Requirement already satisfied: wurlitzer>=1.0.2 in /usr/local/lib/python3.6/dist-packages (from comet_ml) (2.0.0)\n",
            "Requirement already satisfied: everett[ini]>=1.0.1; python_version >= \"3.0\" in /usr/local/lib/python3.6/dist-packages (from comet_ml) (1.0.2)\n",
            "Requirement already satisfied: pyasn1-modules>=0.0.5 in /usr/local/lib/python3.6/dist-packages (from oauth2client->gsheet-keyring) (0.2.7)\n",
            "Requirement already satisfied: httplib2>=0.9.1 in /usr/local/lib/python3.6/dist-packages (from oauth2client->gsheet-keyring) (0.11.3)\n",
            "Requirement already satisfied: pyasn1>=0.1.7 in /usr/local/lib/python3.6/dist-packages (from oauth2client->gsheet-keyring) (0.4.8)\n",
            "Requirement already satisfied: rsa>=3.1.4 in /usr/local/lib/python3.6/dist-packages (from oauth2client->gsheet-keyring) (4.0)\n",
            "Requirement already satisfied: importlib-metadata; python_version < \"3.8\" in /usr/local/lib/python3.6/dist-packages (from keyring->gsheet-keyring) (1.2.0)\n",
            "Requirement already satisfied: secretstorage; sys_platform == \"linux\" in /usr/local/lib/python3.6/dist-packages (from keyring->gsheet-keyring) (3.1.1)\n",
            "Requirement already satisfied: prompt-toolkit<2.0.0,>=1.0.4 in /usr/local/lib/python3.6/dist-packages (from ipython->ipython-secrets) (1.0.18)\n",
            "Requirement already satisfied: pygments in /usr/local/lib/python3.6/dist-packages (from ipython->ipython-secrets) (2.1.3)\n",
            "Requirement already satisfied: simplegeneric>0.8 in /usr/local/lib/python3.6/dist-packages (from ipython->ipython-secrets) (0.8.1)\n",
            "Requirement already satisfied: pickleshare in /usr/local/lib/python3.6/dist-packages (from ipython->ipython-secrets) (0.7.5)\n",
            "Requirement already satisfied: traitlets>=4.2 in /usr/local/lib/python3.6/dist-packages (from ipython->ipython-secrets) (4.3.3)\n",
            "Requirement already satisfied: pexpect; sys_platform != \"win32\" in /usr/local/lib/python3.6/dist-packages (from ipython->ipython-secrets) (4.7.0)\n",
            "Requirement already satisfied: decorator in /usr/local/lib/python3.6/dist-packages (from ipython->ipython-secrets) (4.4.1)\n",
            "Requirement already satisfied: setuptools>=18.5 in /usr/local/lib/python3.6/dist-packages (from ipython->ipython-secrets) (42.0.1)\n",
            "Requirement already satisfied: urllib3<1.25,>=1.21.1 in /usr/local/lib/python3.6/dist-packages (from requests>=2.18.4->comet_ml) (1.24.3)\n",
            "Requirement already satisfied: idna<2.9,>=2.5 in /usr/local/lib/python3.6/dist-packages (from requests>=2.18.4->comet_ml) (2.8)\n",
            "Requirement already satisfied: chardet<3.1.0,>=3.0.2 in /usr/local/lib/python3.6/dist-packages (from requests>=2.18.4->comet_ml) (3.0.4)\n",
            "Requirement already satisfied: certifi>=2017.4.17 in /usr/local/lib/python3.6/dist-packages (from requests>=2.18.4->comet_ml) (2019.11.28)\n",
            "Requirement already satisfied: configobj; extra == \"ini\" in /usr/local/lib/python3.6/dist-packages (from everett[ini]>=1.0.1; python_version >= \"3.0\"->comet_ml) (5.0.6)\n",
            "Requirement already satisfied: zipp>=0.5 in /usr/local/lib/python3.6/dist-packages (from importlib-metadata; python_version < \"3.8\"->keyring->gsheet-keyring) (0.6.0)\n",
            "Requirement already satisfied: jeepney in /usr/local/lib/python3.6/dist-packages (from secretstorage; sys_platform == \"linux\"->keyring->gsheet-keyring) (0.4.1)\n",
            "Requirement already satisfied: cryptography in /usr/local/lib/python3.6/dist-packages (from secretstorage; sys_platform == \"linux\"->keyring->gsheet-keyring) (2.8)\n",
            "Requirement already satisfied: wcwidth in /usr/local/lib/python3.6/dist-packages (from prompt-toolkit<2.0.0,>=1.0.4->ipython->ipython-secrets) (0.1.7)\n",
            "Requirement already satisfied: ipython-genutils in /usr/local/lib/python3.6/dist-packages (from traitlets>=4.2->ipython->ipython-secrets) (0.2.0)\n",
            "Requirement already satisfied: ptyprocess>=0.5 in /usr/local/lib/python3.6/dist-packages (from pexpect; sys_platform != \"win32\"->ipython->ipython-secrets) (0.6.0)\n",
            "Requirement already satisfied: more-itertools in /usr/local/lib/python3.6/dist-packages (from zipp>=0.5->importlib-metadata; python_version < \"3.8\"->keyring->gsheet-keyring) (8.0.0)\n",
            "Requirement already satisfied: cffi!=1.11.3,>=1.8 in /usr/local/lib/python3.6/dist-packages (from cryptography->secretstorage; sys_platform == \"linux\"->keyring->gsheet-keyring) (1.13.2)\n",
            "Requirement already satisfied: pycparser in /usr/local/lib/python3.6/dist-packages (from cffi!=1.11.3,>=1.8->cryptography->secretstorage; sys_platform == \"linux\"->keyring->gsheet-keyring) (2.19)\n"
          ],
          "name": "stdout"
        }
      ]
    },
    {
      "cell_type": "markdown",
      "metadata": {
        "id": "zsXT8iqlseWs",
        "colab_type": "text"
      },
      "source": [
        "## Model"
      ]
    },
    {
      "cell_type": "code",
      "metadata": {
        "id": "tW00_8EPshpa",
        "colab_type": "code",
        "colab": {}
      },
      "source": [
        "from comet_ml import Experiment\n",
        "from collections import OrderedDict\n",
        "\n",
        "import torch\n",
        "import torch.nn as nn\n",
        "import torch.nn.functional as F\n",
        "from torch import Tensor\n",
        "\n",
        "\n",
        "class DenseLayer(nn.Module):\n",
        "    def __init__(self, num_input_features, growth_rate, bn_size, drop_rate):\n",
        "        super(DenseLayer, self).__init__()\n",
        "        self.add_module(\"norm1\", nn.BatchNorm2d(num_input_features)),\n",
        "        self.add_module(\"relu1\", nn.ReLU(inplace=True)),\n",
        "        self.add_module(\n",
        "            \"conv1\",\n",
        "            nn.Conv2d(\n",
        "                num_input_features,\n",
        "                bn_size * growth_rate,\n",
        "                kernel_size=1,\n",
        "                stride=1,\n",
        "                bias=False,\n",
        "            ),\n",
        "        ),\n",
        "        self.add_module(\"norm2\", nn.BatchNorm2d(bn_size * growth_rate)),\n",
        "        self.add_module(\"relu2\", nn.ReLU(inplace=True)),\n",
        "        self.add_module(\n",
        "            \"conv2\",\n",
        "            nn.Conv2d(\n",
        "                bn_size * growth_rate,\n",
        "                growth_rate,\n",
        "                kernel_size=3,\n",
        "                stride=1,\n",
        "                padding=1,\n",
        "                bias=False,\n",
        "            ),\n",
        "        ),\n",
        "        self.drop_rate = float(drop_rate)\n",
        "\n",
        "    def bottleneck_function(self, inputs):\n",
        "        concated_features = torch.cat(inputs, 1)\n",
        "        bottleneck_output = self.conv1(\n",
        "            self.relu1(self.norm1(concated_features))\n",
        "        )\n",
        "        return bottleneck_output\n",
        "\n",
        "    def forward(self, input_tensor):\n",
        "        if isinstance(input_tensor, Tensor):\n",
        "            prev_features = [input_tensor]\n",
        "        else:\n",
        "            prev_features = input_tensor\n",
        "\n",
        "        bottleneck_output = self.bottleneck_function(prev_features)\n",
        "\n",
        "        new_features = self.conv2(self.relu2(self.norm2(bottleneck_output)))\n",
        "        if self.drop_rate > 0:\n",
        "            new_features = F.dropout(\n",
        "                new_features, p=self.drop_rate, training=self.training\n",
        "            )\n",
        "        return new_features\n",
        "\n",
        "\n",
        "class DenseBlock(nn.ModuleDict):\n",
        "    def __init__(\n",
        "        self, num_layers, num_input_features, bn_size, growth_rate, drop_rate\n",
        "    ):\n",
        "        super(DenseBlock, self).__init__()\n",
        "        for i in range(num_layers):\n",
        "            layer = DenseLayer(\n",
        "                num_input_features + i * growth_rate,\n",
        "                growth_rate=growth_rate,\n",
        "                bn_size=bn_size,\n",
        "                drop_rate=drop_rate,\n",
        "            )\n",
        "            self.add_module(\"dense_layer%d\" % (i + 1), layer)\n",
        "\n",
        "    def forward(self, init_features):\n",
        "        features = [init_features]\n",
        "        for name, layer in self.items():\n",
        "            new_features = layer(features)\n",
        "            features.append(new_features)\n",
        "        return torch.cat(features, 1)\n",
        "\n",
        "\n",
        "class Transition(nn.Sequential):\n",
        "    def __init__(self, num_input_features, num_output_features):\n",
        "        super(Transition, self).__init__()\n",
        "        self.add_module(\"norm\", nn.BatchNorm2d(num_input_features))\n",
        "        self.add_module(\"relu\", nn.ReLU(inplace=True))\n",
        "        self.add_module(\n",
        "            \"conv\",\n",
        "            nn.Conv2d(\n",
        "                num_input_features,\n",
        "                num_output_features,\n",
        "                kernel_size=1,\n",
        "                stride=1,\n",
        "                bias=False,\n",
        "            ),\n",
        "        )\n",
        "        self.add_module(\"pool\", nn.AvgPool2d(kernel_size=2, stride=2))\n",
        "\n",
        "\n",
        "class DenseNet(nn.Module):\n",
        "    r\"\"\"Densenet-BC model class, based on\n",
        "    `\"Densely Connected Convolutional Networks\"\n",
        "     <https://arxiv.org/pdf/1608.06993.pdf>`_\n",
        "\n",
        "    Args:\n",
        "        growth_rate (int) - how many filters to add each layer (`k` in paper)\n",
        "        block_config (list of 4 ints) - how many layers in each pooling block\n",
        "        num_init_features (int) - the number of filters to learn in the first\n",
        "        convolution layer\n",
        "        bn_size (int) - multiplicative factor for number of bottle neck layers\n",
        "          (i.e. bn_size * k features in the bottleneck layer)\n",
        "        drop_rate (float) - dropout rate after each dense layer\n",
        "        num_classes (int) - number of classification classes\n",
        "    \"\"\"\n",
        "\n",
        "    __constants__ = [\"features\"]\n",
        "\n",
        "    def __init__(\n",
        "        self,\n",
        "        growth_rate=32,\n",
        "        block_config=(6, 12, 24, 16),\n",
        "        num_init_features=64,\n",
        "        bn_size=4,\n",
        "        drop_rate=0,\n",
        "        num_classes=1000,\n",
        "        memory_efficient=False,\n",
        "    ):\n",
        "\n",
        "        super(DenseNet, self).__init__()\n",
        "\n",
        "        self.features = nn.Sequential(\n",
        "            OrderedDict(\n",
        "                [\n",
        "                    (\n",
        "                        \"conv0\",\n",
        "                        nn.Conv2d(\n",
        "                            3,\n",
        "                            num_init_features,\n",
        "                            kernel_size=7,\n",
        "                            stride=2,\n",
        "                            padding=3,\n",
        "                            bias=False,\n",
        "                        ),\n",
        "                    ),\n",
        "                    (\"norm0\", nn.BatchNorm2d(num_init_features)),\n",
        "                    (\"relu0\", nn.ReLU(inplace=True)),\n",
        "                    (\n",
        "                        \"pool0\",\n",
        "                        nn.MaxPool2d(kernel_size=3, stride=2, padding=1),\n",
        "                    ),\n",
        "                ]\n",
        "            )\n",
        "        )\n",
        "\n",
        "        num_features = num_init_features\n",
        "        for i, num_layers in enumerate(block_config):\n",
        "            block = DenseBlock(\n",
        "                num_layers=num_layers,\n",
        "                num_input_features=num_features,\n",
        "                bn_size=bn_size,\n",
        "                growth_rate=growth_rate,\n",
        "                drop_rate=drop_rate,\n",
        "            )\n",
        "            self.features.add_module(\"dense_block%d\" % (i + 1), block)\n",
        "            num_features = num_features + num_layers * growth_rate\n",
        "            if i != len(block_config) - 1:\n",
        "                trans = Transition(\n",
        "                    num_input_features=num_features,\n",
        "                    num_output_features=num_features // 2,\n",
        "                )\n",
        "                self.features.add_module(\"transition%d\" % (i + 1), trans)\n",
        "                num_features = num_features // 2\n",
        "\n",
        "        self.features.add_module(\"norm5\", nn.BatchNorm2d(num_features))\n",
        "\n",
        "        self.classifier = nn.Linear(num_features, num_classes)\n",
        "\n",
        "        for m in self.modules():\n",
        "            if isinstance(m, nn.Conv2d):\n",
        "                nn.init.kaiming_normal_(m.weight)\n",
        "            elif isinstance(m, nn.BatchNorm2d):\n",
        "                nn.init.constant_(m.weight, 1)\n",
        "                nn.init.constant_(m.bias, 0)\n",
        "            elif isinstance(m, nn.Linear):\n",
        "                nn.init.constant_(m.bias, 0)\n",
        "\n",
        "    def forward(self, x):\n",
        "        features = self.features(x)\n",
        "        out = F.relu(features, inplace=True)\n",
        "        out = F.adaptive_avg_pool2d(out, (1, 1))\n",
        "        out = torch.flatten(out, 1)\n",
        "        out = self.classifier(out)\n",
        "        return out\n"
      ],
      "execution_count": 0,
      "outputs": []
    },
    {
      "cell_type": "markdown",
      "metadata": {
        "id": "24bC0atDs6Zw",
        "colab_type": "text"
      },
      "source": [
        "## Training"
      ]
    },
    {
      "cell_type": "code",
      "metadata": {
        "id": "m_1TAuO3slEw",
        "colab_type": "code",
        "colab": {}
      },
      "source": [
        "import argparse\n",
        "from getpass import getpass\n",
        "\n",
        "from ipython_secrets import *\n",
        "import numpy as np\n",
        "import torch\n",
        "import torch.nn as nn\n",
        "import torchvision.datasets as datasets\n",
        "import torchvision.transforms as transforms\n",
        "\n",
        "from torch.autograd import Variable\n",
        "from tqdm import tqdm\n",
        "\n",
        "from sklearn.metrics import accuracy_score, f1_score\n",
        "\n",
        "def compute_metric(metric, labels, predictions, **kwargs):\n",
        "    return metric(\n",
        "        labels.cpu().data.numpy(), \n",
        "        torch.argmax(predictions.cpu(), dim=1).data.numpy(),\n",
        "        **kwargs\n",
        "    )\n",
        "\n",
        "def read_args():\n",
        "    parser = argparse.ArgumentParser(\n",
        "        description=\"Image classification demo \"\n",
        "        + \"of DenseNet in PyTorch on CIFAR 100\"\n",
        "    )\n",
        "\n",
        "    parser.add_argument(\n",
        "        \"--num-epochs\",\n",
        "        default=25,\n",
        "        type=int,\n",
        "        help=\"Number of total epochs to run\",\n",
        "    )\n",
        "\n",
        "    parser.add_argument(\n",
        "        \"--batch-size\", default=64, type=int, help=\"Batch size (default: 64)\"\n",
        "    )\n",
        "\n",
        "    parser.add_argument(\n",
        "        \"--lr\",\n",
        "        \"--learning-rate\",\n",
        "        default=1e-2,\n",
        "        type=float,\n",
        "        help=\"Initial learning rate (default: 1e-2)\",\n",
        "    )    \n",
        "    \n",
        "    parser.add_argument(\n",
        "        \"--threshold\",\n",
        "        default=0.5,\n",
        "        type=float,\n",
        "        help=\"Threshold for predictions\",\n",
        "    )\n",
        "\n",
        "    parser.add_argument(\"--momentum\", default=0.9, type=float, help=\"momentum\")\n",
        "\n",
        "    parser.add_argument(\n",
        "        \"--weight-decay\",\n",
        "        \"--wd\",\n",
        "        default=1e-4,\n",
        "        type=float,\n",
        "        help=\"Weight decay (default: 1e-4)\",\n",
        "    )\n",
        "\n",
        "    parser.add_argument(\n",
        "        \"--dropout\", default=0, type=float, help=\"Dropout rate (default: 0.0)\"\n",
        "    )\n",
        "\n",
        "    parser.add_argument(\n",
        "        \"--ckpt\",\n",
        "        default=\"\",\n",
        "        type=str,\n",
        "        help=\"Path to the latest checkpoint (default: none)\",\n",
        "    )\n",
        "\n",
        "    parser.add_argument(\n",
        "        \"--comet-logging\",\n",
        "        default=True,\n",
        "        help=\"Whether to log progress to TensorBoard\",\n",
        "        action=\"store_true\",\n",
        "    )\n",
        "    return parser\n",
        "\n",
        "\n",
        "def train_and_evaluate():\n",
        "    transform = transforms.Compose(\n",
        "        [\n",
        "            transforms.ToTensor(),\n",
        "            transforms.Normalize(\n",
        "                mean=np.asarray(CIFAR_100_MEAN) / 255.0,\n",
        "                std=np.asarray(CIFAR_100_STD) / 255.0,\n",
        "            ),\n",
        "        ]\n",
        "    )\n",
        "    data_dirname = \"./data\"\n",
        "\n",
        "    train_data = datasets.CIFAR100(\n",
        "        root=data_dirname, train=True, download=True, transform=transform\n",
        "    )\n",
        "    test_data = datasets.CIFAR100(\n",
        "        root=data_dirname, train=False, download=True, transform=transform\n",
        "    )\n",
        "\n",
        "    args = read_args().parse_args(args=[])\n",
        "    args.growth_rate = 32\n",
        "    args.block_config = (6, 12, 24, 16)\n",
        "    args.num_init_features = 64\n",
        "    args.bn_size = 4\n",
        "    args.num_classes = 1000\n",
        "\n",
        "    train_loader = torch.utils.data.DataLoader(\n",
        "        train_data,\n",
        "        batch_size=args.batch_size,\n",
        "        shuffle=True,\n",
        "        num_workers=1,\n",
        "        pin_memory=True,\n",
        "    )\n",
        "\n",
        "    test_loader = torch.utils.data.DataLoader(\n",
        "        test_data,\n",
        "        batch_size=args.batch_size,\n",
        "        shuffle=False,\n",
        "        num_workers=1,\n",
        "        pin_memory=True,\n",
        "    )\n",
        "\n",
        "    if args.comet_logging:\n",
        "        comet_ml_api_key = get_secret(\"comet-{}\".format(PROJECT))\n",
        "\n",
        "        experiment = Experiment(\n",
        "            api_key=comet_ml_api_key,\n",
        "            project_name=PROJECT,\n",
        "            workspace=PROJECT,\n",
        "            auto_output_logging=None,\n",
        "        )\n",
        "        experiment.log_parameters(vars(args))\n",
        "\n",
        "    model = DenseNet(\n",
        "        growth_rate=args.growth_rate,\n",
        "        block_config=args.block_config,\n",
        "        num_init_features=args.num_init_features,\n",
        "        bn_size=args.bn_size,\n",
        "        drop_rate=args.dropout,\n",
        "        num_classes=args.num_classes,\n",
        "    )\n",
        "    model.to(DEVICE)\n",
        "\n",
        "    criterion = nn.CrossEntropyLoss()\n",
        "    optimizer = torch.optim.Adam(model.parameters(), lr=args.lr)\n",
        "\n",
        "    with experiment.train():\n",
        "        model.train()\n",
        "        step = 0\n",
        "        for epoch in range(1, args.num_epochs + 1):\n",
        "            experiment.log_current_epoch(epoch)\n",
        "            with tqdm(\n",
        "                total=len(train_data) // args.batch_size,\n",
        "                desc=\"Epoch {}: Step\".format(epoch)\n",
        "            ) as pbar:\n",
        "                for idx, (images, labels) in enumerate(train_loader):\n",
        "                    images = Variable(images.to(DEVICE))\n",
        "                    labels = Variable(labels.to(DEVICE))\n",
        "\n",
        "                    optimizer.zero_grad()\n",
        "                    outputs = model(images)\n",
        "                    loss = criterion(outputs, labels)\n",
        "                    loss.backward()\n",
        "                    optimizer.step()\n",
        "\n",
        "                    experiment.set_step(step)\n",
        "                    experiment.log_metric(\"loss\", loss.data.item())\n",
        "                    \n",
        "                    predictions = torch.nn.functional.softmax(outputs, dim=0)\n",
        "                    accuracy = compute_metric(accuracy_score, \n",
        "                                              labels,\n",
        "                                              predictions)\n",
        "                    f1 = compute_metric(f1_score, \n",
        "                                        labels,\n",
        "                                        predictions, \n",
        "                                        average=\"macro\")                    \n",
        "                    \n",
        "                    experiment.log_metrics({\n",
        "                        \"accuracy\": accuracy,\n",
        "                        \"f1\": f1\n",
        "                        }, step=step\n",
        "                    )\n",
        "                    step += 1\n",
        "                    if (idx + 1) % 100 == 0:\n",
        "                        print(\"\\n\")\n",
        "                        print(\"-\" * 80)\n",
        "                        print(\n",
        "                            \"Epoch [%d/%d], Step [%d/%d], Loss: %.4f\"\n",
        "                            % (\n",
        "                                epoch,\n",
        "                                args.num_epochs,\n",
        "                                idx + 1,\n",
        "                                len(train_data) // args.batch_size,\n",
        "                                loss.data.item(),\n",
        "                            ) + \", Accuracy: {:.4f}\".format(accuracy) \n",
        "                            + \", F1: {:.4f}\".format(f1)\n",
        "                        )\n",
        "                        print(\"-\" * 80)\n",
        "                    pbar.update()\n",
        "\n",
        "        with experiment.test():\n",
        "            model.eval()\n",
        "\n",
        "            total_accuracy = 0\n",
        "            total_f1 = 0\n",
        "            count = 0\n",
        "            with tqdm(\n",
        "                total=len(test_data) // args.batch_size, desc=\"Test Step\".format(epoch)\n",
        "            ) as pbar:\n",
        "                for idx, (images, labels) in enumerate(test_loader):\n",
        "                    images = Variable(images.to(DEVICE))\n",
        "                    labels = Variable(labels.to(DEVICE))\n",
        "\n",
        "                    outputs = model(images)\n",
        "                    loss = criterion(outputs, labels)\n",
        "               \n",
        "                    predictions = torch.nn.functional.softmax(outputs, dim=0)\n",
        "                    count += 1\n",
        "                    total_accuracy += compute_metric(accuracy_score, \n",
        "                                              labels,\n",
        "                                              predictions)\n",
        "                    total_f1 += compute_metric(f1_score, \n",
        "                                        labels,\n",
        "                                        predictions,\n",
        "                                        average=\"macro\")     \n",
        "                    pbar.update()\n",
        "\n",
        "            experiment.log_metrics({\n",
        "                        \"mean_accuracy\": total_accuracy / count,\n",
        "                        \"mean_f1\": total_f1 / count\n",
        "                        }, step=step\n",
        "            )\n",
        "            print(\"\\n\")\n",
        "            print(\"-\" * 80)\n",
        "            print(\n",
        "                \"Test accuracy on {} images: {}\".format(\n",
        "                    len(test_data), accuracy\n",
        "                )\n",
        "            )\n",
        "            print(\"-\" * 80)"
      ],
      "execution_count": 0,
      "outputs": []
    },
    {
      "cell_type": "code",
      "metadata": {
        "id": "OyhaqJi0s89D",
        "colab_type": "code",
        "outputId": "14f15c6e-9ebc-4692-99c5-71ccd6ddb648",
        "colab": {
          "base_uri": "https://localhost:8080/",
          "height": 1000
        }
      },
      "source": [
        "train_and_evaluate()"
      ],
      "execution_count": 17,
      "outputs": [
        {
          "output_type": "stream",
          "text": [
            "Files already downloaded and verified\n",
            "Files already downloaded and verified\n"
          ],
          "name": "stdout"
        },
        {
          "output_type": "stream",
          "text": [
            "COMET INFO: ----------------------------\n",
            "COMET INFO: Comet.ml Experiment Summary:\n",
            "COMET INFO:   Data:\n",
            "COMET INFO:     url: https://www.comet.ml/fastrino/fastrino/3279df58bbd84550b2b0d44b5f57c89f\n",
            "COMET INFO:   Metrics [count] (min, max):\n",
            "COMET INFO:     sys.cpu.percent.01                 : (26.7, 26.7)\n",
            "COMET INFO:     sys.cpu.percent.02                 : (18.0, 18.0)\n",
            "COMET INFO:     sys.cpu.percent.avg                : (22.35, 22.35)\n",
            "COMET INFO:     sys.gpu.0.free_memory              : (10715201536.0, 10715201536.0)\n",
            "COMET INFO:     sys.gpu.0.gpu_utilization          : (0.0, 0.0)\n",
            "COMET INFO:     sys.gpu.0.total_memory             : (11996954624.0, 11996954624.0)\n",
            "COMET INFO:     sys.gpu.0.used_memory              : (1281753088.0, 1281753088.0)\n",
            "COMET INFO:     sys.ram.total                      : (13655232512.0, 13655232512.0)\n",
            "COMET INFO:     sys.ram.used                       : (3038855168.0, 3038855168.0)\n",
            "COMET INFO:     train_accuracy [867]               : (0.0, 0.265625)\n",
            "COMET INFO:     train_curr_epoch [2]               : 1\n",
            "COMET INFO:     train_f1 [867]                     : (0.0, 0.17136150234741784)\n",
            "COMET INFO:     train_loss [954]                   : (3.218127727508545, 8.26651382446289)\n",
            "COMET INFO:     train_sys.cpu.percent.01 [2]       : (59.8, 70.3)\n",
            "COMET INFO:     train_sys.cpu.percent.02 [2]       : (49.6, 60.1)\n",
            "COMET INFO:     train_sys.cpu.percent.avg [2]      : (59.95, 59.95)\n",
            "COMET INFO:     train_sys.gpu.0.free_memory [3]    : (10639704064.0, 10639704064.0)\n",
            "COMET INFO:     train_sys.gpu.0.gpu_utilization [3]: (51.0, 58.0)\n",
            "COMET INFO:     train_sys.gpu.0.used_memory [3]    : (1357250560.0, 1357250560.0)\n",
            "COMET INFO:     train_sys.ram.total [2]            : (13655232512.0, 13655232512.0)\n",
            "COMET INFO:     train_sys.ram.used [2]             : (3079630848.0, 3082047488.0)\n",
            "COMET INFO: ----------------------------\n",
            "COMET INFO: Experiment is live on comet.ml https://www.comet.ml/fastrino/fastrino/61bfc94fa14849e1bc97fc751775e639\n",
            "\n",
            "Epoch 1: Step:   0%|          | 0/781 [00:00<?, ?it/s]/usr/local/lib/python3.6/dist-packages/sklearn/metrics/classification.py:1437: UndefinedMetricWarning: F-score is ill-defined and being set to 0.0 in labels with no predicted samples.\n",
            "  'precision', 'predicted', average, warn_for)\n",
            "/usr/local/lib/python3.6/dist-packages/sklearn/metrics/classification.py:1439: UndefinedMetricWarning: F-score is ill-defined and being set to 0.0 in labels with no true samples.\n",
            "  'recall', 'true', average, warn_for)\n",
            "Epoch 1: Step:  13%|█▎        | 100/781 [00:22<02:28,  4.58it/s]"
          ],
          "name": "stderr"
        },
        {
          "output_type": "stream",
          "text": [
            "\n",
            "\n",
            "--------------------------------------------------------------------------------\n",
            "Epoch [1/25], Step [100/781], Loss: 5.2882, Accuracy: 0.0156, F1: 0.0098\n",
            "--------------------------------------------------------------------------------\n"
          ],
          "name": "stdout"
        },
        {
          "output_type": "stream",
          "text": [
            "Epoch 1: Step:  26%|██▌       | 200/781 [00:44<02:04,  4.67it/s]"
          ],
          "name": "stderr"
        },
        {
          "output_type": "stream",
          "text": [
            "\n",
            "\n",
            "--------------------------------------------------------------------------------\n",
            "Epoch [1/25], Step [200/781], Loss: 4.4105, Accuracy: 0.0625, F1: 0.0292\n",
            "--------------------------------------------------------------------------------\n"
          ],
          "name": "stdout"
        },
        {
          "output_type": "stream",
          "text": [
            "Epoch 1: Step:  38%|███▊      | 300/781 [01:06<01:43,  4.64it/s]"
          ],
          "name": "stderr"
        },
        {
          "output_type": "stream",
          "text": [
            "\n",
            "\n",
            "--------------------------------------------------------------------------------\n",
            "Epoch [1/25], Step [300/781], Loss: 4.2240, Accuracy: 0.1406, F1: 0.0502\n",
            "--------------------------------------------------------------------------------\n"
          ],
          "name": "stdout"
        },
        {
          "output_type": "stream",
          "text": [
            "Epoch 1: Step:  51%|█████     | 400/781 [01:28<01:22,  4.64it/s]"
          ],
          "name": "stderr"
        },
        {
          "output_type": "stream",
          "text": [
            "\n",
            "\n",
            "--------------------------------------------------------------------------------\n",
            "Epoch [1/25], Step [400/781], Loss: 3.8160, Accuracy: 0.0781, F1: 0.0392\n",
            "--------------------------------------------------------------------------------\n"
          ],
          "name": "stdout"
        },
        {
          "output_type": "stream",
          "text": [
            "Epoch 1: Step:  64%|██████▍   | 500/781 [01:50<01:00,  4.65it/s]"
          ],
          "name": "stderr"
        },
        {
          "output_type": "stream",
          "text": [
            "\n",
            "\n",
            "--------------------------------------------------------------------------------\n",
            "Epoch [1/25], Step [500/781], Loss: 4.0282, Accuracy: 0.0781, F1: 0.0476\n",
            "--------------------------------------------------------------------------------\n"
          ],
          "name": "stdout"
        },
        {
          "output_type": "stream",
          "text": [
            "Epoch 1: Step:  77%|███████▋  | 600/781 [02:12<00:39,  4.59it/s]"
          ],
          "name": "stderr"
        },
        {
          "output_type": "stream",
          "text": [
            "\n",
            "\n",
            "--------------------------------------------------------------------------------\n",
            "Epoch [1/25], Step [600/781], Loss: 4.1266, Accuracy: 0.0625, F1: 0.0411\n",
            "--------------------------------------------------------------------------------\n"
          ],
          "name": "stdout"
        },
        {
          "output_type": "stream",
          "text": [
            "Epoch 1: Step:  90%|████████▉ | 700/781 [02:34<00:17,  4.59it/s]"
          ],
          "name": "stderr"
        },
        {
          "output_type": "stream",
          "text": [
            "\n",
            "\n",
            "--------------------------------------------------------------------------------\n",
            "Epoch [1/25], Step [700/781], Loss: 3.4206, Accuracy: 0.1875, F1: 0.1338\n",
            "--------------------------------------------------------------------------------\n"
          ],
          "name": "stdout"
        },
        {
          "output_type": "stream",
          "text": [
            "Epoch 1: Step: 782it [02:51,  4.78it/s]                         \n",
            "Epoch 2: Step:  13%|█▎        | 100/781 [00:21<02:32,  4.47it/s]"
          ],
          "name": "stderr"
        },
        {
          "output_type": "stream",
          "text": [
            "\n",
            "\n",
            "--------------------------------------------------------------------------------\n",
            "Epoch [2/25], Step [100/781], Loss: 3.8816, Accuracy: 0.0781, F1: 0.0383\n",
            "--------------------------------------------------------------------------------\n"
          ],
          "name": "stdout"
        },
        {
          "output_type": "stream",
          "text": [
            "Epoch 2: Step:  26%|██▌       | 200/781 [00:43<02:09,  4.50it/s]"
          ],
          "name": "stderr"
        },
        {
          "output_type": "stream",
          "text": [
            "\n",
            "\n",
            "--------------------------------------------------------------------------------\n",
            "Epoch [2/25], Step [200/781], Loss: 3.2903, Accuracy: 0.1719, F1: 0.0968\n",
            "--------------------------------------------------------------------------------\n"
          ],
          "name": "stdout"
        },
        {
          "output_type": "stream",
          "text": [
            "Epoch 2: Step:  38%|███▊      | 300/781 [01:05<01:46,  4.52it/s]"
          ],
          "name": "stderr"
        },
        {
          "output_type": "stream",
          "text": [
            "\n",
            "\n",
            "--------------------------------------------------------------------------------\n",
            "Epoch [2/25], Step [300/781], Loss: 3.2685, Accuracy: 0.3125, F1: 0.2111\n",
            "--------------------------------------------------------------------------------\n"
          ],
          "name": "stdout"
        },
        {
          "output_type": "stream",
          "text": [
            "Epoch 2: Step:  51%|█████     | 400/781 [01:27<01:26,  4.43it/s]"
          ],
          "name": "stderr"
        },
        {
          "output_type": "stream",
          "text": [
            "\n",
            "\n",
            "--------------------------------------------------------------------------------\n",
            "Epoch [2/25], Step [400/781], Loss: 3.5725, Accuracy: 0.1719, F1: 0.0939\n",
            "--------------------------------------------------------------------------------\n"
          ],
          "name": "stdout"
        },
        {
          "output_type": "stream",
          "text": [
            "Epoch 2: Step:  64%|██████▍   | 500/781 [01:49<01:02,  4.49it/s]"
          ],
          "name": "stderr"
        },
        {
          "output_type": "stream",
          "text": [
            "\n",
            "\n",
            "--------------------------------------------------------------------------------\n",
            "Epoch [2/25], Step [500/781], Loss: 3.4398, Accuracy: 0.1875, F1: 0.1167\n",
            "--------------------------------------------------------------------------------\n"
          ],
          "name": "stdout"
        },
        {
          "output_type": "stream",
          "text": [
            "Epoch 2: Step:  77%|███████▋  | 600/781 [02:11<00:39,  4.54it/s]"
          ],
          "name": "stderr"
        },
        {
          "output_type": "stream",
          "text": [
            "\n",
            "\n",
            "--------------------------------------------------------------------------------\n",
            "Epoch [2/25], Step [600/781], Loss: 3.4066, Accuracy: 0.1406, F1: 0.0752\n",
            "--------------------------------------------------------------------------------\n"
          ],
          "name": "stdout"
        },
        {
          "output_type": "stream",
          "text": [
            "Epoch 2: Step:  90%|████████▉ | 700/781 [02:32<00:17,  4.54it/s]"
          ],
          "name": "stderr"
        },
        {
          "output_type": "stream",
          "text": [
            "\n",
            "\n",
            "--------------------------------------------------------------------------------\n",
            "Epoch [2/25], Step [700/781], Loss: 3.2819, Accuracy: 0.2188, F1: 0.1644\n",
            "--------------------------------------------------------------------------------\n"
          ],
          "name": "stdout"
        },
        {
          "output_type": "stream",
          "text": [
            "Epoch 2: Step: 782it [02:50,  4.96it/s]                         \n",
            "Epoch 3: Step:  13%|█▎        | 100/781 [00:21<02:29,  4.56it/s]"
          ],
          "name": "stderr"
        },
        {
          "output_type": "stream",
          "text": [
            "\n",
            "\n",
            "--------------------------------------------------------------------------------\n",
            "Epoch [3/25], Step [100/781], Loss: 2.6794, Accuracy: 0.2656, F1: 0.1641\n",
            "--------------------------------------------------------------------------------\n"
          ],
          "name": "stdout"
        },
        {
          "output_type": "stream",
          "text": [
            "Epoch 3: Step:  26%|██▌       | 200/781 [00:43<02:09,  4.48it/s]"
          ],
          "name": "stderr"
        },
        {
          "output_type": "stream",
          "text": [
            "\n",
            "\n",
            "--------------------------------------------------------------------------------\n",
            "Epoch [3/25], Step [200/781], Loss: 3.2690, Accuracy: 0.2031, F1: 0.1270\n",
            "--------------------------------------------------------------------------------\n"
          ],
          "name": "stdout"
        },
        {
          "output_type": "stream",
          "text": [
            "Epoch 3: Step:  38%|███▊      | 300/781 [01:05<01:44,  4.61it/s]"
          ],
          "name": "stderr"
        },
        {
          "output_type": "stream",
          "text": [
            "\n",
            "\n",
            "--------------------------------------------------------------------------------\n",
            "Epoch [3/25], Step [300/781], Loss: 3.1201, Accuracy: 0.2500, F1: 0.1459\n",
            "--------------------------------------------------------------------------------\n"
          ],
          "name": "stdout"
        },
        {
          "output_type": "stream",
          "text": [
            "Epoch 3: Step:  51%|█████     | 400/781 [01:27<01:25,  4.44it/s]"
          ],
          "name": "stderr"
        },
        {
          "output_type": "stream",
          "text": [
            "\n",
            "\n",
            "--------------------------------------------------------------------------------\n",
            "Epoch [3/25], Step [400/781], Loss: 2.5957, Accuracy: 0.3281, F1: 0.2137\n",
            "--------------------------------------------------------------------------------\n"
          ],
          "name": "stdout"
        },
        {
          "output_type": "stream",
          "text": [
            "Epoch 3: Step:  64%|██████▍   | 500/781 [01:49<01:02,  4.53it/s]"
          ],
          "name": "stderr"
        },
        {
          "output_type": "stream",
          "text": [
            "\n",
            "\n",
            "--------------------------------------------------------------------------------\n",
            "Epoch [3/25], Step [500/781], Loss: 2.9369, Accuracy: 0.2656, F1: 0.1962\n",
            "--------------------------------------------------------------------------------\n"
          ],
          "name": "stdout"
        },
        {
          "output_type": "stream",
          "text": [
            "Epoch 3: Step:  77%|███████▋  | 600/781 [02:10<00:39,  4.63it/s]"
          ],
          "name": "stderr"
        },
        {
          "output_type": "stream",
          "text": [
            "\n",
            "\n",
            "--------------------------------------------------------------------------------\n",
            "Epoch [3/25], Step [600/781], Loss: 2.9069, Accuracy: 0.2500, F1: 0.1779\n",
            "--------------------------------------------------------------------------------\n"
          ],
          "name": "stdout"
        },
        {
          "output_type": "stream",
          "text": [
            "Epoch 3: Step:  90%|████████▉ | 700/781 [02:32<00:17,  4.58it/s]"
          ],
          "name": "stderr"
        },
        {
          "output_type": "stream",
          "text": [
            "\n",
            "\n",
            "--------------------------------------------------------------------------------\n",
            "Epoch [3/25], Step [700/781], Loss: 2.9049, Accuracy: 0.3125, F1: 0.2153\n",
            "--------------------------------------------------------------------------------\n"
          ],
          "name": "stdout"
        },
        {
          "output_type": "stream",
          "text": [
            "Epoch 3: Step: 782it [02:50,  4.92it/s]                         \n",
            "Epoch 4: Step:  13%|█▎        | 100/781 [00:21<02:27,  4.63it/s]"
          ],
          "name": "stderr"
        },
        {
          "output_type": "stream",
          "text": [
            "\n",
            "\n",
            "--------------------------------------------------------------------------------\n",
            "Epoch [4/25], Step [100/781], Loss: 2.8340, Accuracy: 0.2500, F1: 0.1842\n",
            "--------------------------------------------------------------------------------\n"
          ],
          "name": "stdout"
        },
        {
          "output_type": "stream",
          "text": [
            "Epoch 4: Step:  26%|██▌       | 200/781 [00:43<02:04,  4.65it/s]"
          ],
          "name": "stderr"
        },
        {
          "output_type": "stream",
          "text": [
            "\n",
            "\n",
            "--------------------------------------------------------------------------------\n",
            "Epoch [4/25], Step [200/781], Loss: 2.4561, Accuracy: 0.3594, F1: 0.2633\n",
            "--------------------------------------------------------------------------------\n"
          ],
          "name": "stdout"
        },
        {
          "output_type": "stream",
          "text": [
            "Epoch 4: Step:  38%|███▊      | 300/781 [01:05<01:42,  4.69it/s]"
          ],
          "name": "stderr"
        },
        {
          "output_type": "stream",
          "text": [
            "\n",
            "\n",
            "--------------------------------------------------------------------------------\n",
            "Epoch [4/25], Step [300/781], Loss: 2.8872, Accuracy: 0.2188, F1: 0.1382\n",
            "--------------------------------------------------------------------------------\n"
          ],
          "name": "stdout"
        },
        {
          "output_type": "stream",
          "text": [
            "Epoch 4: Step:  51%|█████     | 400/781 [01:27<01:22,  4.59it/s]"
          ],
          "name": "stderr"
        },
        {
          "output_type": "stream",
          "text": [
            "\n",
            "\n",
            "--------------------------------------------------------------------------------\n",
            "Epoch [4/25], Step [400/781], Loss: 2.5295, Accuracy: 0.2969, F1: 0.1961\n",
            "--------------------------------------------------------------------------------\n"
          ],
          "name": "stdout"
        },
        {
          "output_type": "stream",
          "text": [
            "Epoch 4: Step:  64%|██████▍   | 500/781 [01:48<00:59,  4.72it/s]"
          ],
          "name": "stderr"
        },
        {
          "output_type": "stream",
          "text": [
            "\n",
            "\n",
            "--------------------------------------------------------------------------------\n",
            "Epoch [4/25], Step [500/781], Loss: 2.8369, Accuracy: 0.2500, F1: 0.1632\n",
            "--------------------------------------------------------------------------------\n"
          ],
          "name": "stdout"
        },
        {
          "output_type": "stream",
          "text": [
            "Epoch 4: Step:  77%|███████▋  | 600/781 [02:10<00:38,  4.64it/s]"
          ],
          "name": "stderr"
        },
        {
          "output_type": "stream",
          "text": [
            "\n",
            "\n",
            "--------------------------------------------------------------------------------\n",
            "Epoch [4/25], Step [600/781], Loss: 2.9828, Accuracy: 0.2344, F1: 0.1688\n",
            "--------------------------------------------------------------------------------\n"
          ],
          "name": "stdout"
        },
        {
          "output_type": "stream",
          "text": [
            "Epoch 4: Step:  90%|████████▉ | 700/781 [02:32<00:17,  4.60it/s]"
          ],
          "name": "stderr"
        },
        {
          "output_type": "stream",
          "text": [
            "\n",
            "\n",
            "--------------------------------------------------------------------------------\n",
            "Epoch [4/25], Step [700/781], Loss: 2.7160, Accuracy: 0.2188, F1: 0.1542\n",
            "--------------------------------------------------------------------------------\n"
          ],
          "name": "stdout"
        },
        {
          "output_type": "stream",
          "text": [
            "Epoch 4: Step: 782it [02:50,  4.97it/s]                         \n",
            "Epoch 5: Step:  13%|█▎        | 100/781 [00:22<02:28,  4.59it/s]"
          ],
          "name": "stderr"
        },
        {
          "output_type": "stream",
          "text": [
            "\n",
            "\n",
            "--------------------------------------------------------------------------------\n",
            "Epoch [5/25], Step [100/781], Loss: 2.2564, Accuracy: 0.3438, F1: 0.2219\n",
            "--------------------------------------------------------------------------------\n"
          ],
          "name": "stdout"
        },
        {
          "output_type": "stream",
          "text": [
            "Epoch 5: Step:  26%|██▌       | 200/781 [00:45<02:08,  4.53it/s]"
          ],
          "name": "stderr"
        },
        {
          "output_type": "stream",
          "text": [
            "\n",
            "\n",
            "--------------------------------------------------------------------------------\n",
            "Epoch [5/25], Step [200/781], Loss: 2.5831, Accuracy: 0.3125, F1: 0.2140\n",
            "--------------------------------------------------------------------------------\n"
          ],
          "name": "stdout"
        },
        {
          "output_type": "stream",
          "text": [
            "Epoch 5: Step:  38%|███▊      | 300/781 [01:07<01:46,  4.52it/s]"
          ],
          "name": "stderr"
        },
        {
          "output_type": "stream",
          "text": [
            "\n",
            "\n",
            "--------------------------------------------------------------------------------\n",
            "Epoch [5/25], Step [300/781], Loss: 2.5813, Accuracy: 0.2812, F1: 0.1910\n",
            "--------------------------------------------------------------------------------\n"
          ],
          "name": "stdout"
        },
        {
          "output_type": "stream",
          "text": [
            "Epoch 5: Step:  51%|█████     | 400/781 [01:29<01:25,  4.48it/s]"
          ],
          "name": "stderr"
        },
        {
          "output_type": "stream",
          "text": [
            "\n",
            "\n",
            "--------------------------------------------------------------------------------\n",
            "Epoch [5/25], Step [400/781], Loss: 2.2020, Accuracy: 0.3281, F1: 0.2104\n",
            "--------------------------------------------------------------------------------\n"
          ],
          "name": "stdout"
        },
        {
          "output_type": "stream",
          "text": [
            "Epoch 5: Step:  64%|██████▍   | 500/781 [01:51<01:01,  4.58it/s]"
          ],
          "name": "stderr"
        },
        {
          "output_type": "stream",
          "text": [
            "\n",
            "\n",
            "--------------------------------------------------------------------------------\n",
            "Epoch [5/25], Step [500/781], Loss: 3.1742, Accuracy: 0.2344, F1: 0.1585\n",
            "--------------------------------------------------------------------------------\n"
          ],
          "name": "stdout"
        },
        {
          "output_type": "stream",
          "text": [
            "Epoch 5: Step:  77%|███████▋  | 600/781 [02:13<00:40,  4.42it/s]"
          ],
          "name": "stderr"
        },
        {
          "output_type": "stream",
          "text": [
            "\n",
            "\n",
            "--------------------------------------------------------------------------------\n",
            "Epoch [5/25], Step [600/781], Loss: 2.6639, Accuracy: 0.2188, F1: 0.1342\n",
            "--------------------------------------------------------------------------------\n"
          ],
          "name": "stdout"
        },
        {
          "output_type": "stream",
          "text": [
            "Epoch 5: Step:  90%|████████▉ | 700/781 [02:35<00:17,  4.60it/s]"
          ],
          "name": "stderr"
        },
        {
          "output_type": "stream",
          "text": [
            "\n",
            "\n",
            "--------------------------------------------------------------------------------\n",
            "Epoch [5/25], Step [700/781], Loss: 2.3110, Accuracy: 0.3438, F1: 0.2303\n",
            "--------------------------------------------------------------------------------\n"
          ],
          "name": "stdout"
        },
        {
          "output_type": "stream",
          "text": [
            "Epoch 5: Step: 782it [02:53,  4.85it/s]                         \n",
            "Epoch 6: Step:  13%|█▎        | 100/781 [00:22<02:30,  4.51it/s]"
          ],
          "name": "stderr"
        },
        {
          "output_type": "stream",
          "text": [
            "\n",
            "\n",
            "--------------------------------------------------------------------------------\n",
            "Epoch [6/25], Step [100/781], Loss: 2.4346, Accuracy: 0.2500, F1: 0.1590\n",
            "--------------------------------------------------------------------------------\n"
          ],
          "name": "stdout"
        },
        {
          "output_type": "stream",
          "text": [
            "Epoch 6: Step:  26%|██▌       | 200/781 [00:44<02:06,  4.58it/s]"
          ],
          "name": "stderr"
        },
        {
          "output_type": "stream",
          "text": [
            "\n",
            "\n",
            "--------------------------------------------------------------------------------\n",
            "Epoch [6/25], Step [200/781], Loss: 2.3096, Accuracy: 0.2969, F1: 0.2169\n",
            "--------------------------------------------------------------------------------\n"
          ],
          "name": "stdout"
        },
        {
          "output_type": "stream",
          "text": [
            "Epoch 6: Step:  38%|███▊      | 300/781 [01:06<01:44,  4.60it/s]"
          ],
          "name": "stderr"
        },
        {
          "output_type": "stream",
          "text": [
            "\n",
            "\n",
            "--------------------------------------------------------------------------------\n",
            "Epoch [6/25], Step [300/781], Loss: 2.4127, Accuracy: 0.3906, F1: 0.2950\n",
            "--------------------------------------------------------------------------------\n"
          ],
          "name": "stdout"
        },
        {
          "output_type": "stream",
          "text": [
            "Epoch 6: Step:  51%|█████     | 400/781 [01:28<01:25,  4.44it/s]"
          ],
          "name": "stderr"
        },
        {
          "output_type": "stream",
          "text": [
            "\n",
            "\n",
            "--------------------------------------------------------------------------------\n",
            "Epoch [6/25], Step [400/781], Loss: 1.9264, Accuracy: 0.3438, F1: 0.2261\n",
            "--------------------------------------------------------------------------------\n"
          ],
          "name": "stdout"
        },
        {
          "output_type": "stream",
          "text": [
            "Epoch 6: Step:  64%|██████▍   | 500/781 [01:50<01:02,  4.48it/s]"
          ],
          "name": "stderr"
        },
        {
          "output_type": "stream",
          "text": [
            "\n",
            "\n",
            "--------------------------------------------------------------------------------\n",
            "Epoch [6/25], Step [500/781], Loss: 2.3323, Accuracy: 0.3281, F1: 0.2306\n",
            "--------------------------------------------------------------------------------\n"
          ],
          "name": "stdout"
        },
        {
          "output_type": "stream",
          "text": [
            "Epoch 6: Step:  77%|███████▋  | 600/781 [02:12<00:39,  4.59it/s]"
          ],
          "name": "stderr"
        },
        {
          "output_type": "stream",
          "text": [
            "\n",
            "\n",
            "--------------------------------------------------------------------------------\n",
            "Epoch [6/25], Step [600/781], Loss: 2.1438, Accuracy: 0.3438, F1: 0.2654\n",
            "--------------------------------------------------------------------------------\n"
          ],
          "name": "stdout"
        },
        {
          "output_type": "stream",
          "text": [
            "Epoch 6: Step:  90%|████████▉ | 700/781 [02:34<00:17,  4.56it/s]"
          ],
          "name": "stderr"
        },
        {
          "output_type": "stream",
          "text": [
            "\n",
            "\n",
            "--------------------------------------------------------------------------------\n",
            "Epoch [6/25], Step [700/781], Loss: 2.2785, Accuracy: 0.3594, F1: 0.2756\n",
            "--------------------------------------------------------------------------------\n"
          ],
          "name": "stdout"
        },
        {
          "output_type": "stream",
          "text": [
            "Epoch 6: Step: 782it [02:52,  4.89it/s]                         \n",
            "Epoch 7: Step:  13%|█▎        | 100/781 [00:21<02:32,  4.47it/s]"
          ],
          "name": "stderr"
        },
        {
          "output_type": "stream",
          "text": [
            "\n",
            "\n",
            "--------------------------------------------------------------------------------\n",
            "Epoch [7/25], Step [100/781], Loss: 1.7746, Accuracy: 0.3750, F1: 0.2707\n",
            "--------------------------------------------------------------------------------\n"
          ],
          "name": "stdout"
        },
        {
          "output_type": "stream",
          "text": [
            "Epoch 7: Step:  26%|██▌       | 200/781 [00:44<02:13,  4.36it/s]"
          ],
          "name": "stderr"
        },
        {
          "output_type": "stream",
          "text": [
            "\n",
            "\n",
            "--------------------------------------------------------------------------------\n",
            "Epoch [7/25], Step [200/781], Loss: 2.0068, Accuracy: 0.3125, F1: 0.2135\n",
            "--------------------------------------------------------------------------------\n"
          ],
          "name": "stdout"
        },
        {
          "output_type": "stream",
          "text": [
            "Epoch 7: Step:  38%|███▊      | 300/781 [01:06<01:47,  4.49it/s]"
          ],
          "name": "stderr"
        },
        {
          "output_type": "stream",
          "text": [
            "\n",
            "\n",
            "--------------------------------------------------------------------------------\n",
            "Epoch [7/25], Step [300/781], Loss: 2.1758, Accuracy: 0.2812, F1: 0.1667\n",
            "--------------------------------------------------------------------------------\n"
          ],
          "name": "stdout"
        },
        {
          "output_type": "stream",
          "text": [
            "Epoch 7: Step:  51%|█████     | 400/781 [01:28<01:24,  4.49it/s]"
          ],
          "name": "stderr"
        },
        {
          "output_type": "stream",
          "text": [
            "\n",
            "\n",
            "--------------------------------------------------------------------------------\n",
            "Epoch [7/25], Step [400/781], Loss: 2.2080, Accuracy: 0.3281, F1: 0.2417\n",
            "--------------------------------------------------------------------------------\n"
          ],
          "name": "stdout"
        },
        {
          "output_type": "stream",
          "text": [
            "Epoch 7: Step:  64%|██████▍   | 500/781 [01:50<01:02,  4.48it/s]"
          ],
          "name": "stderr"
        },
        {
          "output_type": "stream",
          "text": [
            "\n",
            "\n",
            "--------------------------------------------------------------------------------\n",
            "Epoch [7/25], Step [500/781], Loss: 1.9022, Accuracy: 0.4062, F1: 0.2793\n",
            "--------------------------------------------------------------------------------\n"
          ],
          "name": "stdout"
        },
        {
          "output_type": "stream",
          "text": [
            "Epoch 7: Step:  77%|███████▋  | 600/781 [02:12<00:40,  4.44it/s]"
          ],
          "name": "stderr"
        },
        {
          "output_type": "stream",
          "text": [
            "\n",
            "\n",
            "--------------------------------------------------------------------------------\n",
            "Epoch [7/25], Step [600/781], Loss: 1.6643, Accuracy: 0.4531, F1: 0.3200\n",
            "--------------------------------------------------------------------------------\n"
          ],
          "name": "stdout"
        },
        {
          "output_type": "stream",
          "text": [
            "Epoch 7: Step:  90%|████████▉ | 700/781 [02:34<00:18,  4.49it/s]"
          ],
          "name": "stderr"
        },
        {
          "output_type": "stream",
          "text": [
            "\n",
            "\n",
            "--------------------------------------------------------------------------------\n",
            "Epoch [7/25], Step [700/781], Loss: 2.0628, Accuracy: 0.3750, F1: 0.2676\n",
            "--------------------------------------------------------------------------------\n"
          ],
          "name": "stdout"
        },
        {
          "output_type": "stream",
          "text": [
            "Epoch 7: Step: 782it [02:52,  4.85it/s]                         \n",
            "Epoch 8: Step:  13%|█▎        | 100/781 [00:22<02:28,  4.58it/s]"
          ],
          "name": "stderr"
        },
        {
          "output_type": "stream",
          "text": [
            "\n",
            "\n",
            "--------------------------------------------------------------------------------\n",
            "Epoch [8/25], Step [100/781], Loss: 2.3351, Accuracy: 0.3125, F1: 0.2352\n",
            "--------------------------------------------------------------------------------\n"
          ],
          "name": "stdout"
        },
        {
          "output_type": "stream",
          "text": [
            "Epoch 8: Step:  26%|██▌       | 200/781 [00:44<02:09,  4.49it/s]"
          ],
          "name": "stderr"
        },
        {
          "output_type": "stream",
          "text": [
            "\n",
            "\n",
            "--------------------------------------------------------------------------------\n",
            "Epoch [8/25], Step [200/781], Loss: 2.0511, Accuracy: 0.4062, F1: 0.2933\n",
            "--------------------------------------------------------------------------------\n"
          ],
          "name": "stdout"
        },
        {
          "output_type": "stream",
          "text": [
            "Epoch 8: Step:  38%|███▊      | 300/781 [01:06<01:45,  4.56it/s]"
          ],
          "name": "stderr"
        },
        {
          "output_type": "stream",
          "text": [
            "\n",
            "\n",
            "--------------------------------------------------------------------------------\n",
            "Epoch [8/25], Step [300/781], Loss: 1.9220, Accuracy: 0.3281, F1: 0.2443\n",
            "--------------------------------------------------------------------------------\n"
          ],
          "name": "stdout"
        },
        {
          "output_type": "stream",
          "text": [
            "Epoch 8: Step:  51%|█████     | 400/781 [01:28<01:23,  4.59it/s]"
          ],
          "name": "stderr"
        },
        {
          "output_type": "stream",
          "text": [
            "\n",
            "\n",
            "--------------------------------------------------------------------------------\n",
            "Epoch [8/25], Step [400/781], Loss: 1.8910, Accuracy: 0.4219, F1: 0.3188\n",
            "--------------------------------------------------------------------------------\n"
          ],
          "name": "stdout"
        },
        {
          "output_type": "stream",
          "text": [
            "Epoch 8: Step:  64%|██████▍   | 500/781 [01:50<01:02,  4.51it/s]"
          ],
          "name": "stderr"
        },
        {
          "output_type": "stream",
          "text": [
            "\n",
            "\n",
            "--------------------------------------------------------------------------------\n",
            "Epoch [8/25], Step [500/781], Loss: 2.0058, Accuracy: 0.3281, F1: 0.2156\n",
            "--------------------------------------------------------------------------------\n"
          ],
          "name": "stdout"
        },
        {
          "output_type": "stream",
          "text": [
            "Epoch 8: Step:  77%|███████▋  | 600/781 [02:12<00:40,  4.52it/s]"
          ],
          "name": "stderr"
        },
        {
          "output_type": "stream",
          "text": [
            "\n",
            "\n",
            "--------------------------------------------------------------------------------\n",
            "Epoch [8/25], Step [600/781], Loss: 1.8678, Accuracy: 0.3906, F1: 0.2551\n",
            "--------------------------------------------------------------------------------\n"
          ],
          "name": "stdout"
        },
        {
          "output_type": "stream",
          "text": [
            "Epoch 8: Step:  90%|████████▉ | 700/781 [02:34<00:17,  4.62it/s]"
          ],
          "name": "stderr"
        },
        {
          "output_type": "stream",
          "text": [
            "\n",
            "\n",
            "--------------------------------------------------------------------------------\n",
            "Epoch [8/25], Step [700/781], Loss: 1.6744, Accuracy: 0.5000, F1: 0.4034\n",
            "--------------------------------------------------------------------------------\n"
          ],
          "name": "stdout"
        },
        {
          "output_type": "stream",
          "text": [
            "Epoch 8: Step: 782it [02:52,  4.70it/s]                         \n",
            "Epoch 9: Step:  13%|█▎        | 100/781 [00:22<02:28,  4.58it/s]"
          ],
          "name": "stderr"
        },
        {
          "output_type": "stream",
          "text": [
            "\n",
            "\n",
            "--------------------------------------------------------------------------------\n",
            "Epoch [9/25], Step [100/781], Loss: 2.0730, Accuracy: 0.3125, F1: 0.2208\n",
            "--------------------------------------------------------------------------------\n"
          ],
          "name": "stdout"
        },
        {
          "output_type": "stream",
          "text": [
            "Epoch 9: Step:  26%|██▌       | 200/781 [00:44<02:05,  4.64it/s]"
          ],
          "name": "stderr"
        },
        {
          "output_type": "stream",
          "text": [
            "\n",
            "\n",
            "--------------------------------------------------------------------------------\n",
            "Epoch [9/25], Step [200/781], Loss: 1.9299, Accuracy: 0.3750, F1: 0.2590\n",
            "--------------------------------------------------------------------------------\n"
          ],
          "name": "stdout"
        },
        {
          "output_type": "stream",
          "text": [
            "Epoch 9: Step:  38%|███▊      | 300/781 [01:06<01:46,  4.50it/s]"
          ],
          "name": "stderr"
        },
        {
          "output_type": "stream",
          "text": [
            "\n",
            "\n",
            "--------------------------------------------------------------------------------\n",
            "Epoch [9/25], Step [300/781], Loss: 1.6219, Accuracy: 0.4062, F1: 0.3023\n",
            "--------------------------------------------------------------------------------\n"
          ],
          "name": "stdout"
        },
        {
          "output_type": "stream",
          "text": [
            "Epoch 9: Step:  51%|█████     | 400/781 [01:28<01:24,  4.49it/s]"
          ],
          "name": "stderr"
        },
        {
          "output_type": "stream",
          "text": [
            "\n",
            "\n",
            "--------------------------------------------------------------------------------\n",
            "Epoch [9/25], Step [400/781], Loss: 1.8821, Accuracy: 0.4062, F1: 0.3086\n",
            "--------------------------------------------------------------------------------\n"
          ],
          "name": "stdout"
        },
        {
          "output_type": "stream",
          "text": [
            "Epoch 9: Step:  64%|██████▍   | 500/781 [01:50<01:01,  4.54it/s]"
          ],
          "name": "stderr"
        },
        {
          "output_type": "stream",
          "text": [
            "\n",
            "\n",
            "--------------------------------------------------------------------------------\n",
            "Epoch [9/25], Step [500/781], Loss: 2.1783, Accuracy: 0.2812, F1: 0.1785\n",
            "--------------------------------------------------------------------------------\n"
          ],
          "name": "stdout"
        },
        {
          "output_type": "stream",
          "text": [
            "Epoch 9: Step:  77%|███████▋  | 600/781 [02:12<00:40,  4.50it/s]"
          ],
          "name": "stderr"
        },
        {
          "output_type": "stream",
          "text": [
            "\n",
            "\n",
            "--------------------------------------------------------------------------------\n",
            "Epoch [9/25], Step [600/781], Loss: 1.8961, Accuracy: 0.4062, F1: 0.3039\n",
            "--------------------------------------------------------------------------------\n"
          ],
          "name": "stdout"
        },
        {
          "output_type": "stream",
          "text": [
            "Epoch 9: Step:  90%|████████▉ | 700/781 [02:35<00:17,  4.52it/s]"
          ],
          "name": "stderr"
        },
        {
          "output_type": "stream",
          "text": [
            "\n",
            "\n",
            "--------------------------------------------------------------------------------\n",
            "Epoch [9/25], Step [700/781], Loss: 2.1709, Accuracy: 0.2812, F1: 0.1963\n",
            "--------------------------------------------------------------------------------\n"
          ],
          "name": "stdout"
        },
        {
          "output_type": "stream",
          "text": [
            "Epoch 9: Step: 782it [02:53,  4.85it/s]                         \n",
            "Epoch 10: Step:  13%|█▎        | 100/781 [00:22<02:28,  4.58it/s]"
          ],
          "name": "stderr"
        },
        {
          "output_type": "stream",
          "text": [
            "\n",
            "\n",
            "--------------------------------------------------------------------------------\n",
            "Epoch [10/25], Step [100/781], Loss: 1.5048, Accuracy: 0.4688, F1: 0.3192\n",
            "--------------------------------------------------------------------------------\n"
          ],
          "name": "stdout"
        },
        {
          "output_type": "stream",
          "text": [
            "Epoch 10: Step:  26%|██▌       | 200/781 [00:44<02:06,  4.60it/s]"
          ],
          "name": "stderr"
        },
        {
          "output_type": "stream",
          "text": [
            "\n",
            "\n",
            "--------------------------------------------------------------------------------\n",
            "Epoch [10/25], Step [200/781], Loss: 1.3243, Accuracy: 0.3906, F1: 0.2844\n",
            "--------------------------------------------------------------------------------\n"
          ],
          "name": "stdout"
        },
        {
          "output_type": "stream",
          "text": [
            "Epoch 10: Step:  38%|███▊      | 300/781 [01:06<01:47,  4.49it/s]"
          ],
          "name": "stderr"
        },
        {
          "output_type": "stream",
          "text": [
            "\n",
            "\n",
            "--------------------------------------------------------------------------------\n",
            "Epoch [10/25], Step [300/781], Loss: 1.6664, Accuracy: 0.4688, F1: 0.3357\n",
            "--------------------------------------------------------------------------------\n"
          ],
          "name": "stdout"
        },
        {
          "output_type": "stream",
          "text": [
            "Epoch 10: Step:  51%|█████     | 400/781 [01:29<01:22,  4.59it/s]"
          ],
          "name": "stderr"
        },
        {
          "output_type": "stream",
          "text": [
            "\n",
            "\n",
            "--------------------------------------------------------------------------------\n",
            "Epoch [10/25], Step [400/781], Loss: 1.9786, Accuracy: 0.3438, F1: 0.2281\n",
            "--------------------------------------------------------------------------------\n"
          ],
          "name": "stdout"
        },
        {
          "output_type": "stream",
          "text": [
            "Epoch 10: Step:  64%|██████▍   | 500/781 [01:51<01:02,  4.53it/s]"
          ],
          "name": "stderr"
        },
        {
          "output_type": "stream",
          "text": [
            "\n",
            "\n",
            "--------------------------------------------------------------------------------\n",
            "Epoch [10/25], Step [500/781], Loss: 1.7822, Accuracy: 0.3594, F1: 0.2697\n",
            "--------------------------------------------------------------------------------\n"
          ],
          "name": "stdout"
        },
        {
          "output_type": "stream",
          "text": [
            "Epoch 10: Step:  77%|███████▋  | 600/781 [02:13<00:39,  4.59it/s]"
          ],
          "name": "stderr"
        },
        {
          "output_type": "stream",
          "text": [
            "\n",
            "\n",
            "--------------------------------------------------------------------------------\n",
            "Epoch [10/25], Step [600/781], Loss: 1.5099, Accuracy: 0.4062, F1: 0.2977\n",
            "--------------------------------------------------------------------------------\n"
          ],
          "name": "stdout"
        },
        {
          "output_type": "stream",
          "text": [
            "Epoch 10: Step:  90%|████████▉ | 700/781 [02:35<00:17,  4.55it/s]"
          ],
          "name": "stderr"
        },
        {
          "output_type": "stream",
          "text": [
            "\n",
            "\n",
            "--------------------------------------------------------------------------------\n",
            "Epoch [10/25], Step [700/781], Loss: 1.9132, Accuracy: 0.4062, F1: 0.2981\n",
            "--------------------------------------------------------------------------------\n"
          ],
          "name": "stdout"
        },
        {
          "output_type": "stream",
          "text": [
            "Epoch 10: Step: 782it [02:53,  4.93it/s]                         \n",
            "Epoch 11: Step:  13%|█▎        | 100/781 [00:22<02:28,  4.60it/s]"
          ],
          "name": "stderr"
        },
        {
          "output_type": "stream",
          "text": [
            "\n",
            "\n",
            "--------------------------------------------------------------------------------\n",
            "Epoch [11/25], Step [100/781], Loss: 1.4552, Accuracy: 0.4531, F1: 0.3286\n",
            "--------------------------------------------------------------------------------\n"
          ],
          "name": "stdout"
        },
        {
          "output_type": "stream",
          "text": [
            "Epoch 11: Step:  26%|██▌       | 200/781 [00:44<02:09,  4.48it/s]"
          ],
          "name": "stderr"
        },
        {
          "output_type": "stream",
          "text": [
            "\n",
            "\n",
            "--------------------------------------------------------------------------------\n",
            "Epoch [11/25], Step [200/781], Loss: 1.6440, Accuracy: 0.4219, F1: 0.2957\n",
            "--------------------------------------------------------------------------------\n"
          ],
          "name": "stdout"
        },
        {
          "output_type": "stream",
          "text": [
            "Epoch 11: Step:  38%|███▊      | 300/781 [01:06<01:47,  4.48it/s]"
          ],
          "name": "stderr"
        },
        {
          "output_type": "stream",
          "text": [
            "\n",
            "\n",
            "--------------------------------------------------------------------------------\n",
            "Epoch [11/25], Step [300/781], Loss: 1.5675, Accuracy: 0.4531, F1: 0.3196\n",
            "--------------------------------------------------------------------------------\n"
          ],
          "name": "stdout"
        },
        {
          "output_type": "stream",
          "text": [
            "Epoch 11: Step:  51%|█████     | 400/781 [01:29<01:22,  4.59it/s]"
          ],
          "name": "stderr"
        },
        {
          "output_type": "stream",
          "text": [
            "\n",
            "\n",
            "--------------------------------------------------------------------------------\n",
            "Epoch [11/25], Step [400/781], Loss: 1.4902, Accuracy: 0.4531, F1: 0.3264\n",
            "--------------------------------------------------------------------------------\n"
          ],
          "name": "stdout"
        },
        {
          "output_type": "stream",
          "text": [
            "Epoch 11: Step:  64%|██████▍   | 500/781 [01:51<01:03,  4.46it/s]"
          ],
          "name": "stderr"
        },
        {
          "output_type": "stream",
          "text": [
            "\n",
            "\n",
            "--------------------------------------------------------------------------------\n",
            "Epoch [11/25], Step [500/781], Loss: 1.4341, Accuracy: 0.4688, F1: 0.3539\n",
            "--------------------------------------------------------------------------------\n"
          ],
          "name": "stdout"
        },
        {
          "output_type": "stream",
          "text": [
            "Epoch 11: Step:  77%|███████▋  | 600/781 [02:13<00:40,  4.47it/s]"
          ],
          "name": "stderr"
        },
        {
          "output_type": "stream",
          "text": [
            "\n",
            "\n",
            "--------------------------------------------------------------------------------\n",
            "Epoch [11/25], Step [600/781], Loss: 1.6927, Accuracy: 0.4531, F1: 0.3422\n",
            "--------------------------------------------------------------------------------\n"
          ],
          "name": "stdout"
        },
        {
          "output_type": "stream",
          "text": [
            "Epoch 11: Step:  90%|████████▉ | 700/781 [02:35<00:17,  4.56it/s]"
          ],
          "name": "stderr"
        },
        {
          "output_type": "stream",
          "text": [
            "\n",
            "\n",
            "--------------------------------------------------------------------------------\n",
            "Epoch [11/25], Step [700/781], Loss: 1.7077, Accuracy: 0.4531, F1: 0.3406\n",
            "--------------------------------------------------------------------------------\n"
          ],
          "name": "stdout"
        },
        {
          "output_type": "stream",
          "text": [
            "Epoch 11: Step: 782it [02:54,  4.81it/s]                         \n",
            "Epoch 12: Step:  13%|█▎        | 100/781 [00:22<02:35,  4.39it/s]"
          ],
          "name": "stderr"
        },
        {
          "output_type": "stream",
          "text": [
            "\n",
            "\n",
            "--------------------------------------------------------------------------------\n",
            "Epoch [12/25], Step [100/781], Loss: 1.3508, Accuracy: 0.3281, F1: 0.2201\n",
            "--------------------------------------------------------------------------------\n"
          ],
          "name": "stdout"
        },
        {
          "output_type": "stream",
          "text": [
            "Epoch 12: Step:  26%|██▌       | 200/781 [00:44<02:13,  4.37it/s]"
          ],
          "name": "stderr"
        },
        {
          "output_type": "stream",
          "text": [
            "\n",
            "\n",
            "--------------------------------------------------------------------------------\n",
            "Epoch [12/25], Step [200/781], Loss: 1.6011, Accuracy: 0.3906, F1: 0.2606\n",
            "--------------------------------------------------------------------------------\n"
          ],
          "name": "stdout"
        },
        {
          "output_type": "stream",
          "text": [
            "Epoch 12: Step:  38%|███▊      | 300/781 [01:07<01:47,  4.47it/s]"
          ],
          "name": "stderr"
        },
        {
          "output_type": "stream",
          "text": [
            "\n",
            "\n",
            "--------------------------------------------------------------------------------\n",
            "Epoch [12/25], Step [300/781], Loss: 1.6643, Accuracy: 0.4219, F1: 0.3037\n",
            "--------------------------------------------------------------------------------\n"
          ],
          "name": "stdout"
        },
        {
          "output_type": "stream",
          "text": [
            "Epoch 12: Step:  51%|█████     | 400/781 [01:29<01:26,  4.41it/s]"
          ],
          "name": "stderr"
        },
        {
          "output_type": "stream",
          "text": [
            "\n",
            "\n",
            "--------------------------------------------------------------------------------\n",
            "Epoch [12/25], Step [400/781], Loss: 1.2318, Accuracy: 0.4844, F1: 0.3720\n",
            "--------------------------------------------------------------------------------\n"
          ],
          "name": "stdout"
        },
        {
          "output_type": "stream",
          "text": [
            "Epoch 12: Step:  64%|██████▍   | 500/781 [01:51<01:03,  4.40it/s]"
          ],
          "name": "stderr"
        },
        {
          "output_type": "stream",
          "text": [
            "\n",
            "\n",
            "--------------------------------------------------------------------------------\n",
            "Epoch [12/25], Step [500/781], Loss: 1.7840, Accuracy: 0.4844, F1: 0.3581\n",
            "--------------------------------------------------------------------------------\n"
          ],
          "name": "stdout"
        },
        {
          "output_type": "stream",
          "text": [
            "Epoch 12: Step:  77%|███████▋  | 600/781 [02:13<00:42,  4.27it/s]"
          ],
          "name": "stderr"
        },
        {
          "output_type": "stream",
          "text": [
            "\n",
            "\n",
            "--------------------------------------------------------------------------------\n",
            "Epoch [12/25], Step [600/781], Loss: 1.4519, Accuracy: 0.4219, F1: 0.3000\n",
            "--------------------------------------------------------------------------------\n"
          ],
          "name": "stdout"
        },
        {
          "output_type": "stream",
          "text": [
            "Epoch 12: Step:  90%|████████▉ | 700/781 [02:36<00:18,  4.45it/s]"
          ],
          "name": "stderr"
        },
        {
          "output_type": "stream",
          "text": [
            "\n",
            "\n",
            "--------------------------------------------------------------------------------\n",
            "Epoch [12/25], Step [700/781], Loss: 1.5264, Accuracy: 0.4688, F1: 0.3685\n",
            "--------------------------------------------------------------------------------\n"
          ],
          "name": "stdout"
        },
        {
          "output_type": "stream",
          "text": [
            "Epoch 12: Step: 782it [02:54,  4.86it/s]                         \n",
            "Epoch 13: Step:  13%|█▎        | 100/781 [00:22<02:32,  4.45it/s]"
          ],
          "name": "stderr"
        },
        {
          "output_type": "stream",
          "text": [
            "\n",
            "\n",
            "--------------------------------------------------------------------------------\n",
            "Epoch [13/25], Step [100/781], Loss: 1.3128, Accuracy: 0.5469, F1: 0.3882\n",
            "--------------------------------------------------------------------------------\n"
          ],
          "name": "stdout"
        },
        {
          "output_type": "stream",
          "text": [
            "Epoch 13: Step:  26%|██▌       | 200/781 [00:44<02:07,  4.57it/s]"
          ],
          "name": "stderr"
        },
        {
          "output_type": "stream",
          "text": [
            "\n",
            "\n",
            "--------------------------------------------------------------------------------\n",
            "Epoch [13/25], Step [200/781], Loss: 1.3965, Accuracy: 0.5156, F1: 0.4143\n",
            "--------------------------------------------------------------------------------\n"
          ],
          "name": "stdout"
        },
        {
          "output_type": "stream",
          "text": [
            "Epoch 13: Step:  38%|███▊      | 300/781 [01:07<01:48,  4.44it/s]"
          ],
          "name": "stderr"
        },
        {
          "output_type": "stream",
          "text": [
            "\n",
            "\n",
            "--------------------------------------------------------------------------------\n",
            "Epoch [13/25], Step [300/781], Loss: 1.1910, Accuracy: 0.5469, F1: 0.4438\n",
            "--------------------------------------------------------------------------------\n"
          ],
          "name": "stdout"
        },
        {
          "output_type": "stream",
          "text": [
            "Epoch 13: Step:  51%|█████     | 400/781 [01:29<01:25,  4.47it/s]"
          ],
          "name": "stderr"
        },
        {
          "output_type": "stream",
          "text": [
            "\n",
            "\n",
            "--------------------------------------------------------------------------------\n",
            "Epoch [13/25], Step [400/781], Loss: 1.6437, Accuracy: 0.4688, F1: 0.3604\n",
            "--------------------------------------------------------------------------------\n"
          ],
          "name": "stdout"
        },
        {
          "output_type": "stream",
          "text": [
            "Epoch 13: Step:  64%|██████▍   | 500/781 [01:51<01:03,  4.39it/s]"
          ],
          "name": "stderr"
        },
        {
          "output_type": "stream",
          "text": [
            "\n",
            "\n",
            "--------------------------------------------------------------------------------\n",
            "Epoch [13/25], Step [500/781], Loss: 1.5603, Accuracy: 0.4531, F1: 0.3401\n",
            "--------------------------------------------------------------------------------\n"
          ],
          "name": "stdout"
        },
        {
          "output_type": "stream",
          "text": [
            "Epoch 13: Step:  77%|███████▋  | 600/781 [02:14<00:40,  4.43it/s]"
          ],
          "name": "stderr"
        },
        {
          "output_type": "stream",
          "text": [
            "\n",
            "\n",
            "--------------------------------------------------------------------------------\n",
            "Epoch [13/25], Step [600/781], Loss: 1.4954, Accuracy: 0.4062, F1: 0.3119\n",
            "--------------------------------------------------------------------------------\n"
          ],
          "name": "stdout"
        },
        {
          "output_type": "stream",
          "text": [
            "Epoch 13: Step:  90%|████████▉ | 700/781 [02:36<00:18,  4.45it/s]"
          ],
          "name": "stderr"
        },
        {
          "output_type": "stream",
          "text": [
            "\n",
            "\n",
            "--------------------------------------------------------------------------------\n",
            "Epoch [13/25], Step [700/781], Loss: 1.4345, Accuracy: 0.4062, F1: 0.3082\n",
            "--------------------------------------------------------------------------------\n"
          ],
          "name": "stdout"
        },
        {
          "output_type": "stream",
          "text": [
            "Epoch 13: Step: 782it [02:54,  4.95it/s]                         \n",
            "Epoch 14: Step:  13%|█▎        | 100/781 [00:22<02:31,  4.49it/s]"
          ],
          "name": "stderr"
        },
        {
          "output_type": "stream",
          "text": [
            "\n",
            "\n",
            "--------------------------------------------------------------------------------\n",
            "Epoch [14/25], Step [100/781], Loss: 1.1787, Accuracy: 0.4531, F1: 0.3423\n",
            "--------------------------------------------------------------------------------\n"
          ],
          "name": "stdout"
        },
        {
          "output_type": "stream",
          "text": [
            "Epoch 14: Step:  26%|██▌       | 200/781 [00:44<02:14,  4.32it/s]"
          ],
          "name": "stderr"
        },
        {
          "output_type": "stream",
          "text": [
            "\n",
            "\n",
            "--------------------------------------------------------------------------------\n",
            "Epoch [14/25], Step [200/781], Loss: 1.0370, Accuracy: 0.5938, F1: 0.4726\n",
            "--------------------------------------------------------------------------------\n"
          ],
          "name": "stdout"
        },
        {
          "output_type": "stream",
          "text": [
            "Epoch 14: Step:  38%|███▊      | 300/781 [01:06<01:44,  4.62it/s]"
          ],
          "name": "stderr"
        },
        {
          "output_type": "stream",
          "text": [
            "\n",
            "\n",
            "--------------------------------------------------------------------------------\n",
            "Epoch [14/25], Step [300/781], Loss: 1.1014, Accuracy: 0.4688, F1: 0.3444\n",
            "--------------------------------------------------------------------------------\n"
          ],
          "name": "stdout"
        },
        {
          "output_type": "stream",
          "text": [
            "Epoch 14: Step:  51%|█████     | 400/781 [01:29<01:26,  4.42it/s]"
          ],
          "name": "stderr"
        },
        {
          "output_type": "stream",
          "text": [
            "\n",
            "\n",
            "--------------------------------------------------------------------------------\n",
            "Epoch [14/25], Step [400/781], Loss: 1.2007, Accuracy: 0.5312, F1: 0.4067\n",
            "--------------------------------------------------------------------------------\n"
          ],
          "name": "stdout"
        },
        {
          "output_type": "stream",
          "text": [
            "Epoch 14: Step:  64%|██████▍   | 500/781 [01:51<01:01,  4.60it/s]"
          ],
          "name": "stderr"
        },
        {
          "output_type": "stream",
          "text": [
            "\n",
            "\n",
            "--------------------------------------------------------------------------------\n",
            "Epoch [14/25], Step [500/781], Loss: 1.3618, Accuracy: 0.4531, F1: 0.3592\n",
            "--------------------------------------------------------------------------------\n"
          ],
          "name": "stdout"
        },
        {
          "output_type": "stream",
          "text": [
            "Epoch 14: Step:  77%|███████▋  | 600/781 [02:13<00:40,  4.48it/s]"
          ],
          "name": "stderr"
        },
        {
          "output_type": "stream",
          "text": [
            "\n",
            "\n",
            "--------------------------------------------------------------------------------\n",
            "Epoch [14/25], Step [600/781], Loss: 1.1557, Accuracy: 0.4844, F1: 0.3560\n",
            "--------------------------------------------------------------------------------\n"
          ],
          "name": "stdout"
        },
        {
          "output_type": "stream",
          "text": [
            "Epoch 14: Step:  90%|████████▉ | 700/781 [02:35<00:18,  4.49it/s]"
          ],
          "name": "stderr"
        },
        {
          "output_type": "stream",
          "text": [
            "\n",
            "\n",
            "--------------------------------------------------------------------------------\n",
            "Epoch [14/25], Step [700/781], Loss: 1.3171, Accuracy: 0.4844, F1: 0.3662\n",
            "--------------------------------------------------------------------------------\n"
          ],
          "name": "stdout"
        },
        {
          "output_type": "stream",
          "text": [
            "Epoch 14: Step: 782it [02:54,  4.71it/s]                         \n",
            "Epoch 15: Step:  13%|█▎        | 100/781 [00:22<02:32,  4.48it/s]"
          ],
          "name": "stderr"
        },
        {
          "output_type": "stream",
          "text": [
            "\n",
            "\n",
            "--------------------------------------------------------------------------------\n",
            "Epoch [15/25], Step [100/781], Loss: 1.0369, Accuracy: 0.5312, F1: 0.3829\n",
            "--------------------------------------------------------------------------------\n"
          ],
          "name": "stdout"
        },
        {
          "output_type": "stream",
          "text": [
            "Epoch 15: Step:  26%|██▌       | 200/781 [00:44<02:09,  4.50it/s]"
          ],
          "name": "stderr"
        },
        {
          "output_type": "stream",
          "text": [
            "\n",
            "\n",
            "--------------------------------------------------------------------------------\n",
            "Epoch [15/25], Step [200/781], Loss: 1.3707, Accuracy: 0.5000, F1: 0.3963\n",
            "--------------------------------------------------------------------------------\n"
          ],
          "name": "stdout"
        },
        {
          "output_type": "stream",
          "text": [
            "Epoch 15: Step:  38%|███▊      | 300/781 [01:07<01:50,  4.35it/s]"
          ],
          "name": "stderr"
        },
        {
          "output_type": "stream",
          "text": [
            "\n",
            "\n",
            "--------------------------------------------------------------------------------\n",
            "Epoch [15/25], Step [300/781], Loss: 0.8360, Accuracy: 0.4531, F1: 0.3647\n",
            "--------------------------------------------------------------------------------\n"
          ],
          "name": "stdout"
        },
        {
          "output_type": "stream",
          "text": [
            "Epoch 15: Step:  51%|█████     | 400/781 [01:29<01:23,  4.54it/s]"
          ],
          "name": "stderr"
        },
        {
          "output_type": "stream",
          "text": [
            "\n",
            "\n",
            "--------------------------------------------------------------------------------\n",
            "Epoch [15/25], Step [400/781], Loss: 0.9994, Accuracy: 0.5312, F1: 0.3935\n",
            "--------------------------------------------------------------------------------\n"
          ],
          "name": "stdout"
        },
        {
          "output_type": "stream",
          "text": [
            "Epoch 15: Step:  64%|██████▍   | 500/781 [01:51<01:03,  4.42it/s]"
          ],
          "name": "stderr"
        },
        {
          "output_type": "stream",
          "text": [
            "\n",
            "\n",
            "--------------------------------------------------------------------------------\n",
            "Epoch [15/25], Step [500/781], Loss: 0.9991, Accuracy: 0.5625, F1: 0.4186\n",
            "--------------------------------------------------------------------------------\n"
          ],
          "name": "stdout"
        },
        {
          "output_type": "stream",
          "text": [
            "Epoch 15: Step:  77%|███████▋  | 600/781 [02:14<00:40,  4.42it/s]"
          ],
          "name": "stderr"
        },
        {
          "output_type": "stream",
          "text": [
            "\n",
            "\n",
            "--------------------------------------------------------------------------------\n",
            "Epoch [15/25], Step [600/781], Loss: 1.3823, Accuracy: 0.4375, F1: 0.3205\n",
            "--------------------------------------------------------------------------------\n"
          ],
          "name": "stdout"
        },
        {
          "output_type": "stream",
          "text": [
            "Epoch 15: Step:  90%|████████▉ | 700/781 [02:36<00:18,  4.45it/s]"
          ],
          "name": "stderr"
        },
        {
          "output_type": "stream",
          "text": [
            "\n",
            "\n",
            "--------------------------------------------------------------------------------\n",
            "Epoch [15/25], Step [700/781], Loss: 1.2048, Accuracy: 0.4688, F1: 0.3467\n",
            "--------------------------------------------------------------------------------\n"
          ],
          "name": "stdout"
        },
        {
          "output_type": "stream",
          "text": [
            "Epoch 15: Step: 782it [02:54,  4.92it/s]                         \n",
            "Epoch 16: Step:  13%|█▎        | 100/781 [00:22<02:36,  4.36it/s]"
          ],
          "name": "stderr"
        },
        {
          "output_type": "stream",
          "text": [
            "\n",
            "\n",
            "--------------------------------------------------------------------------------\n",
            "Epoch [16/25], Step [100/781], Loss: 0.8167, Accuracy: 0.5781, F1: 0.4460\n",
            "--------------------------------------------------------------------------------\n"
          ],
          "name": "stdout"
        },
        {
          "output_type": "stream",
          "text": [
            "Epoch 16: Step:  26%|██▌       | 200/781 [00:44<02:07,  4.54it/s]"
          ],
          "name": "stderr"
        },
        {
          "output_type": "stream",
          "text": [
            "\n",
            "\n",
            "--------------------------------------------------------------------------------\n",
            "Epoch [16/25], Step [200/781], Loss: 0.9547, Accuracy: 0.5469, F1: 0.4388\n",
            "--------------------------------------------------------------------------------\n"
          ],
          "name": "stdout"
        },
        {
          "output_type": "stream",
          "text": [
            "Epoch 16: Step:  38%|███▊      | 300/781 [01:07<01:45,  4.55it/s]"
          ],
          "name": "stderr"
        },
        {
          "output_type": "stream",
          "text": [
            "\n",
            "\n",
            "--------------------------------------------------------------------------------\n",
            "Epoch [16/25], Step [300/781], Loss: 1.1739, Accuracy: 0.4062, F1: 0.3023\n",
            "--------------------------------------------------------------------------------\n"
          ],
          "name": "stdout"
        },
        {
          "output_type": "stream",
          "text": [
            "Epoch 16: Step:  51%|█████     | 400/781 [01:29<01:23,  4.55it/s]"
          ],
          "name": "stderr"
        },
        {
          "output_type": "stream",
          "text": [
            "\n",
            "\n",
            "--------------------------------------------------------------------------------\n",
            "Epoch [16/25], Step [400/781], Loss: 1.3123, Accuracy: 0.5000, F1: 0.3869\n",
            "--------------------------------------------------------------------------------\n"
          ],
          "name": "stdout"
        },
        {
          "output_type": "stream",
          "text": [
            "Epoch 16: Step:  64%|██████▍   | 500/781 [01:51<01:02,  4.48it/s]"
          ],
          "name": "stderr"
        },
        {
          "output_type": "stream",
          "text": [
            "\n",
            "\n",
            "--------------------------------------------------------------------------------\n",
            "Epoch [16/25], Step [500/781], Loss: 0.6326, Accuracy: 0.5938, F1: 0.4850\n",
            "--------------------------------------------------------------------------------\n"
          ],
          "name": "stdout"
        },
        {
          "output_type": "stream",
          "text": [
            "Epoch 16: Step:  77%|███████▋  | 600/781 [02:14<00:40,  4.47it/s]"
          ],
          "name": "stderr"
        },
        {
          "output_type": "stream",
          "text": [
            "\n",
            "\n",
            "--------------------------------------------------------------------------------\n",
            "Epoch [16/25], Step [600/781], Loss: 1.1462, Accuracy: 0.4219, F1: 0.3108\n",
            "--------------------------------------------------------------------------------\n"
          ],
          "name": "stdout"
        },
        {
          "output_type": "stream",
          "text": [
            "Epoch 16: Step:  90%|████████▉ | 700/781 [02:36<00:18,  4.44it/s]"
          ],
          "name": "stderr"
        },
        {
          "output_type": "stream",
          "text": [
            "\n",
            "\n",
            "--------------------------------------------------------------------------------\n",
            "Epoch [16/25], Step [700/781], Loss: 1.0540, Accuracy: 0.5156, F1: 0.3906\n",
            "--------------------------------------------------------------------------------\n"
          ],
          "name": "stdout"
        },
        {
          "output_type": "stream",
          "text": [
            "Epoch 16: Step: 782it [02:54,  4.87it/s]                         \n",
            "Epoch 17: Step:  13%|█▎        | 100/781 [00:22<02:34,  4.41it/s]"
          ],
          "name": "stderr"
        },
        {
          "output_type": "stream",
          "text": [
            "\n",
            "\n",
            "--------------------------------------------------------------------------------\n",
            "Epoch [17/25], Step [100/781], Loss: 0.6450, Accuracy: 0.5781, F1: 0.4362\n",
            "--------------------------------------------------------------------------------\n"
          ],
          "name": "stdout"
        },
        {
          "output_type": "stream",
          "text": [
            "Epoch 17: Step:  26%|██▌       | 200/781 [00:44<02:10,  4.45it/s]"
          ],
          "name": "stderr"
        },
        {
          "output_type": "stream",
          "text": [
            "\n",
            "\n",
            "--------------------------------------------------------------------------------\n",
            "Epoch [17/25], Step [200/781], Loss: 0.8799, Accuracy: 0.5625, F1: 0.4402\n",
            "--------------------------------------------------------------------------------\n"
          ],
          "name": "stdout"
        },
        {
          "output_type": "stream",
          "text": [
            "Epoch 17: Step:  38%|███▊      | 300/781 [01:06<01:48,  4.44it/s]"
          ],
          "name": "stderr"
        },
        {
          "output_type": "stream",
          "text": [
            "\n",
            "\n",
            "--------------------------------------------------------------------------------\n",
            "Epoch [17/25], Step [300/781], Loss: 1.4474, Accuracy: 0.4688, F1: 0.3729\n",
            "--------------------------------------------------------------------------------\n"
          ],
          "name": "stdout"
        },
        {
          "output_type": "stream",
          "text": [
            "Epoch 17: Step:  51%|█████     | 400/781 [01:29<01:25,  4.44it/s]"
          ],
          "name": "stderr"
        },
        {
          "output_type": "stream",
          "text": [
            "\n",
            "\n",
            "--------------------------------------------------------------------------------\n",
            "Epoch [17/25], Step [400/781], Loss: 0.9883, Accuracy: 0.5000, F1: 0.4061\n",
            "--------------------------------------------------------------------------------\n"
          ],
          "name": "stdout"
        },
        {
          "output_type": "stream",
          "text": [
            "Epoch 17: Step:  64%|██████▍   | 500/781 [01:51<01:03,  4.45it/s]"
          ],
          "name": "stderr"
        },
        {
          "output_type": "stream",
          "text": [
            "\n",
            "\n",
            "--------------------------------------------------------------------------------\n",
            "Epoch [17/25], Step [500/781], Loss: 1.0186, Accuracy: 0.5312, F1: 0.4186\n",
            "--------------------------------------------------------------------------------\n"
          ],
          "name": "stdout"
        },
        {
          "output_type": "stream",
          "text": [
            "Epoch 17: Step:  77%|███████▋  | 600/781 [02:13<00:41,  4.37it/s]"
          ],
          "name": "stderr"
        },
        {
          "output_type": "stream",
          "text": [
            "\n",
            "\n",
            "--------------------------------------------------------------------------------\n",
            "Epoch [17/25], Step [600/781], Loss: 1.1675, Accuracy: 0.4531, F1: 0.3182\n",
            "--------------------------------------------------------------------------------\n"
          ],
          "name": "stdout"
        },
        {
          "output_type": "stream",
          "text": [
            "Epoch 17: Step:  90%|████████▉ | 700/781 [02:35<00:18,  4.46it/s]"
          ],
          "name": "stderr"
        },
        {
          "output_type": "stream",
          "text": [
            "\n",
            "\n",
            "--------------------------------------------------------------------------------\n",
            "Epoch [17/25], Step [700/781], Loss: 0.8145, Accuracy: 0.5625, F1: 0.4421\n",
            "--------------------------------------------------------------------------------\n"
          ],
          "name": "stdout"
        },
        {
          "output_type": "stream",
          "text": [
            "Epoch 17: Step: 782it [02:53,  4.76it/s]                         \n",
            "Epoch 18: Step:  13%|█▎        | 100/781 [00:22<02:27,  4.61it/s]"
          ],
          "name": "stderr"
        },
        {
          "output_type": "stream",
          "text": [
            "\n",
            "\n",
            "--------------------------------------------------------------------------------\n",
            "Epoch [18/25], Step [100/781], Loss: 0.6930, Accuracy: 0.5625, F1: 0.4583\n",
            "--------------------------------------------------------------------------------\n"
          ],
          "name": "stdout"
        },
        {
          "output_type": "stream",
          "text": [
            "Epoch 18: Step:  26%|██▌       | 200/781 [00:44<02:07,  4.57it/s]"
          ],
          "name": "stderr"
        },
        {
          "output_type": "stream",
          "text": [
            "\n",
            "\n",
            "--------------------------------------------------------------------------------\n",
            "Epoch [18/25], Step [200/781], Loss: 1.2076, Accuracy: 0.4688, F1: 0.3498\n",
            "--------------------------------------------------------------------------------\n"
          ],
          "name": "stdout"
        },
        {
          "output_type": "stream",
          "text": [
            "Epoch 18: Step:  38%|███▊      | 300/781 [01:06<01:44,  4.58it/s]"
          ],
          "name": "stderr"
        },
        {
          "output_type": "stream",
          "text": [
            "\n",
            "\n",
            "--------------------------------------------------------------------------------\n",
            "Epoch [18/25], Step [300/781], Loss: 1.0032, Accuracy: 0.5156, F1: 0.3986\n",
            "--------------------------------------------------------------------------------\n"
          ],
          "name": "stdout"
        },
        {
          "output_type": "stream",
          "text": [
            "Epoch 18: Step:  51%|█████     | 400/781 [01:28<01:25,  4.45it/s]"
          ],
          "name": "stderr"
        },
        {
          "output_type": "stream",
          "text": [
            "\n",
            "\n",
            "--------------------------------------------------------------------------------\n",
            "Epoch [18/25], Step [400/781], Loss: 0.7732, Accuracy: 0.5156, F1: 0.3836\n",
            "--------------------------------------------------------------------------------\n"
          ],
          "name": "stdout"
        },
        {
          "output_type": "stream",
          "text": [
            "Epoch 18: Step:  64%|██████▍   | 500/781 [01:50<01:01,  4.56it/s]"
          ],
          "name": "stderr"
        },
        {
          "output_type": "stream",
          "text": [
            "\n",
            "\n",
            "--------------------------------------------------------------------------------\n",
            "Epoch [18/25], Step [500/781], Loss: 0.8167, Accuracy: 0.5625, F1: 0.4396\n",
            "--------------------------------------------------------------------------------\n"
          ],
          "name": "stdout"
        },
        {
          "output_type": "stream",
          "text": [
            "Epoch 18: Step:  77%|███████▋  | 600/781 [02:12<00:40,  4.45it/s]"
          ],
          "name": "stderr"
        },
        {
          "output_type": "stream",
          "text": [
            "\n",
            "\n",
            "--------------------------------------------------------------------------------\n",
            "Epoch [18/25], Step [600/781], Loss: 0.8834, Accuracy: 0.4062, F1: 0.3014\n",
            "--------------------------------------------------------------------------------\n"
          ],
          "name": "stdout"
        },
        {
          "output_type": "stream",
          "text": [
            "Epoch 18: Step:  90%|████████▉ | 700/781 [02:35<00:17,  4.55it/s]"
          ],
          "name": "stderr"
        },
        {
          "output_type": "stream",
          "text": [
            "\n",
            "\n",
            "--------------------------------------------------------------------------------\n",
            "Epoch [18/25], Step [700/781], Loss: 0.7329, Accuracy: 0.5312, F1: 0.4333\n",
            "--------------------------------------------------------------------------------\n"
          ],
          "name": "stdout"
        },
        {
          "output_type": "stream",
          "text": [
            "Epoch 18: Step: 782it [02:52,  5.00it/s]                         \n",
            "Epoch 19: Step:  13%|█▎        | 100/781 [00:22<02:26,  4.64it/s]"
          ],
          "name": "stderr"
        },
        {
          "output_type": "stream",
          "text": [
            "\n",
            "\n",
            "--------------------------------------------------------------------------------\n",
            "Epoch [19/25], Step [100/781], Loss: 0.5232, Accuracy: 0.5312, F1: 0.4105\n",
            "--------------------------------------------------------------------------------\n"
          ],
          "name": "stdout"
        },
        {
          "output_type": "stream",
          "text": [
            "Epoch 19: Step:  26%|██▌       | 200/781 [00:44<02:06,  4.59it/s]"
          ],
          "name": "stderr"
        },
        {
          "output_type": "stream",
          "text": [
            "\n",
            "\n",
            "--------------------------------------------------------------------------------\n",
            "Epoch [19/25], Step [200/781], Loss: 0.9084, Accuracy: 0.4844, F1: 0.3643\n",
            "--------------------------------------------------------------------------------\n"
          ],
          "name": "stdout"
        },
        {
          "output_type": "stream",
          "text": [
            "Epoch 19: Step:  38%|███▊      | 300/781 [01:06<01:45,  4.58it/s]"
          ],
          "name": "stderr"
        },
        {
          "output_type": "stream",
          "text": [
            "\n",
            "\n",
            "--------------------------------------------------------------------------------\n",
            "Epoch [19/25], Step [300/781], Loss: 0.6579, Accuracy: 0.5312, F1: 0.3986\n",
            "--------------------------------------------------------------------------------\n"
          ],
          "name": "stdout"
        },
        {
          "output_type": "stream",
          "text": [
            "Epoch 19: Step:  51%|█████     | 400/781 [01:28<01:25,  4.48it/s]"
          ],
          "name": "stderr"
        },
        {
          "output_type": "stream",
          "text": [
            "\n",
            "\n",
            "--------------------------------------------------------------------------------\n",
            "Epoch [19/25], Step [400/781], Loss: 0.8528, Accuracy: 0.5000, F1: 0.3727\n",
            "--------------------------------------------------------------------------------\n"
          ],
          "name": "stdout"
        },
        {
          "output_type": "stream",
          "text": [
            "Epoch 19: Step:  64%|██████▍   | 500/781 [01:50<01:01,  4.58it/s]"
          ],
          "name": "stderr"
        },
        {
          "output_type": "stream",
          "text": [
            "\n",
            "\n",
            "--------------------------------------------------------------------------------\n",
            "Epoch [19/25], Step [500/781], Loss: 0.9337, Accuracy: 0.5781, F1: 0.4282\n",
            "--------------------------------------------------------------------------------\n"
          ],
          "name": "stdout"
        },
        {
          "output_type": "stream",
          "text": [
            "Epoch 19: Step:  77%|███████▋  | 600/781 [02:13<00:39,  4.62it/s]"
          ],
          "name": "stderr"
        },
        {
          "output_type": "stream",
          "text": [
            "\n",
            "\n",
            "--------------------------------------------------------------------------------\n",
            "Epoch [19/25], Step [600/781], Loss: 0.6834, Accuracy: 0.6406, F1: 0.5309\n",
            "--------------------------------------------------------------------------------\n"
          ],
          "name": "stdout"
        },
        {
          "output_type": "stream",
          "text": [
            "Epoch 19: Step:  90%|████████▉ | 700/781 [02:35<00:17,  4.55it/s]"
          ],
          "name": "stderr"
        },
        {
          "output_type": "stream",
          "text": [
            "\n",
            "\n",
            "--------------------------------------------------------------------------------\n",
            "Epoch [19/25], Step [700/781], Loss: 0.7429, Accuracy: 0.4375, F1: 0.3244\n",
            "--------------------------------------------------------------------------------\n"
          ],
          "name": "stdout"
        },
        {
          "output_type": "stream",
          "text": [
            "Epoch 19: Step: 782it [02:53,  4.89it/s]                         \n",
            "Epoch 20: Step:  13%|█▎        | 100/781 [00:22<02:32,  4.47it/s]"
          ],
          "name": "stderr"
        },
        {
          "output_type": "stream",
          "text": [
            "\n",
            "\n",
            "--------------------------------------------------------------------------------\n",
            "Epoch [20/25], Step [100/781], Loss: 0.5884, Accuracy: 0.5469, F1: 0.4338\n",
            "--------------------------------------------------------------------------------\n"
          ],
          "name": "stdout"
        },
        {
          "output_type": "stream",
          "text": [
            "Epoch 20: Step:  26%|██▌       | 200/781 [00:44<02:08,  4.50it/s]"
          ],
          "name": "stderr"
        },
        {
          "output_type": "stream",
          "text": [
            "\n",
            "\n",
            "--------------------------------------------------------------------------------\n",
            "Epoch [20/25], Step [200/781], Loss: 0.5266, Accuracy: 0.6406, F1: 0.5473\n",
            "--------------------------------------------------------------------------------\n"
          ],
          "name": "stdout"
        },
        {
          "output_type": "stream",
          "text": [
            "Epoch 20: Step:  38%|███▊      | 300/781 [01:06<01:46,  4.50it/s]"
          ],
          "name": "stderr"
        },
        {
          "output_type": "stream",
          "text": [
            "\n",
            "\n",
            "--------------------------------------------------------------------------------\n",
            "Epoch [20/25], Step [300/781], Loss: 0.8316, Accuracy: 0.4219, F1: 0.3092\n",
            "--------------------------------------------------------------------------------\n"
          ],
          "name": "stdout"
        },
        {
          "output_type": "stream",
          "text": [
            "Epoch 20: Step:  51%|█████     | 400/781 [01:29<01:26,  4.41it/s]"
          ],
          "name": "stderr"
        },
        {
          "output_type": "stream",
          "text": [
            "\n",
            "\n",
            "--------------------------------------------------------------------------------\n",
            "Epoch [20/25], Step [400/781], Loss: 0.4508, Accuracy: 0.5781, F1: 0.4768\n",
            "--------------------------------------------------------------------------------\n"
          ],
          "name": "stdout"
        },
        {
          "output_type": "stream",
          "text": [
            "Epoch 20: Step:  64%|██████▍   | 500/781 [01:51<01:01,  4.59it/s]"
          ],
          "name": "stderr"
        },
        {
          "output_type": "stream",
          "text": [
            "\n",
            "\n",
            "--------------------------------------------------------------------------------\n",
            "Epoch [20/25], Step [500/781], Loss: 0.6716, Accuracy: 0.5781, F1: 0.4638\n",
            "--------------------------------------------------------------------------------\n"
          ],
          "name": "stdout"
        },
        {
          "output_type": "stream",
          "text": [
            "Epoch 20: Step:  77%|███████▋  | 600/781 [02:13<00:39,  4.54it/s]"
          ],
          "name": "stderr"
        },
        {
          "output_type": "stream",
          "text": [
            "\n",
            "\n",
            "--------------------------------------------------------------------------------\n",
            "Epoch [20/25], Step [600/781], Loss: 0.7545, Accuracy: 0.5156, F1: 0.4000\n",
            "--------------------------------------------------------------------------------\n"
          ],
          "name": "stdout"
        },
        {
          "output_type": "stream",
          "text": [
            "Epoch 20: Step:  90%|████████▉ | 700/781 [02:35<00:17,  4.53it/s]"
          ],
          "name": "stderr"
        },
        {
          "output_type": "stream",
          "text": [
            "\n",
            "\n",
            "--------------------------------------------------------------------------------\n",
            "Epoch [20/25], Step [700/781], Loss: 1.1912, Accuracy: 0.5156, F1: 0.3873\n",
            "--------------------------------------------------------------------------------\n"
          ],
          "name": "stdout"
        },
        {
          "output_type": "stream",
          "text": [
            "Epoch 20: Step: 782it [02:54,  4.85it/s]                         \n",
            "Epoch 21: Step:  13%|█▎        | 100/781 [00:22<02:28,  4.60it/s]"
          ],
          "name": "stderr"
        },
        {
          "output_type": "stream",
          "text": [
            "\n",
            "\n",
            "--------------------------------------------------------------------------------\n",
            "Epoch [21/25], Step [100/781], Loss: 0.5903, Accuracy: 0.5781, F1: 0.4667\n",
            "--------------------------------------------------------------------------------\n"
          ],
          "name": "stdout"
        },
        {
          "output_type": "stream",
          "text": [
            "Epoch 21: Step:  26%|██▌       | 200/781 [00:44<02:04,  4.65it/s]"
          ],
          "name": "stderr"
        },
        {
          "output_type": "stream",
          "text": [
            "\n",
            "\n",
            "--------------------------------------------------------------------------------\n",
            "Epoch [21/25], Step [200/781], Loss: 0.4461, Accuracy: 0.6406, F1: 0.5285\n",
            "--------------------------------------------------------------------------------\n"
          ],
          "name": "stdout"
        },
        {
          "output_type": "stream",
          "text": [
            "Epoch 21: Step:  38%|███▊      | 300/781 [01:07<01:45,  4.56it/s]"
          ],
          "name": "stderr"
        },
        {
          "output_type": "stream",
          "text": [
            "\n",
            "\n",
            "--------------------------------------------------------------------------------\n",
            "Epoch [21/25], Step [300/781], Loss: 0.5400, Accuracy: 0.5938, F1: 0.4884\n",
            "--------------------------------------------------------------------------------\n"
          ],
          "name": "stdout"
        },
        {
          "output_type": "stream",
          "text": [
            "Epoch 21: Step:  51%|█████     | 400/781 [01:29<01:23,  4.58it/s]"
          ],
          "name": "stderr"
        },
        {
          "output_type": "stream",
          "text": [
            "\n",
            "\n",
            "--------------------------------------------------------------------------------\n",
            "Epoch [21/25], Step [400/781], Loss: 0.6619, Accuracy: 0.5156, F1: 0.4032\n",
            "--------------------------------------------------------------------------------\n"
          ],
          "name": "stdout"
        },
        {
          "output_type": "stream",
          "text": [
            "Epoch 21: Step:  64%|██████▍   | 500/781 [01:51<01:03,  4.46it/s]"
          ],
          "name": "stderr"
        },
        {
          "output_type": "stream",
          "text": [
            "\n",
            "\n",
            "--------------------------------------------------------------------------------\n",
            "Epoch [21/25], Step [500/781], Loss: 0.6372, Accuracy: 0.6719, F1: 0.5581\n",
            "--------------------------------------------------------------------------------\n"
          ],
          "name": "stdout"
        },
        {
          "output_type": "stream",
          "text": [
            "Epoch 21: Step:  77%|███████▋  | 600/781 [02:14<00:40,  4.50it/s]"
          ],
          "name": "stderr"
        },
        {
          "output_type": "stream",
          "text": [
            "\n",
            "\n",
            "--------------------------------------------------------------------------------\n",
            "Epoch [21/25], Step [600/781], Loss: 0.7226, Accuracy: 0.6406, F1: 0.5070\n",
            "--------------------------------------------------------------------------------\n"
          ],
          "name": "stdout"
        },
        {
          "output_type": "stream",
          "text": [
            "Epoch 21: Step:  90%|████████▉ | 700/781 [02:36<00:18,  4.49it/s]"
          ],
          "name": "stderr"
        },
        {
          "output_type": "stream",
          "text": [
            "\n",
            "\n",
            "--------------------------------------------------------------------------------\n",
            "Epoch [21/25], Step [700/781], Loss: 0.5927, Accuracy: 0.5938, F1: 0.4871\n",
            "--------------------------------------------------------------------------------\n"
          ],
          "name": "stdout"
        },
        {
          "output_type": "stream",
          "text": [
            "Epoch 21: Step: 782it [02:54,  4.75it/s]                         \n",
            "Epoch 22: Step:  13%|█▎        | 100/781 [00:22<02:31,  4.51it/s]"
          ],
          "name": "stderr"
        },
        {
          "output_type": "stream",
          "text": [
            "\n",
            "\n",
            "--------------------------------------------------------------------------------\n",
            "Epoch [22/25], Step [100/781], Loss: 0.4934, Accuracy: 0.5469, F1: 0.4376\n",
            "--------------------------------------------------------------------------------\n"
          ],
          "name": "stdout"
        },
        {
          "output_type": "stream",
          "text": [
            "Epoch 22: Step:  26%|██▌       | 200/781 [00:44<02:11,  4.42it/s]"
          ],
          "name": "stderr"
        },
        {
          "output_type": "stream",
          "text": [
            "\n",
            "\n",
            "--------------------------------------------------------------------------------\n",
            "Epoch [22/25], Step [200/781], Loss: 0.3761, Accuracy: 0.5938, F1: 0.4718\n",
            "--------------------------------------------------------------------------------\n"
          ],
          "name": "stdout"
        },
        {
          "output_type": "stream",
          "text": [
            "Epoch 22: Step:  38%|███▊      | 300/781 [01:07<01:50,  4.35it/s]"
          ],
          "name": "stderr"
        },
        {
          "output_type": "stream",
          "text": [
            "\n",
            "\n",
            "--------------------------------------------------------------------------------\n",
            "Epoch [22/25], Step [300/781], Loss: 0.4427, Accuracy: 0.5469, F1: 0.4240\n",
            "--------------------------------------------------------------------------------\n"
          ],
          "name": "stdout"
        },
        {
          "output_type": "stream",
          "text": [
            "Epoch 22: Step:  51%|█████     | 400/781 [01:29<01:26,  4.39it/s]"
          ],
          "name": "stderr"
        },
        {
          "output_type": "stream",
          "text": [
            "\n",
            "\n",
            "--------------------------------------------------------------------------------\n",
            "Epoch [22/25], Step [400/781], Loss: 0.5687, Accuracy: 0.5625, F1: 0.4722\n",
            "--------------------------------------------------------------------------------\n"
          ],
          "name": "stdout"
        },
        {
          "output_type": "stream",
          "text": [
            "Epoch 22: Step:  64%|██████▍   | 500/781 [01:51<01:03,  4.44it/s]"
          ],
          "name": "stderr"
        },
        {
          "output_type": "stream",
          "text": [
            "\n",
            "\n",
            "--------------------------------------------------------------------------------\n",
            "Epoch [22/25], Step [500/781], Loss: 0.8505, Accuracy: 0.5000, F1: 0.3528\n",
            "--------------------------------------------------------------------------------\n"
          ],
          "name": "stdout"
        },
        {
          "output_type": "stream",
          "text": [
            "Epoch 22: Step:  77%|███████▋  | 600/781 [02:13<00:41,  4.38it/s]"
          ],
          "name": "stderr"
        },
        {
          "output_type": "stream",
          "text": [
            "\n",
            "\n",
            "--------------------------------------------------------------------------------\n",
            "Epoch [22/25], Step [600/781], Loss: 0.6593, Accuracy: 0.5781, F1: 0.4476\n",
            "--------------------------------------------------------------------------------\n"
          ],
          "name": "stdout"
        },
        {
          "output_type": "stream",
          "text": [
            "Epoch 22: Step:  90%|████████▉ | 700/781 [02:36<00:17,  4.51it/s]"
          ],
          "name": "stderr"
        },
        {
          "output_type": "stream",
          "text": [
            "\n",
            "\n",
            "--------------------------------------------------------------------------------\n",
            "Epoch [22/25], Step [700/781], Loss: 0.7085, Accuracy: 0.5938, F1: 0.4710\n",
            "--------------------------------------------------------------------------------\n"
          ],
          "name": "stdout"
        },
        {
          "output_type": "stream",
          "text": [
            "Epoch 22: Step: 782it [02:54,  4.96it/s]                         \n",
            "Epoch 23: Step:  13%|█▎        | 100/781 [00:22<02:32,  4.47it/s]"
          ],
          "name": "stderr"
        },
        {
          "output_type": "stream",
          "text": [
            "\n",
            "\n",
            "--------------------------------------------------------------------------------\n",
            "Epoch [23/25], Step [100/781], Loss: 0.6267, Accuracy: 0.5469, F1: 0.4520\n",
            "--------------------------------------------------------------------------------\n"
          ],
          "name": "stdout"
        },
        {
          "output_type": "stream",
          "text": [
            "Epoch 23: Step:  26%|██▌       | 200/781 [00:44<02:08,  4.53it/s]"
          ],
          "name": "stderr"
        },
        {
          "output_type": "stream",
          "text": [
            "\n",
            "\n",
            "--------------------------------------------------------------------------------\n",
            "Epoch [23/25], Step [200/781], Loss: 0.4265, Accuracy: 0.6719, F1: 0.5795\n",
            "--------------------------------------------------------------------------------\n"
          ],
          "name": "stdout"
        },
        {
          "output_type": "stream",
          "text": [
            "Epoch 23: Step:  38%|███▊      | 300/781 [01:06<01:46,  4.50it/s]"
          ],
          "name": "stderr"
        },
        {
          "output_type": "stream",
          "text": [
            "\n",
            "\n",
            "--------------------------------------------------------------------------------\n",
            "Epoch [23/25], Step [300/781], Loss: 0.4641, Accuracy: 0.5469, F1: 0.4393\n",
            "--------------------------------------------------------------------------------\n"
          ],
          "name": "stdout"
        },
        {
          "output_type": "stream",
          "text": [
            "Epoch 23: Step:  51%|█████     | 400/781 [01:28<01:23,  4.54it/s]"
          ],
          "name": "stderr"
        },
        {
          "output_type": "stream",
          "text": [
            "\n",
            "\n",
            "--------------------------------------------------------------------------------\n",
            "Epoch [23/25], Step [400/781], Loss: 0.5299, Accuracy: 0.6094, F1: 0.4907\n",
            "--------------------------------------------------------------------------------\n"
          ],
          "name": "stdout"
        },
        {
          "output_type": "stream",
          "text": [
            "Epoch 23: Step:  64%|██████▍   | 500/781 [01:51<01:02,  4.50it/s]"
          ],
          "name": "stderr"
        },
        {
          "output_type": "stream",
          "text": [
            "\n",
            "\n",
            "--------------------------------------------------------------------------------\n",
            "Epoch [23/25], Step [500/781], Loss: 0.4980, Accuracy: 0.7031, F1: 0.6152\n",
            "--------------------------------------------------------------------------------\n"
          ],
          "name": "stdout"
        },
        {
          "output_type": "stream",
          "text": [
            "Epoch 23: Step:  77%|███████▋  | 600/781 [02:13<00:40,  4.51it/s]"
          ],
          "name": "stderr"
        },
        {
          "output_type": "stream",
          "text": [
            "\n",
            "\n",
            "--------------------------------------------------------------------------------\n",
            "Epoch [23/25], Step [600/781], Loss: 0.8147, Accuracy: 0.4844, F1: 0.3850\n",
            "--------------------------------------------------------------------------------\n"
          ],
          "name": "stdout"
        },
        {
          "output_type": "stream",
          "text": [
            "Epoch 23: Step:  90%|████████▉ | 700/781 [02:35<00:18,  4.49it/s]"
          ],
          "name": "stderr"
        },
        {
          "output_type": "stream",
          "text": [
            "\n",
            "\n",
            "--------------------------------------------------------------------------------\n",
            "Epoch [23/25], Step [700/781], Loss: 0.6255, Accuracy: 0.4844, F1: 0.3775\n",
            "--------------------------------------------------------------------------------\n"
          ],
          "name": "stdout"
        },
        {
          "output_type": "stream",
          "text": [
            "Epoch 23: Step: 782it [02:53,  4.89it/s]                         \n",
            "Epoch 24: Step:  13%|█▎        | 100/781 [00:22<02:28,  4.57it/s]"
          ],
          "name": "stderr"
        },
        {
          "output_type": "stream",
          "text": [
            "\n",
            "\n",
            "--------------------------------------------------------------------------------\n",
            "Epoch [24/25], Step [100/781], Loss: 0.3843, Accuracy: 0.6562, F1: 0.5580\n",
            "--------------------------------------------------------------------------------\n"
          ],
          "name": "stdout"
        },
        {
          "output_type": "stream",
          "text": [
            "Epoch 24: Step:  26%|██▌       | 200/781 [00:44<02:09,  4.48it/s]"
          ],
          "name": "stderr"
        },
        {
          "output_type": "stream",
          "text": [
            "\n",
            "\n",
            "--------------------------------------------------------------------------------\n",
            "Epoch [24/25], Step [200/781], Loss: 0.2601, Accuracy: 0.6250, F1: 0.5143\n",
            "--------------------------------------------------------------------------------\n"
          ],
          "name": "stdout"
        },
        {
          "output_type": "stream",
          "text": [
            "Epoch 24: Step:  38%|███▊      | 300/781 [01:06<01:47,  4.49it/s]"
          ],
          "name": "stderr"
        },
        {
          "output_type": "stream",
          "text": [
            "\n",
            "\n",
            "--------------------------------------------------------------------------------\n",
            "Epoch [24/25], Step [300/781], Loss: 0.7904, Accuracy: 0.4688, F1: 0.3732\n",
            "--------------------------------------------------------------------------------\n"
          ],
          "name": "stdout"
        },
        {
          "output_type": "stream",
          "text": [
            "Epoch 24: Step:  51%|█████     | 400/781 [01:28<01:25,  4.46it/s]"
          ],
          "name": "stderr"
        },
        {
          "output_type": "stream",
          "text": [
            "\n",
            "\n",
            "--------------------------------------------------------------------------------\n",
            "Epoch [24/25], Step [400/781], Loss: 1.0882, Accuracy: 0.6094, F1: 0.5051\n",
            "--------------------------------------------------------------------------------\n"
          ],
          "name": "stdout"
        },
        {
          "output_type": "stream",
          "text": [
            "Epoch 24: Step:  64%|██████▍   | 500/781 [01:50<01:01,  4.59it/s]"
          ],
          "name": "stderr"
        },
        {
          "output_type": "stream",
          "text": [
            "\n",
            "\n",
            "--------------------------------------------------------------------------------\n",
            "Epoch [24/25], Step [500/781], Loss: 0.3394, Accuracy: 0.6406, F1: 0.4886\n",
            "--------------------------------------------------------------------------------\n"
          ],
          "name": "stdout"
        },
        {
          "output_type": "stream",
          "text": [
            "Epoch 24: Step:  77%|███████▋  | 600/781 [02:12<00:39,  4.62it/s]"
          ],
          "name": "stderr"
        },
        {
          "output_type": "stream",
          "text": [
            "\n",
            "\n",
            "--------------------------------------------------------------------------------\n",
            "Epoch [24/25], Step [600/781], Loss: 0.5475, Accuracy: 0.5312, F1: 0.4238\n",
            "--------------------------------------------------------------------------------\n"
          ],
          "name": "stdout"
        },
        {
          "output_type": "stream",
          "text": [
            "Epoch 24: Step:  90%|████████▉ | 700/781 [02:34<00:17,  4.67it/s]"
          ],
          "name": "stderr"
        },
        {
          "output_type": "stream",
          "text": [
            "\n",
            "\n",
            "--------------------------------------------------------------------------------\n",
            "Epoch [24/25], Step [700/781], Loss: 0.8914, Accuracy: 0.5312, F1: 0.4131\n",
            "--------------------------------------------------------------------------------\n"
          ],
          "name": "stdout"
        },
        {
          "output_type": "stream",
          "text": [
            "Epoch 24: Step: 782it [02:53,  4.90it/s]                         \n",
            "Epoch 25: Step:  13%|█▎        | 100/781 [00:22<02:30,  4.51it/s]"
          ],
          "name": "stderr"
        },
        {
          "output_type": "stream",
          "text": [
            "\n",
            "\n",
            "--------------------------------------------------------------------------------\n",
            "Epoch [25/25], Step [100/781], Loss: 0.3929, Accuracy: 0.5469, F1: 0.4480\n",
            "--------------------------------------------------------------------------------\n"
          ],
          "name": "stdout"
        },
        {
          "output_type": "stream",
          "text": [
            "Epoch 25: Step:  26%|██▌       | 200/781 [00:44<02:07,  4.57it/s]"
          ],
          "name": "stderr"
        },
        {
          "output_type": "stream",
          "text": [
            "\n",
            "\n",
            "--------------------------------------------------------------------------------\n",
            "Epoch [25/25], Step [200/781], Loss: 0.4893, Accuracy: 0.6094, F1: 0.5244\n",
            "--------------------------------------------------------------------------------\n"
          ],
          "name": "stdout"
        },
        {
          "output_type": "stream",
          "text": [
            "Epoch 25: Step:  38%|███▊      | 300/781 [01:06<01:44,  4.61it/s]"
          ],
          "name": "stderr"
        },
        {
          "output_type": "stream",
          "text": [
            "\n",
            "\n",
            "--------------------------------------------------------------------------------\n",
            "Epoch [25/25], Step [300/781], Loss: 0.4939, Accuracy: 0.6562, F1: 0.5363\n",
            "--------------------------------------------------------------------------------\n"
          ],
          "name": "stdout"
        },
        {
          "output_type": "stream",
          "text": [
            "Epoch 25: Step:  51%|█████     | 400/781 [01:28<01:25,  4.47it/s]"
          ],
          "name": "stderr"
        },
        {
          "output_type": "stream",
          "text": [
            "\n",
            "\n",
            "--------------------------------------------------------------------------------\n",
            "Epoch [25/25], Step [400/781], Loss: 0.4982, Accuracy: 0.5156, F1: 0.3971\n",
            "--------------------------------------------------------------------------------\n"
          ],
          "name": "stdout"
        },
        {
          "output_type": "stream",
          "text": [
            "Epoch 25: Step:  64%|██████▍   | 500/781 [01:50<01:02,  4.48it/s]"
          ],
          "name": "stderr"
        },
        {
          "output_type": "stream",
          "text": [
            "\n",
            "\n",
            "--------------------------------------------------------------------------------\n",
            "Epoch [25/25], Step [500/781], Loss: 0.3802, Accuracy: 0.5156, F1: 0.3991\n",
            "--------------------------------------------------------------------------------\n"
          ],
          "name": "stdout"
        },
        {
          "output_type": "stream",
          "text": [
            "Epoch 25: Step:  77%|███████▋  | 600/781 [02:13<00:39,  4.53it/s]"
          ],
          "name": "stderr"
        },
        {
          "output_type": "stream",
          "text": [
            "\n",
            "\n",
            "--------------------------------------------------------------------------------\n",
            "Epoch [25/25], Step [600/781], Loss: 0.5349, Accuracy: 0.5938, F1: 0.4667\n",
            "--------------------------------------------------------------------------------\n"
          ],
          "name": "stdout"
        },
        {
          "output_type": "stream",
          "text": [
            "Epoch 25: Step:  90%|████████▉ | 700/781 [02:35<00:18,  4.43it/s]"
          ],
          "name": "stderr"
        },
        {
          "output_type": "stream",
          "text": [
            "\n",
            "\n",
            "--------------------------------------------------------------------------------\n",
            "Epoch [25/25], Step [700/781], Loss: 0.4316, Accuracy: 0.6094, F1: 0.5174\n",
            "--------------------------------------------------------------------------------\n"
          ],
          "name": "stdout"
        },
        {
          "output_type": "stream",
          "text": [
            "Epoch 25: Step: 782it [02:53,  4.80it/s]                         \n",
            "Test Step: 157it [00:09, 16.58it/s]                         "
          ],
          "name": "stderr"
        },
        {
          "output_type": "stream",
          "text": [
            "\n",
            "\n",
            "--------------------------------------------------------------------------------\n",
            "Test accuracy on 10000 images: 0.5625\n",
            "--------------------------------------------------------------------------------\n"
          ],
          "name": "stdout"
        },
        {
          "output_type": "stream",
          "text": [
            "\n"
          ],
          "name": "stderr"
        }
      ]
    },
    {
      "cell_type": "code",
      "metadata": {
        "id": "XoQdDVJUt-kZ",
        "colab_type": "code",
        "colab": {}
      },
      "source": [
        ""
      ],
      "execution_count": 0,
      "outputs": []
    }
  ]
}