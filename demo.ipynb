{
  "nbformat": 4,
  "nbformat_minor": 0,
  "metadata": {
    "colab": {
      "name": "demo.ipynb",
      "provenance": [],
      "collapsed_sections": [],
      "include_colab_link": true
    },
    "kernelspec": {
      "name": "python3",
      "display_name": "Python 3"
    },
    "accelerator": "GPU"
  },
  "cells": [
    {
      "cell_type": "markdown",
      "metadata": {
        "id": "view-in-github",
        "colab_type": "text"
      },
      "source": [
        "<a href=\"https://colab.research.google.com/github/sdll/cifar-100-densenet/blob/master/demo.ipynb\" target=\"_parent\"><img src=\"https://colab.research.google.com/assets/colab-badge.svg\" alt=\"Open In Colab\"/></a>"
      ]
    },
    {
      "cell_type": "markdown",
      "metadata": {
        "id": "KAW0R5zSsOjA",
        "colab_type": "text"
      },
      "source": [
        "# Image classification demo of DenseNet in PyTorch on CIFAR 100\n",
        "## Configuration"
      ]
    },
    {
      "cell_type": "code",
      "metadata": {
        "id": "TIpy5rccsFFn",
        "colab_type": "code",
        "colab": {}
      },
      "source": [
        "# Taken from https://git.io/JeD2H\n",
        "CIFAR_100_MEAN = (129.3, 124.1, 112.4)\n",
        "CIFAR_100_STD = (68.2,  65.4,  70.4)\n",
        "\n",
        "PROJECT = \"fastrino\"\n",
        "DEVICE = \"cuda\""
      ],
      "execution_count": 0,
      "outputs": []
    },
    {
      "cell_type": "code",
      "metadata": {
        "id": "VeALhFoGs_Yi",
        "colab_type": "code",
        "outputId": "4d6a5714-b7e0-4e88-ecf4-5b574f64de05",
        "colab": {
          "base_uri": "https://localhost:8080/",
          "height": 785
        }
      },
      "source": [
        "!pip install gsheet-keyring ipython-secrets comet_ml"
      ],
      "execution_count": 2,
      "outputs": [
        {
          "output_type": "stream",
          "text": [
            "Requirement already satisfied: gsheet-keyring in /usr/local/lib/python3.6/dist-packages (1.0.1)\n",
            "Requirement already satisfied: ipython-secrets in /usr/local/lib/python3.6/dist-packages (1.1.1)\n",
            "Requirement already satisfied: comet_ml in /usr/local/lib/python3.6/dist-packages (3.0.0)\n",
            "Requirement already satisfied: gspread in /usr/local/lib/python3.6/dist-packages (from gsheet-keyring) (3.0.1)\n",
            "Requirement already satisfied: oauth2client in /usr/local/lib/python3.6/dist-packages (from gsheet-keyring) (4.1.3)\n",
            "Requirement already satisfied: keyring in /usr/local/lib/python3.6/dist-packages (from gsheet-keyring) (19.3.0)\n",
            "Requirement already satisfied: ipython in /usr/local/lib/python3.6/dist-packages (from ipython-secrets) (5.5.0)\n",
            "Requirement already satisfied: nvidia-ml-py3>=7.352.0 in /usr/local/lib/python3.6/dist-packages (from comet_ml) (7.352.0)\n",
            "Requirement already satisfied: websocket-client>=0.55.0 in /usr/local/lib/python3.6/dist-packages (from comet_ml) (0.56.0)\n",
            "Requirement already satisfied: netifaces>=0.10.7 in /usr/local/lib/python3.6/dist-packages (from comet_ml) (0.10.9)\n",
            "Requirement already satisfied: six in /usr/local/lib/python3.6/dist-packages (from comet_ml) (1.12.0)\n",
            "Requirement already satisfied: jsonschema<3.1.0,>=2.6.0 in /usr/local/lib/python3.6/dist-packages (from comet_ml) (2.6.0)\n",
            "Requirement already satisfied: requests>=2.18.4 in /usr/local/lib/python3.6/dist-packages (from comet_ml) (2.21.0)\n",
            "Requirement already satisfied: comet-git-pure>=0.19.11 in /usr/local/lib/python3.6/dist-packages (from comet_ml) (0.19.14)\n",
            "Requirement already satisfied: wurlitzer>=1.0.2 in /usr/local/lib/python3.6/dist-packages (from comet_ml) (2.0.0)\n",
            "Requirement already satisfied: everett[ini]>=1.0.1; python_version >= \"3.0\" in /usr/local/lib/python3.6/dist-packages (from comet_ml) (1.0.2)\n",
            "Requirement already satisfied: httplib2>=0.9.1 in /usr/local/lib/python3.6/dist-packages (from oauth2client->gsheet-keyring) (0.11.3)\n",
            "Requirement already satisfied: pyasn1>=0.1.7 in /usr/local/lib/python3.6/dist-packages (from oauth2client->gsheet-keyring) (0.4.8)\n",
            "Requirement already satisfied: pyasn1-modules>=0.0.5 in /usr/local/lib/python3.6/dist-packages (from oauth2client->gsheet-keyring) (0.2.7)\n",
            "Requirement already satisfied: rsa>=3.1.4 in /usr/local/lib/python3.6/dist-packages (from oauth2client->gsheet-keyring) (4.0)\n",
            "Requirement already satisfied: importlib-metadata; python_version < \"3.8\" in /usr/local/lib/python3.6/dist-packages (from keyring->gsheet-keyring) (1.2.0)\n",
            "Requirement already satisfied: secretstorage; sys_platform == \"linux\" in /usr/local/lib/python3.6/dist-packages (from keyring->gsheet-keyring) (3.1.1)\n",
            "Requirement already satisfied: prompt-toolkit<2.0.0,>=1.0.4 in /usr/local/lib/python3.6/dist-packages (from ipython->ipython-secrets) (1.0.18)\n",
            "Requirement already satisfied: pygments in /usr/local/lib/python3.6/dist-packages (from ipython->ipython-secrets) (2.1.3)\n",
            "Requirement already satisfied: decorator in /usr/local/lib/python3.6/dist-packages (from ipython->ipython-secrets) (4.4.1)\n",
            "Requirement already satisfied: traitlets>=4.2 in /usr/local/lib/python3.6/dist-packages (from ipython->ipython-secrets) (4.3.3)\n",
            "Requirement already satisfied: pexpect; sys_platform != \"win32\" in /usr/local/lib/python3.6/dist-packages (from ipython->ipython-secrets) (4.7.0)\n",
            "Requirement already satisfied: pickleshare in /usr/local/lib/python3.6/dist-packages (from ipython->ipython-secrets) (0.7.5)\n",
            "Requirement already satisfied: simplegeneric>0.8 in /usr/local/lib/python3.6/dist-packages (from ipython->ipython-secrets) (0.8.1)\n",
            "Requirement already satisfied: setuptools>=18.5 in /usr/local/lib/python3.6/dist-packages (from ipython->ipython-secrets) (42.0.1)\n",
            "Requirement already satisfied: certifi>=2017.4.17 in /usr/local/lib/python3.6/dist-packages (from requests>=2.18.4->comet_ml) (2019.11.28)\n",
            "Requirement already satisfied: urllib3<1.25,>=1.21.1 in /usr/local/lib/python3.6/dist-packages (from requests>=2.18.4->comet_ml) (1.24.3)\n",
            "Requirement already satisfied: chardet<3.1.0,>=3.0.2 in /usr/local/lib/python3.6/dist-packages (from requests>=2.18.4->comet_ml) (3.0.4)\n",
            "Requirement already satisfied: idna<2.9,>=2.5 in /usr/local/lib/python3.6/dist-packages (from requests>=2.18.4->comet_ml) (2.8)\n",
            "Requirement already satisfied: configobj; extra == \"ini\" in /usr/local/lib/python3.6/dist-packages (from everett[ini]>=1.0.1; python_version >= \"3.0\"->comet_ml) (5.0.6)\n",
            "Requirement already satisfied: zipp>=0.5 in /usr/local/lib/python3.6/dist-packages (from importlib-metadata; python_version < \"3.8\"->keyring->gsheet-keyring) (0.6.0)\n",
            "Requirement already satisfied: jeepney in /usr/local/lib/python3.6/dist-packages (from secretstorage; sys_platform == \"linux\"->keyring->gsheet-keyring) (0.4.1)\n",
            "Requirement already satisfied: cryptography in /usr/local/lib/python3.6/dist-packages (from secretstorage; sys_platform == \"linux\"->keyring->gsheet-keyring) (2.8)\n",
            "Requirement already satisfied: wcwidth in /usr/local/lib/python3.6/dist-packages (from prompt-toolkit<2.0.0,>=1.0.4->ipython->ipython-secrets) (0.1.7)\n",
            "Requirement already satisfied: ipython-genutils in /usr/local/lib/python3.6/dist-packages (from traitlets>=4.2->ipython->ipython-secrets) (0.2.0)\n",
            "Requirement already satisfied: ptyprocess>=0.5 in /usr/local/lib/python3.6/dist-packages (from pexpect; sys_platform != \"win32\"->ipython->ipython-secrets) (0.6.0)\n",
            "Requirement already satisfied: more-itertools in /usr/local/lib/python3.6/dist-packages (from zipp>=0.5->importlib-metadata; python_version < \"3.8\"->keyring->gsheet-keyring) (8.0.0)\n",
            "Requirement already satisfied: cffi!=1.11.3,>=1.8 in /usr/local/lib/python3.6/dist-packages (from cryptography->secretstorage; sys_platform == \"linux\"->keyring->gsheet-keyring) (1.13.2)\n",
            "Requirement already satisfied: pycparser in /usr/local/lib/python3.6/dist-packages (from cffi!=1.11.3,>=1.8->cryptography->secretstorage; sys_platform == \"linux\"->keyring->gsheet-keyring) (2.19)\n"
          ],
          "name": "stdout"
        }
      ]
    },
    {
      "cell_type": "markdown",
      "metadata": {
        "id": "zsXT8iqlseWs",
        "colab_type": "text"
      },
      "source": [
        "## Model"
      ]
    },
    {
      "cell_type": "code",
      "metadata": {
        "id": "tW00_8EPshpa",
        "colab_type": "code",
        "colab": {}
      },
      "source": [
        "from comet_ml import Experiment\n",
        "from collections import OrderedDict\n",
        "\n",
        "import torch\n",
        "import torch.nn as nn\n",
        "import torch.nn.functional as F\n",
        "from torch import Tensor\n",
        "\n",
        "\n",
        "class DenseLayer(nn.Module):\n",
        "    def __init__(self, num_input_features, growth_rate, bn_size, drop_rate):\n",
        "        super(DenseLayer, self).__init__()\n",
        "        self.add_module(\"norm1\", nn.BatchNorm2d(num_input_features)),\n",
        "        self.add_module(\"relu1\", nn.ReLU(inplace=True)),\n",
        "        self.add_module(\n",
        "            \"conv1\",\n",
        "            nn.Conv2d(\n",
        "                num_input_features,\n",
        "                bn_size * growth_rate,\n",
        "                kernel_size=1,\n",
        "                stride=1,\n",
        "                bias=False,\n",
        "            ),\n",
        "        ),\n",
        "        self.add_module(\"norm2\", nn.BatchNorm2d(bn_size * growth_rate)),\n",
        "        self.add_module(\"relu2\", nn.ReLU(inplace=True)),\n",
        "        self.add_module(\n",
        "            \"conv2\",\n",
        "            nn.Conv2d(\n",
        "                bn_size * growth_rate,\n",
        "                growth_rate,\n",
        "                kernel_size=3,\n",
        "                stride=1,\n",
        "                padding=1,\n",
        "                bias=False,\n",
        "            ),\n",
        "        ),\n",
        "        self.drop_rate = float(drop_rate)\n",
        "\n",
        "    def bottleneck_function(self, inputs):\n",
        "        concated_features = torch.cat(inputs, 1)\n",
        "        bottleneck_output = self.conv1(\n",
        "            self.relu1(self.norm1(concated_features))\n",
        "        )\n",
        "        return bottleneck_output\n",
        "\n",
        "    def forward(self, input_tensor):\n",
        "        if isinstance(input_tensor, Tensor):\n",
        "            prev_features = [input_tensor]\n",
        "        else:\n",
        "            prev_features = input_tensor\n",
        "\n",
        "        bottleneck_output = self.bottleneck_function(prev_features)\n",
        "\n",
        "        new_features = self.conv2(self.relu2(self.norm2(bottleneck_output)))\n",
        "        if self.drop_rate > 0:\n",
        "            new_features = F.dropout(\n",
        "                new_features, p=self.drop_rate, training=self.training\n",
        "            )\n",
        "        return new_features\n",
        "\n",
        "\n",
        "class DenseBlock(nn.ModuleDict):\n",
        "    def __init__(\n",
        "        self, num_layers, num_input_features, bn_size, growth_rate, drop_rate\n",
        "    ):\n",
        "        super(DenseBlock, self).__init__()\n",
        "        for i in range(num_layers):\n",
        "            layer = DenseLayer(\n",
        "                num_input_features + i * growth_rate,\n",
        "                growth_rate=growth_rate,\n",
        "                bn_size=bn_size,\n",
        "                drop_rate=drop_rate,\n",
        "            )\n",
        "            self.add_module(\"dense_layer%d\" % (i + 1), layer)\n",
        "\n",
        "    def forward(self, init_features):\n",
        "        features = [init_features]\n",
        "        for name, layer in self.items():\n",
        "            new_features = layer(features)\n",
        "            features.append(new_features)\n",
        "        return torch.cat(features, 1)\n",
        "\n",
        "\n",
        "class Transition(nn.Sequential):\n",
        "    def __init__(self, num_input_features, num_output_features):\n",
        "        super(Transition, self).__init__()\n",
        "        self.add_module(\"norm\", nn.BatchNorm2d(num_input_features))\n",
        "        self.add_module(\"relu\", nn.ReLU(inplace=True))\n",
        "        self.add_module(\n",
        "            \"conv\",\n",
        "            nn.Conv2d(\n",
        "                num_input_features,\n",
        "                num_output_features,\n",
        "                kernel_size=1,\n",
        "                stride=1,\n",
        "                bias=False,\n",
        "            ),\n",
        "        )\n",
        "        self.add_module(\"pool\", nn.AvgPool2d(kernel_size=2, stride=2))\n",
        "\n",
        "\n",
        "class DenseNet(nn.Module):\n",
        "    r\"\"\"Densenet-BC model class, based on\n",
        "    `\"Densely Connected Convolutional Networks\"\n",
        "     <https://arxiv.org/pdf/1608.06993.pdf>`_\n",
        "\n",
        "    Args:\n",
        "        growth_rate (int) - how many filters to add each layer (`k` in paper)\n",
        "        block_config (list of 4 ints) - how many layers in each pooling block\n",
        "        num_init_features (int) - the number of filters to learn in the first\n",
        "        convolution layer\n",
        "        bn_size (int) - multiplicative factor for number of bottle neck layers\n",
        "          (i.e. bn_size * k features in the bottleneck layer)\n",
        "        drop_rate (float) - dropout rate after each dense layer\n",
        "        num_classes (int) - number of classification classes\n",
        "    \"\"\"\n",
        "\n",
        "    __constants__ = [\"features\"]\n",
        "\n",
        "    def __init__(\n",
        "        self,\n",
        "        growth_rate=32,\n",
        "        block_config=(6, 12, 24, 16),\n",
        "        num_init_features=64,\n",
        "        bn_size=4,\n",
        "        drop_rate=0,\n",
        "        num_classes=1000,\n",
        "        memory_efficient=False,\n",
        "    ):\n",
        "\n",
        "        super(DenseNet, self).__init__()\n",
        "\n",
        "        self.features = nn.Sequential(\n",
        "            OrderedDict(\n",
        "                [\n",
        "                    (\n",
        "                        \"conv0\",\n",
        "                        nn.Conv2d(\n",
        "                            3,\n",
        "                            num_init_features,\n",
        "                            kernel_size=7,\n",
        "                            stride=2,\n",
        "                            padding=3,\n",
        "                            bias=False,\n",
        "                        ),\n",
        "                    ),\n",
        "                    (\"norm0\", nn.BatchNorm2d(num_init_features)),\n",
        "                    (\"relu0\", nn.ReLU(inplace=True)),\n",
        "                    (\n",
        "                        \"pool0\",\n",
        "                        nn.MaxPool2d(kernel_size=3, stride=2, padding=1),\n",
        "                    ),\n",
        "                ]\n",
        "            )\n",
        "        )\n",
        "\n",
        "        num_features = num_init_features\n",
        "        for i, num_layers in enumerate(block_config):\n",
        "            block = DenseBlock(\n",
        "                num_layers=num_layers,\n",
        "                num_input_features=num_features,\n",
        "                bn_size=bn_size,\n",
        "                growth_rate=growth_rate,\n",
        "                drop_rate=drop_rate,\n",
        "            )\n",
        "            self.features.add_module(\"dense_block%d\" % (i + 1), block)\n",
        "            num_features = num_features + num_layers * growth_rate\n",
        "            if i != len(block_config) - 1:\n",
        "                trans = Transition(\n",
        "                    num_input_features=num_features,\n",
        "                    num_output_features=num_features // 2,\n",
        "                )\n",
        "                self.features.add_module(\"transition%d\" % (i + 1), trans)\n",
        "                num_features = num_features // 2\n",
        "\n",
        "        self.features.add_module(\"norm5\", nn.BatchNorm2d(num_features))\n",
        "\n",
        "        self.classifier = nn.Linear(num_features, num_classes)\n",
        "\n",
        "        for m in self.modules():\n",
        "            if isinstance(m, nn.Conv2d):\n",
        "                nn.init.kaiming_normal_(m.weight)\n",
        "            elif isinstance(m, nn.BatchNorm2d):\n",
        "                nn.init.constant_(m.weight, 1)\n",
        "                nn.init.constant_(m.bias, 0)\n",
        "            elif isinstance(m, nn.Linear):\n",
        "                nn.init.constant_(m.bias, 0)\n",
        "\n",
        "    def forward(self, x):\n",
        "        features = self.features(x)\n",
        "        out = F.relu(features, inplace=True)\n",
        "        out = F.adaptive_avg_pool2d(out, (1, 1))\n",
        "        out = torch.flatten(out, 1)\n",
        "        out = self.classifier(out)\n",
        "        return out\n"
      ],
      "execution_count": 0,
      "outputs": []
    },
    {
      "cell_type": "markdown",
      "metadata": {
        "id": "24bC0atDs6Zw",
        "colab_type": "text"
      },
      "source": [
        "## Utilities"
      ]
    },
    {
      "cell_type": "code",
      "metadata": {
        "id": "m_1TAuO3slEw",
        "colab_type": "code",
        "colab": {}
      },
      "source": [
        "import argparse\n",
        "from getpass import getpass\n",
        "\n",
        "from ipython_secrets import *\n",
        "import numpy as np\n",
        "import torch\n",
        "import torch.nn as nn\n",
        "import torchvision.datasets as datasets\n",
        "import torchvision.transforms as transforms\n",
        "\n",
        "from torch.autograd import Variable\n",
        "from tqdm import tqdm\n",
        "\n",
        "from sklearn.metrics import accuracy_score, f1_score\n",
        "\n",
        "def compute_metric(metric, labels, predictions, **kwargs):\n",
        "    return metric(\n",
        "        labels.cpu().data.numpy(), \n",
        "        torch.argmax(predictions.cpu(), dim=1).data.numpy(),\n",
        "        **kwargs\n",
        "    )\n",
        "\n",
        "def read_args():\n",
        "    parser = argparse.ArgumentParser(\n",
        "        description=\"Image classification demo \"\n",
        "        + \"of DenseNet in PyTorch on CIFAR 100\"\n",
        "    )\n",
        "\n",
        "    parser.add_argument(\n",
        "        \"--num-epochs\",\n",
        "        default=25,\n",
        "        type=int,\n",
        "        help=\"Number of total epochs to run\",\n",
        "    )\n",
        "\n",
        "    parser.add_argument(\n",
        "        \"--batch-size\", default=256, type=int, help=\"Batch size (default: 256)\"\n",
        "    )\n",
        "\n",
        "    parser.add_argument(\n",
        "        \"--lr\",\n",
        "        \"--learning-rate\",\n",
        "        default=1e-4,\n",
        "        type=float,\n",
        "        help=\"Initial learning rate (default: 1e-4)\",\n",
        "    )    \n",
        "\n",
        "    parser.add_argument(\n",
        "        \"--dropout\", default=0.01, type=float, help=\"Dropout rate (default: 0.01)\"\n",
        "    )\n",
        "\n",
        "    parser.add_argument(\n",
        "        \"--comet-logging\",\n",
        "        default=True,\n",
        "        help=\"Whether to log progress to TensorBoard\",\n",
        "        action=\"store_true\",\n",
        "    )\n",
        "    return parser"
      ],
      "execution_count": 0,
      "outputs": []
    },
    {
      "cell_type": "code",
      "metadata": {
        "id": "OyhaqJi0s89D",
        "colab_type": "code",
        "outputId": "c3a987bf-a47c-4ba9-eea2-c539c2471f18",
        "colab": {
          "base_uri": "https://localhost:8080/",
          "height": 1000
        }
      },
      "source": [
        "transform = transforms.Compose(\n",
        "    [\n",
        "        transforms.ToTensor(),\n",
        "        transforms.Normalize(\n",
        "            mean=np.asarray(CIFAR_100_MEAN) / 255.0,\n",
        "            std=np.asarray(CIFAR_100_STD) / 255.0,\n",
        "        ),\n",
        "    ]\n",
        ")\n",
        "data_dirname = \"./data\"\n",
        "\n",
        "train_data = datasets.CIFAR100(\n",
        "    root=data_dirname, train=True, download=True, transform=transform\n",
        ")\n",
        "test_data = datasets.CIFAR100(\n",
        "    root=data_dirname, train=False, download=True, transform=transform\n",
        ")\n",
        "\n",
        "args = read_args().parse_args(args=[])\n",
        "args.growth_rate = 32\n",
        "args.block_config = (6, 12, 24, 16)\n",
        "args.num_init_features = 64\n",
        "args.bn_size = 4\n",
        "args.num_classes = 1000\n",
        "\n",
        "train_loader = torch.utils.data.DataLoader(\n",
        "    train_data,\n",
        "    batch_size=args.batch_size,\n",
        "    shuffle=True,\n",
        "    num_workers=1,\n",
        "    pin_memory=True,\n",
        ")\n",
        "\n",
        "test_loader = torch.utils.data.DataLoader(\n",
        "    test_data,\n",
        "    batch_size=args.batch_size,\n",
        "    shuffle=False,\n",
        "    num_workers=1,\n",
        "    pin_memory=True,\n",
        ")\n",
        "\n",
        "if args.comet_logging:\n",
        "    comet_ml_api_key = get_secret(\"comet-{}\".format(PROJECT))\n",
        "\n",
        "    experiment = Experiment(\n",
        "        api_key=comet_ml_api_key,\n",
        "        project_name=PROJECT,\n",
        "        workspace=PROJECT,\n",
        "        auto_output_logging=None,\n",
        "    )\n",
        "    experiment.log_parameters(vars(args))\n",
        "\n",
        "model = DenseNet(\n",
        "    growth_rate=args.growth_rate,\n",
        "    block_config=args.block_config,\n",
        "    num_init_features=args.num_init_features,\n",
        "    bn_size=args.bn_size,\n",
        "    drop_rate=args.dropout,\n",
        "    num_classes=args.num_classes,\n",
        ")\n",
        "model.to(DEVICE)\n",
        "\n",
        "criterion = nn.CrossEntropyLoss()\n",
        "optimizer = torch.optim.Adam(model.parameters(), lr=args.lr)\n",
        "\n",
        "with experiment.train():\n",
        "    model.train()\n",
        "    step = 0\n",
        "    for epoch in range(1, args.num_epochs + 1):\n",
        "        experiment.log_current_epoch(epoch)\n",
        "        with tqdm(\n",
        "            total=len(train_data) // args.batch_size,\n",
        "            desc=\"Epoch {}: Step\".format(epoch),\n",
        "        ) as pbar:\n",
        "            for idx, (images, labels) in enumerate(train_loader):\n",
        "                images = Variable(images.to(DEVICE))\n",
        "                labels = Variable(labels.to(DEVICE))\n",
        "\n",
        "                optimizer.zero_grad()\n",
        "                outputs = model(images)\n",
        "                loss = criterion(outputs, labels)\n",
        "                loss.backward()\n",
        "                optimizer.step()\n",
        "\n",
        "                experiment.set_step(step)\n",
        "                experiment.log_metric(\"loss\", loss.data.item())\n",
        "\n",
        "                predictions = torch.nn.functional.softmax(outputs, dim=0)\n",
        "                accuracy = compute_metric(accuracy_score, labels, predictions)\n",
        "                f1 = compute_metric(\n",
        "                    f1_score, labels, predictions, average=\"macro\"\n",
        "                )\n",
        "\n",
        "                experiment.log_metrics(\n",
        "                    {\"accuracy\": accuracy, \"f1\": f1}, step=step\n",
        "                )\n",
        "                step += 1\n",
        "                if (idx + 1) % 95 == 0:\n",
        "                    print(\"\\n\")\n",
        "                    print(\"-\" * 80)\n",
        "                    print(\n",
        "                        \"Epoch [%d/%d], Step [%d/%d], Loss: %.4f\"\n",
        "                        % (\n",
        "                            epoch,\n",
        "                            args.num_epochs,\n",
        "                            idx + 1,\n",
        "                            len(train_data) // args.batch_size,\n",
        "                            loss.data.item(),\n",
        "                        )\n",
        "                        + \", Accuracy: {:.4f}\".format(accuracy)\n",
        "                        + \", F1: {:.4f}\".format(f1)\n",
        "                    )\n",
        "                    print(\"-\" * 80)\n",
        "                pbar.update()"
      ],
      "execution_count": 14,
      "outputs": [
        {
          "output_type": "stream",
          "text": [
            "Files already downloaded and verified\n",
            "Files already downloaded and verified\n"
          ],
          "name": "stdout"
        },
        {
          "output_type": "stream",
          "text": [
            "COMET INFO: ----------------------------\n",
            "COMET INFO: Comet.ml Experiment Summary:\n",
            "COMET INFO:   Data:\n",
            "COMET INFO:     url: https://www.comet.ml/fastrino/fastrino/944bdd5a15c04a22bca4db9e7a9e5916\n",
            "COMET INFO:   Metrics [count] (min, max):\n",
            "COMET INFO:     sys.cpu.percent.01                 : (42.8, 42.8)\n",
            "COMET INFO:     sys.cpu.percent.02                 : (42.5, 42.5)\n",
            "COMET INFO:     sys.cpu.percent.avg                : (42.65, 42.65)\n",
            "COMET INFO:     sys.gpu.0.free_memory              : (10048307200.0, 10048307200.0)\n",
            "COMET INFO:     sys.gpu.0.gpu_utilization          : (0.0, 0.0)\n",
            "COMET INFO:     sys.gpu.0.total_memory             : (11996954624.0, 11996954624.0)\n",
            "COMET INFO:     sys.gpu.0.used_memory              : (1948647424.0, 1948647424.0)\n",
            "COMET INFO:     sys.ram.total                      : (13655232512.0, 13655232512.0)\n",
            "COMET INFO:     sys.ram.used                       : (2936037376.0, 2936037376.0)\n",
            "COMET INFO:     train_accuracy [925]               : (0.0, 0.48046875)\n",
            "COMET INFO:     train_curr_epoch [5]               : 5\n",
            "COMET INFO:     train_f1 [925]                     : (0.0, 0.38941930465367963)\n",
            "COMET INFO:     train_loss [1018]                  : (1.5548580884933472, 6.997249126434326)\n",
            "COMET INFO:     train_sys.cpu.percent.01 [4]       : (68.2, 71.9)\n",
            "COMET INFO:     train_sys.cpu.percent.02 [4]       : (68.1, 71.4)\n",
            "COMET INFO:     train_sys.cpu.percent.avg [4]      : (69.80000000000001, 70.0)\n",
            "COMET INFO:     train_sys.gpu.0.free_memory [5]    : (10004267008.0, 10004267008.0)\n",
            "COMET INFO:     train_sys.gpu.0.gpu_utilization [5]: (58.0, 70.0)\n",
            "COMET INFO:     train_sys.gpu.0.used_memory [5]    : (1992687616.0, 1992687616.0)\n",
            "COMET INFO:     train_sys.ram.total [4]            : (13655232512.0, 13655232512.0)\n",
            "COMET INFO:     train_sys.ram.used [4]             : (2979168256.0, 2984472576.0)\n",
            "COMET INFO: ----------------------------\n",
            "COMET INFO: Experiment is live on comet.ml https://www.comet.ml/fastrino/fastrino/ded4236671ec41399ca2035f262901e3\n",
            "\n",
            "Epoch 1: Step:   0%|          | 0/195 [00:00<?, ?it/s]/usr/local/lib/python3.6/dist-packages/sklearn/metrics/classification.py:1437: UndefinedMetricWarning: F-score is ill-defined and being set to 0.0 in labels with no predicted samples.\n",
            "  'precision', 'predicted', average, warn_for)\n",
            "/usr/local/lib/python3.6/dist-packages/sklearn/metrics/classification.py:1439: UndefinedMetricWarning: F-score is ill-defined and being set to 0.0 in labels with no true samples.\n",
            "  'recall', 'true', average, warn_for)\n",
            "Epoch 1: Step:  49%|████▊     | 95/195 [00:32<00:34,  2.91it/s]"
          ],
          "name": "stderr"
        },
        {
          "output_type": "stream",
          "text": [
            "\n",
            "\n",
            "--------------------------------------------------------------------------------\n",
            "Epoch [1/25], Step [95/195], Loss: 4.2531, Accuracy: 0.0664, F1: 0.0280\n",
            "--------------------------------------------------------------------------------\n"
          ],
          "name": "stdout"
        },
        {
          "output_type": "stream",
          "text": [
            "Epoch 1: Step:  97%|█████████▋| 190/195 [01:04<00:01,  2.95it/s]"
          ],
          "name": "stderr"
        },
        {
          "output_type": "stream",
          "text": [
            "\n",
            "\n",
            "--------------------------------------------------------------------------------\n",
            "Epoch [1/25], Step [190/195], Loss: 3.7319, Accuracy: 0.1602, F1: 0.0916\n",
            "--------------------------------------------------------------------------------\n"
          ],
          "name": "stdout"
        },
        {
          "output_type": "stream",
          "text": [
            "Epoch 1: Step: 196it [01:06,  3.35it/s]                         \n",
            "Epoch 2: Step:  49%|████▊     | 95/195 [00:32<00:33,  2.96it/s]"
          ],
          "name": "stderr"
        },
        {
          "output_type": "stream",
          "text": [
            "\n",
            "\n",
            "--------------------------------------------------------------------------------\n",
            "Epoch [2/25], Step [95/195], Loss: 3.4288, Accuracy: 0.1484, F1: 0.0899\n",
            "--------------------------------------------------------------------------------\n"
          ],
          "name": "stdout"
        },
        {
          "output_type": "stream",
          "text": [
            "Epoch 2: Step:  97%|█████████▋| 190/195 [01:04<00:01,  2.99it/s]"
          ],
          "name": "stderr"
        },
        {
          "output_type": "stream",
          "text": [
            "\n",
            "\n",
            "--------------------------------------------------------------------------------\n",
            "Epoch [2/25], Step [190/195], Loss: 3.2941, Accuracy: 0.1914, F1: 0.1165\n",
            "--------------------------------------------------------------------------------\n"
          ],
          "name": "stdout"
        },
        {
          "output_type": "stream",
          "text": [
            "Epoch 2: Step: 196it [01:06,  3.25it/s]                         \n",
            "Epoch 3: Step:  49%|████▊     | 95/195 [00:32<00:33,  2.98it/s]"
          ],
          "name": "stderr"
        },
        {
          "output_type": "stream",
          "text": [
            "\n",
            "\n",
            "--------------------------------------------------------------------------------\n",
            "Epoch [3/25], Step [95/195], Loss: 3.0666, Accuracy: 0.2305, F1: 0.1508\n",
            "--------------------------------------------------------------------------------\n"
          ],
          "name": "stdout"
        },
        {
          "output_type": "stream",
          "text": [
            "Epoch 3: Step:  97%|█████████▋| 190/195 [01:04<00:01,  2.89it/s]"
          ],
          "name": "stderr"
        },
        {
          "output_type": "stream",
          "text": [
            "\n",
            "\n",
            "--------------------------------------------------------------------------------\n",
            "Epoch [3/25], Step [190/195], Loss: 3.0096, Accuracy: 0.2188, F1: 0.1496\n",
            "--------------------------------------------------------------------------------\n"
          ],
          "name": "stdout"
        },
        {
          "output_type": "stream",
          "text": [
            "Epoch 3: Step: 196it [01:06,  3.34it/s]                         \n",
            "Epoch 4: Step:  49%|████▊     | 95/195 [00:32<00:33,  2.95it/s]"
          ],
          "name": "stderr"
        },
        {
          "output_type": "stream",
          "text": [
            "\n",
            "\n",
            "--------------------------------------------------------------------------------\n",
            "Epoch [4/25], Step [95/195], Loss: 2.8093, Accuracy: 0.3086, F1: 0.2274\n",
            "--------------------------------------------------------------------------------\n"
          ],
          "name": "stdout"
        },
        {
          "output_type": "stream",
          "text": [
            "Epoch 4: Step:  97%|█████████▋| 190/195 [01:04<00:01,  2.98it/s]"
          ],
          "name": "stderr"
        },
        {
          "output_type": "stream",
          "text": [
            "\n",
            "\n",
            "--------------------------------------------------------------------------------\n",
            "Epoch [4/25], Step [190/195], Loss: 2.8923, Accuracy: 0.2539, F1: 0.1897\n",
            "--------------------------------------------------------------------------------\n"
          ],
          "name": "stdout"
        },
        {
          "output_type": "stream",
          "text": [
            "Epoch 4: Step: 196it [01:06,  3.30it/s]                         \n",
            "Epoch 5: Step:  49%|████▊     | 95/195 [00:32<00:33,  2.99it/s]"
          ],
          "name": "stderr"
        },
        {
          "output_type": "stream",
          "text": [
            "\n",
            "\n",
            "--------------------------------------------------------------------------------\n",
            "Epoch [5/25], Step [95/195], Loss: 2.5396, Accuracy: 0.3359, F1: 0.2381\n",
            "--------------------------------------------------------------------------------\n"
          ],
          "name": "stdout"
        },
        {
          "output_type": "stream",
          "text": [
            "Epoch 5: Step:  97%|█████████▋| 190/195 [01:04<00:01,  2.94it/s]"
          ],
          "name": "stderr"
        },
        {
          "output_type": "stream",
          "text": [
            "\n",
            "\n",
            "--------------------------------------------------------------------------------\n",
            "Epoch [5/25], Step [190/195], Loss: 2.6506, Accuracy: 0.2695, F1: 0.2123\n",
            "--------------------------------------------------------------------------------\n"
          ],
          "name": "stdout"
        },
        {
          "output_type": "stream",
          "text": [
            "Epoch 5: Step: 196it [01:06,  3.35it/s]                         \n",
            "Epoch 6: Step:  49%|████▊     | 95/195 [00:32<00:33,  2.94it/s]"
          ],
          "name": "stderr"
        },
        {
          "output_type": "stream",
          "text": [
            "\n",
            "\n",
            "--------------------------------------------------------------------------------\n",
            "Epoch [6/25], Step [95/195], Loss: 2.4274, Accuracy: 0.3359, F1: 0.2629\n",
            "--------------------------------------------------------------------------------\n"
          ],
          "name": "stdout"
        },
        {
          "output_type": "stream",
          "text": [
            "Epoch 6: Step:  97%|█████████▋| 190/195 [01:04<00:01,  3.01it/s]"
          ],
          "name": "stderr"
        },
        {
          "output_type": "stream",
          "text": [
            "\n",
            "\n",
            "--------------------------------------------------------------------------------\n",
            "Epoch [6/25], Step [190/195], Loss: 2.3309, Accuracy: 0.3477, F1: 0.2869\n",
            "--------------------------------------------------------------------------------\n"
          ],
          "name": "stdout"
        },
        {
          "output_type": "stream",
          "text": [
            "Epoch 6: Step: 196it [01:06,  3.36it/s]                         \n",
            "Epoch 7: Step:  49%|████▊     | 95/195 [00:32<00:34,  2.90it/s]"
          ],
          "name": "stderr"
        },
        {
          "output_type": "stream",
          "text": [
            "\n",
            "\n",
            "--------------------------------------------------------------------------------\n",
            "Epoch [7/25], Step [95/195], Loss: 2.1234, Accuracy: 0.3906, F1: 0.2896\n",
            "--------------------------------------------------------------------------------\n"
          ],
          "name": "stdout"
        },
        {
          "output_type": "stream",
          "text": [
            "Epoch 7: Step:  97%|█████████▋| 190/195 [01:03<00:01,  3.00it/s]"
          ],
          "name": "stderr"
        },
        {
          "output_type": "stream",
          "text": [
            "\n",
            "\n",
            "--------------------------------------------------------------------------------\n",
            "Epoch [7/25], Step [190/195], Loss: 1.8931, Accuracy: 0.4688, F1: 0.3820\n",
            "--------------------------------------------------------------------------------\n"
          ],
          "name": "stdout"
        },
        {
          "output_type": "stream",
          "text": [
            "Epoch 7: Step: 196it [01:05,  3.34it/s]                         \n",
            "Epoch 8: Step:  49%|████▊     | 95/195 [00:32<00:33,  2.98it/s]"
          ],
          "name": "stderr"
        },
        {
          "output_type": "stream",
          "text": [
            "\n",
            "\n",
            "--------------------------------------------------------------------------------\n",
            "Epoch [8/25], Step [95/195], Loss: 1.9820, Accuracy: 0.4492, F1: 0.3428\n",
            "--------------------------------------------------------------------------------\n"
          ],
          "name": "stdout"
        },
        {
          "output_type": "stream",
          "text": [
            "Epoch 8: Step:  97%|█████████▋| 190/195 [01:04<00:01,  2.95it/s]"
          ],
          "name": "stderr"
        },
        {
          "output_type": "stream",
          "text": [
            "\n",
            "\n",
            "--------------------------------------------------------------------------------\n",
            "Epoch [8/25], Step [190/195], Loss: 1.8105, Accuracy: 0.4453, F1: 0.3411\n",
            "--------------------------------------------------------------------------------\n"
          ],
          "name": "stdout"
        },
        {
          "output_type": "stream",
          "text": [
            "Epoch 8: Step: 196it [01:05,  3.40it/s]                         \n",
            "Epoch 9: Step:  49%|████▊     | 95/195 [00:32<00:33,  2.95it/s]"
          ],
          "name": "stderr"
        },
        {
          "output_type": "stream",
          "text": [
            "\n",
            "\n",
            "--------------------------------------------------------------------------------\n",
            "Epoch [9/25], Step [95/195], Loss: 1.6947, Accuracy: 0.4805, F1: 0.4114\n",
            "--------------------------------------------------------------------------------\n"
          ],
          "name": "stdout"
        },
        {
          "output_type": "stream",
          "text": [
            "Epoch 9: Step:  97%|█████████▋| 190/195 [01:03<00:01,  3.03it/s]"
          ],
          "name": "stderr"
        },
        {
          "output_type": "stream",
          "text": [
            "\n",
            "\n",
            "--------------------------------------------------------------------------------\n",
            "Epoch [9/25], Step [190/195], Loss: 1.6065, Accuracy: 0.5000, F1: 0.4060\n",
            "--------------------------------------------------------------------------------\n"
          ],
          "name": "stdout"
        },
        {
          "output_type": "stream",
          "text": [
            "Epoch 9: Step: 196it [01:05,  3.39it/s]                         \n",
            "Epoch 10: Step:  49%|████▊     | 95/195 [00:32<00:33,  3.01it/s]"
          ],
          "name": "stderr"
        },
        {
          "output_type": "stream",
          "text": [
            "\n",
            "\n",
            "--------------------------------------------------------------------------------\n",
            "Epoch [10/25], Step [95/195], Loss: 1.3298, Accuracy: 0.5078, F1: 0.3691\n",
            "--------------------------------------------------------------------------------\n"
          ],
          "name": "stdout"
        },
        {
          "output_type": "stream",
          "text": [
            "Epoch 10: Step:  97%|█████████▋| 190/195 [01:03<00:01,  2.99it/s]"
          ],
          "name": "stderr"
        },
        {
          "output_type": "stream",
          "text": [
            "\n",
            "\n",
            "--------------------------------------------------------------------------------\n",
            "Epoch [10/25], Step [190/195], Loss: 1.6914, Accuracy: 0.4688, F1: 0.3508\n",
            "--------------------------------------------------------------------------------\n"
          ],
          "name": "stdout"
        },
        {
          "output_type": "stream",
          "text": [
            "Epoch 10: Step: 196it [01:05,  3.37it/s]                         \n",
            "Epoch 11: Step:  49%|████▊     | 95/195 [00:32<00:33,  2.97it/s]"
          ],
          "name": "stderr"
        },
        {
          "output_type": "stream",
          "text": [
            "\n",
            "\n",
            "--------------------------------------------------------------------------------\n",
            "Epoch [11/25], Step [95/195], Loss: 1.2081, Accuracy: 0.5469, F1: 0.4392\n",
            "--------------------------------------------------------------------------------\n"
          ],
          "name": "stdout"
        },
        {
          "output_type": "stream",
          "text": [
            "Epoch 11: Step:  97%|█████████▋| 190/195 [01:03<00:01,  3.02it/s]"
          ],
          "name": "stderr"
        },
        {
          "output_type": "stream",
          "text": [
            "\n",
            "\n",
            "--------------------------------------------------------------------------------\n",
            "Epoch [11/25], Step [190/195], Loss: 1.1268, Accuracy: 0.5508, F1: 0.4336\n",
            "--------------------------------------------------------------------------------\n"
          ],
          "name": "stdout"
        },
        {
          "output_type": "stream",
          "text": [
            "Epoch 11: Step: 196it [01:05,  3.33it/s]                         \n",
            "Epoch 12: Step:  49%|████▊     | 95/195 [00:32<00:34,  2.89it/s]"
          ],
          "name": "stderr"
        },
        {
          "output_type": "stream",
          "text": [
            "\n",
            "\n",
            "--------------------------------------------------------------------------------\n",
            "Epoch [12/25], Step [95/195], Loss: 0.9170, Accuracy: 0.6016, F1: 0.4685\n",
            "--------------------------------------------------------------------------------\n"
          ],
          "name": "stdout"
        },
        {
          "output_type": "stream",
          "text": [
            "Epoch 12: Step:  97%|█████████▋| 190/195 [01:04<00:01,  2.97it/s]"
          ],
          "name": "stderr"
        },
        {
          "output_type": "stream",
          "text": [
            "\n",
            "\n",
            "--------------------------------------------------------------------------------\n",
            "Epoch [12/25], Step [190/195], Loss: 1.0619, Accuracy: 0.5430, F1: 0.4469\n",
            "--------------------------------------------------------------------------------\n"
          ],
          "name": "stdout"
        },
        {
          "output_type": "stream",
          "text": [
            "Epoch 12: Step: 196it [01:06,  3.27it/s]                         \n",
            "Epoch 13: Step:  49%|████▊     | 95/195 [00:32<00:33,  2.99it/s]"
          ],
          "name": "stderr"
        },
        {
          "output_type": "stream",
          "text": [
            "\n",
            "\n",
            "--------------------------------------------------------------------------------\n",
            "Epoch [13/25], Step [95/195], Loss: 0.8763, Accuracy: 0.6211, F1: 0.4790\n",
            "--------------------------------------------------------------------------------\n"
          ],
          "name": "stdout"
        },
        {
          "output_type": "stream",
          "text": [
            "Epoch 13: Step:  97%|█████████▋| 190/195 [01:04<00:01,  2.95it/s]"
          ],
          "name": "stderr"
        },
        {
          "output_type": "stream",
          "text": [
            "\n",
            "\n",
            "--------------------------------------------------------------------------------\n",
            "Epoch [13/25], Step [190/195], Loss: 0.9383, Accuracy: 0.5508, F1: 0.4324\n",
            "--------------------------------------------------------------------------------\n"
          ],
          "name": "stdout"
        },
        {
          "output_type": "stream",
          "text": [
            "Epoch 13: Step: 196it [01:05,  3.42it/s]                         \n",
            "Epoch 14: Step:  49%|████▊     | 95/195 [00:32<00:33,  2.95it/s]"
          ],
          "name": "stderr"
        },
        {
          "output_type": "stream",
          "text": [
            "\n",
            "\n",
            "--------------------------------------------------------------------------------\n",
            "Epoch [14/25], Step [95/195], Loss: 0.6972, Accuracy: 0.6523, F1: 0.5059\n",
            "--------------------------------------------------------------------------------\n"
          ],
          "name": "stdout"
        },
        {
          "output_type": "stream",
          "text": [
            "Epoch 14: Step:  97%|█████████▋| 190/195 [01:04<00:01,  3.00it/s]"
          ],
          "name": "stderr"
        },
        {
          "output_type": "stream",
          "text": [
            "\n",
            "\n",
            "--------------------------------------------------------------------------------\n",
            "Epoch [14/25], Step [190/195], Loss: 0.6751, Accuracy: 0.5898, F1: 0.4298\n",
            "--------------------------------------------------------------------------------\n"
          ],
          "name": "stdout"
        },
        {
          "output_type": "stream",
          "text": [
            "Epoch 14: Step: 196it [01:06,  3.27it/s]                         \n",
            "Epoch 15: Step:  49%|████▊     | 95/195 [00:32<00:34,  2.94it/s]"
          ],
          "name": "stderr"
        },
        {
          "output_type": "stream",
          "text": [
            "\n",
            "\n",
            "--------------------------------------------------------------------------------\n",
            "Epoch [15/25], Step [95/195], Loss: 0.4724, Accuracy: 0.6445, F1: 0.4896\n",
            "--------------------------------------------------------------------------------\n"
          ],
          "name": "stdout"
        },
        {
          "output_type": "stream",
          "text": [
            "Epoch 15: Step:  97%|█████████▋| 190/195 [01:04<00:01,  2.88it/s]"
          ],
          "name": "stderr"
        },
        {
          "output_type": "stream",
          "text": [
            "\n",
            "\n",
            "--------------------------------------------------------------------------------\n",
            "Epoch [15/25], Step [190/195], Loss: 0.5935, Accuracy: 0.6406, F1: 0.5091\n",
            "--------------------------------------------------------------------------------\n"
          ],
          "name": "stdout"
        },
        {
          "output_type": "stream",
          "text": [
            "Epoch 15: Step: 196it [01:06,  3.35it/s]                         \n",
            "Epoch 16: Step:  49%|████▊     | 95/195 [00:32<00:33,  3.00it/s]"
          ],
          "name": "stderr"
        },
        {
          "output_type": "stream",
          "text": [
            "\n",
            "\n",
            "--------------------------------------------------------------------------------\n",
            "Epoch [16/25], Step [95/195], Loss: 0.4455, Accuracy: 0.6758, F1: 0.5174\n",
            "--------------------------------------------------------------------------------\n"
          ],
          "name": "stdout"
        },
        {
          "output_type": "stream",
          "text": [
            "Epoch 16: Step:  97%|█████████▋| 190/195 [01:04<00:01,  3.02it/s]"
          ],
          "name": "stderr"
        },
        {
          "output_type": "stream",
          "text": [
            "\n",
            "\n",
            "--------------------------------------------------------------------------------\n",
            "Epoch [16/25], Step [190/195], Loss: 0.5970, Accuracy: 0.6328, F1: 0.4731\n",
            "--------------------------------------------------------------------------------\n"
          ],
          "name": "stdout"
        },
        {
          "output_type": "stream",
          "text": [
            "Epoch 16: Step: 196it [01:06,  3.39it/s]                         \n",
            "Epoch 17: Step:  49%|████▊     | 95/195 [00:32<00:34,  2.93it/s]"
          ],
          "name": "stderr"
        },
        {
          "output_type": "stream",
          "text": [
            "\n",
            "\n",
            "--------------------------------------------------------------------------------\n",
            "Epoch [17/25], Step [95/195], Loss: 0.3914, Accuracy: 0.6797, F1: 0.5269\n",
            "--------------------------------------------------------------------------------\n"
          ],
          "name": "stdout"
        },
        {
          "output_type": "stream",
          "text": [
            "Epoch 17: Step:  97%|█████████▋| 190/195 [01:04<00:01,  2.99it/s]"
          ],
          "name": "stderr"
        },
        {
          "output_type": "stream",
          "text": [
            "\n",
            "\n",
            "--------------------------------------------------------------------------------\n",
            "Epoch [17/25], Step [190/195], Loss: 0.4069, Accuracy: 0.6719, F1: 0.5318\n",
            "--------------------------------------------------------------------------------\n"
          ],
          "name": "stdout"
        },
        {
          "output_type": "stream",
          "text": [
            "Epoch 17: Step: 196it [01:05,  3.30it/s]                         \n",
            "Epoch 18: Step:  49%|████▊     | 95/195 [00:32<00:33,  2.97it/s]"
          ],
          "name": "stderr"
        },
        {
          "output_type": "stream",
          "text": [
            "\n",
            "\n",
            "--------------------------------------------------------------------------------\n",
            "Epoch [18/25], Step [95/195], Loss: 0.3030, Accuracy: 0.7578, F1: 0.5962\n",
            "--------------------------------------------------------------------------------\n"
          ],
          "name": "stdout"
        },
        {
          "output_type": "stream",
          "text": [
            "Epoch 18: Step:  97%|█████████▋| 190/195 [01:04<00:01,  2.94it/s]"
          ],
          "name": "stderr"
        },
        {
          "output_type": "stream",
          "text": [
            "\n",
            "\n",
            "--------------------------------------------------------------------------------\n",
            "Epoch [18/25], Step [190/195], Loss: 0.3749, Accuracy: 0.6680, F1: 0.5325\n",
            "--------------------------------------------------------------------------------\n"
          ],
          "name": "stdout"
        },
        {
          "output_type": "stream",
          "text": [
            "Epoch 18: Step: 196it [01:06,  3.39it/s]                         \n",
            "Epoch 19: Step:  49%|████▊     | 95/195 [00:32<00:34,  2.94it/s]"
          ],
          "name": "stderr"
        },
        {
          "output_type": "stream",
          "text": [
            "\n",
            "\n",
            "--------------------------------------------------------------------------------\n",
            "Epoch [19/25], Step [95/195], Loss: 0.2540, Accuracy: 0.7812, F1: 0.6536\n",
            "--------------------------------------------------------------------------------\n"
          ],
          "name": "stdout"
        },
        {
          "output_type": "stream",
          "text": [
            "Epoch 19: Step:  97%|█████████▋| 190/195 [01:04<00:01,  2.98it/s]"
          ],
          "name": "stderr"
        },
        {
          "output_type": "stream",
          "text": [
            "\n",
            "\n",
            "--------------------------------------------------------------------------------\n",
            "Epoch [19/25], Step [190/195], Loss: 0.2926, Accuracy: 0.6523, F1: 0.5316\n",
            "--------------------------------------------------------------------------------\n"
          ],
          "name": "stdout"
        },
        {
          "output_type": "stream",
          "text": [
            "Epoch 19: Step: 196it [01:06,  3.37it/s]                         \n",
            "Epoch 20: Step:  49%|████▊     | 95/195 [00:32<00:33,  3.00it/s]"
          ],
          "name": "stderr"
        },
        {
          "output_type": "stream",
          "text": [
            "\n",
            "\n",
            "--------------------------------------------------------------------------------\n",
            "Epoch [20/25], Step [95/195], Loss: 0.2232, Accuracy: 0.7070, F1: 0.5625\n",
            "--------------------------------------------------------------------------------\n"
          ],
          "name": "stdout"
        },
        {
          "output_type": "stream",
          "text": [
            "Epoch 20: Step:  97%|█████████▋| 190/195 [01:04<00:01,  2.95it/s]"
          ],
          "name": "stderr"
        },
        {
          "output_type": "stream",
          "text": [
            "\n",
            "\n",
            "--------------------------------------------------------------------------------\n",
            "Epoch [20/25], Step [190/195], Loss: 0.3855, Accuracy: 0.6797, F1: 0.5212\n",
            "--------------------------------------------------------------------------------\n"
          ],
          "name": "stdout"
        },
        {
          "output_type": "stream",
          "text": [
            "Epoch 20: Step: 196it [01:06,  3.36it/s]                         \n",
            "Epoch 21: Step:  49%|████▊     | 95/195 [00:32<00:33,  2.97it/s]"
          ],
          "name": "stderr"
        },
        {
          "output_type": "stream",
          "text": [
            "\n",
            "\n",
            "--------------------------------------------------------------------------------\n",
            "Epoch [21/25], Step [95/195], Loss: 0.2020, Accuracy: 0.7578, F1: 0.6101\n",
            "--------------------------------------------------------------------------------\n"
          ],
          "name": "stdout"
        },
        {
          "output_type": "stream",
          "text": [
            "Epoch 21: Step:  97%|█████████▋| 190/195 [01:04<00:01,  2.97it/s]"
          ],
          "name": "stderr"
        },
        {
          "output_type": "stream",
          "text": [
            "\n",
            "\n",
            "--------------------------------------------------------------------------------\n",
            "Epoch [21/25], Step [190/195], Loss: 0.1984, Accuracy: 0.7383, F1: 0.5813\n",
            "--------------------------------------------------------------------------------\n"
          ],
          "name": "stdout"
        },
        {
          "output_type": "stream",
          "text": [
            "Epoch 21: Step: 196it [01:06,  3.36it/s]                         \n",
            "Epoch 22: Step:  49%|████▊     | 95/195 [00:32<00:34,  2.90it/s]"
          ],
          "name": "stderr"
        },
        {
          "output_type": "stream",
          "text": [
            "\n",
            "\n",
            "--------------------------------------------------------------------------------\n",
            "Epoch [22/25], Step [95/195], Loss: 0.1715, Accuracy: 0.7305, F1: 0.5765\n",
            "--------------------------------------------------------------------------------\n"
          ],
          "name": "stdout"
        },
        {
          "output_type": "stream",
          "text": [
            "Epoch 22: Step:  97%|█████████▋| 190/195 [01:04<00:01,  2.98it/s]"
          ],
          "name": "stderr"
        },
        {
          "output_type": "stream",
          "text": [
            "\n",
            "\n",
            "--------------------------------------------------------------------------------\n",
            "Epoch [22/25], Step [190/195], Loss: 0.1817, Accuracy: 0.6680, F1: 0.4865\n",
            "--------------------------------------------------------------------------------\n"
          ],
          "name": "stdout"
        },
        {
          "output_type": "stream",
          "text": [
            "Epoch 22: Step: 196it [01:06,  3.31it/s]                         \n",
            "Epoch 23: Step:  49%|████▊     | 95/195 [00:32<00:33,  2.97it/s]"
          ],
          "name": "stderr"
        },
        {
          "output_type": "stream",
          "text": [
            "\n",
            "\n",
            "--------------------------------------------------------------------------------\n",
            "Epoch [23/25], Step [95/195], Loss: 0.1458, Accuracy: 0.7383, F1: 0.5976\n",
            "--------------------------------------------------------------------------------\n"
          ],
          "name": "stdout"
        },
        {
          "output_type": "stream",
          "text": [
            "Epoch 23: Step:  97%|█████████▋| 190/195 [01:04<00:01,  2.91it/s]"
          ],
          "name": "stderr"
        },
        {
          "output_type": "stream",
          "text": [
            "\n",
            "\n",
            "--------------------------------------------------------------------------------\n",
            "Epoch [23/25], Step [190/195], Loss: 0.1947, Accuracy: 0.7422, F1: 0.5944\n",
            "--------------------------------------------------------------------------------\n"
          ],
          "name": "stdout"
        },
        {
          "output_type": "stream",
          "text": [
            "Epoch 23: Step: 196it [01:06,  3.37it/s]                         \n",
            "Epoch 24: Step:  49%|████▊     | 95/195 [00:32<00:34,  2.89it/s]"
          ],
          "name": "stderr"
        },
        {
          "output_type": "stream",
          "text": [
            "\n",
            "\n",
            "--------------------------------------------------------------------------------\n",
            "Epoch [24/25], Step [95/195], Loss: 0.1620, Accuracy: 0.7109, F1: 0.5318\n",
            "--------------------------------------------------------------------------------\n"
          ],
          "name": "stdout"
        },
        {
          "output_type": "stream",
          "text": [
            "Epoch 24: Step:  97%|█████████▋| 190/195 [01:04<00:01,  3.03it/s]"
          ],
          "name": "stderr"
        },
        {
          "output_type": "stream",
          "text": [
            "\n",
            "\n",
            "--------------------------------------------------------------------------------\n",
            "Epoch [24/25], Step [190/195], Loss: 0.2226, Accuracy: 0.7148, F1: 0.5444\n",
            "--------------------------------------------------------------------------------\n"
          ],
          "name": "stdout"
        },
        {
          "output_type": "stream",
          "text": [
            "Epoch 24: Step: 196it [01:06,  3.37it/s]                         \n",
            "Epoch 25: Step:  49%|████▊     | 95/195 [00:32<00:33,  3.01it/s]"
          ],
          "name": "stderr"
        },
        {
          "output_type": "stream",
          "text": [
            "\n",
            "\n",
            "--------------------------------------------------------------------------------\n",
            "Epoch [25/25], Step [95/195], Loss: 0.1183, Accuracy: 0.6953, F1: 0.5300\n",
            "--------------------------------------------------------------------------------\n"
          ],
          "name": "stdout"
        },
        {
          "output_type": "stream",
          "text": [
            "Epoch 25: Step:  97%|█████████▋| 190/195 [01:04<00:01,  3.01it/s]"
          ],
          "name": "stderr"
        },
        {
          "output_type": "stream",
          "text": [
            "\n",
            "\n",
            "--------------------------------------------------------------------------------\n",
            "Epoch [25/25], Step [190/195], Loss: 0.2337, Accuracy: 0.6484, F1: 0.4990\n",
            "--------------------------------------------------------------------------------\n"
          ],
          "name": "stdout"
        },
        {
          "output_type": "stream",
          "text": [
            "Epoch 25: Step: 196it [01:05,  3.43it/s]                         \n"
          ],
          "name": "stderr"
        }
      ]
    },
    {
      "cell_type": "code",
      "metadata": {
        "id": "cS7Y8G6w_aEG",
        "colab_type": "code",
        "colab": {
          "base_uri": "https://localhost:8080/",
          "height": 734
        },
        "outputId": "253ef30f-2cc9-424d-fa2e-41f843548c00"
      },
      "source": [
        "with experiment.test():\n",
        "    model.eval()\n",
        "\n",
        "    total_accuracy = 0\n",
        "    total_f1 = 0\n",
        "    count = 0\n",
        "    with tqdm(\n",
        "        total=len(test_data) // args.batch_size, desc=\"Test Step\".format(epoch)\n",
        "    ) as pbar:\n",
        "        for idx, (images, labels) in enumerate(test_loader):\n",
        "            images = Variable(images.to(DEVICE))\n",
        "            labels = Variable(labels.to(DEVICE))\n",
        "\n",
        "            outputs = model(images)\n",
        "            loss = criterion(outputs, labels)\n",
        "\n",
        "            predictions = torch.nn.functional.softmax(outputs, dim=0)\n",
        "            count += 1\n",
        "            total_accuracy += compute_metric(\n",
        "                accuracy_score, labels, predictions\n",
        "            )\n",
        "            total_f1 += compute_metric(\n",
        "                f1_score, labels, predictions, average=\"macro\"\n",
        "            )\n",
        "            pbar.update()\n",
        "\n",
        "    experiment.log_metrics(\n",
        "        {\"mean_accuracy\": total_accuracy / count, \"mean_f1\": total_f1 / count},\n",
        "        step=step,\n",
        "    )\n",
        "    print(\"\\n\")\n",
        "    print(\"-\" * 80)\n",
        "    print(\n",
        "        \"Mean test batch accuracy on {} images with batch size {}: {}\".format(\n",
        "            len(test_data), args.batch_size, total_accuracy / count\n",
        "        )\n",
        "    )\n",
        "    print(\n",
        "        \"Mean test batch F1 on {} images with batch size {}: {}\".format(\n",
        "            len(test_data), args.batch_size, total_f1 / count\n",
        "        )\n",
        "    )\n",
        "    print(\"-\" * 80)\n",
        "    experiment.end()"
      ],
      "execution_count": 15,
      "outputs": [
        {
          "output_type": "stream",
          "text": [
            "Test Step:   0%|          | 0/39 [00:00<?, ?it/s]/usr/local/lib/python3.6/dist-packages/sklearn/metrics/classification.py:1437: UndefinedMetricWarning: F-score is ill-defined and being set to 0.0 in labels with no predicted samples.\n",
            "  'precision', 'predicted', average, warn_for)\n",
            "/usr/local/lib/python3.6/dist-packages/sklearn/metrics/classification.py:1439: UndefinedMetricWarning: F-score is ill-defined and being set to 0.0 in labels with no true samples.\n",
            "  'recall', 'true', average, warn_for)\n",
            "Test Step: 40it [00:04,  8.35it/s]                        \n",
            "COMET INFO: ----------------------------\n",
            "COMET INFO: Comet.ml Experiment Summary:\n",
            "COMET INFO:   Data:\n",
            "COMET INFO:     url: https://www.comet.ml/fastrino/fastrino/ded4236671ec41399ca2035f262901e3\n",
            "COMET INFO:   Metrics [count] (min, max):\n",
            "COMET INFO:     sys.cpu.percent.01                  : (43.4, 43.4)\n",
            "COMET INFO:     sys.cpu.percent.02                  : (44.5, 44.5)\n",
            "COMET INFO:     sys.cpu.percent.avg                 : (43.95, 43.95)\n",
            "COMET INFO:     sys.gpu.0.free_memory               : (10004267008.0, 10004267008.0)\n",
            "COMET INFO:     sys.gpu.0.gpu_utilization           : (0.0, 0.0)\n",
            "COMET INFO:     sys.gpu.0.total_memory              : (11996954624.0, 11996954624.0)\n",
            "COMET INFO:     sys.gpu.0.used_memory               : (1992687616.0, 1992687616.0)\n",
            "COMET INFO:     sys.ram.total                       : (13655232512.0, 13655232512.0)\n",
            "COMET INFO:     sys.ram.used                        : (2949324800.0, 2949324800.0)\n",
            "COMET INFO:     test_mean_accuracy                  : (0.23505859375, 0.23505859375)\n",
            "COMET INFO:     test_mean_f1                        : (0.18192708707326094, 0.18192708707326094)\n",
            "COMET INFO:     train_accuracy [4900]               : (0.0, 0.83203125)\n",
            "COMET INFO:     train_curr_epoch [25]               : 25\n",
            "COMET INFO:     train_f1 [4900]                     : (0.0, 0.6866919746919746)\n",
            "COMET INFO:     train_loss [5390]                   : (0.08769303560256958, 6.969698429107666)\n",
            "COMET INFO:     train_sys.cpu.percent.01 [24]       : (64.2, 72.0)\n",
            "COMET INFO:     train_sys.cpu.percent.02 [24]       : (67.3, 74.8)\n",
            "COMET INFO:     train_sys.cpu.percent.avg [24]      : (69.44999999999999, 69.95)\n",
            "COMET INFO:     train_sys.gpu.0.free_memory [27]    : (9899409408.0, 9899409408.0)\n",
            "COMET INFO:     train_sys.gpu.0.gpu_utilization [27]: (58.0, 80.0)\n",
            "COMET INFO:     train_sys.gpu.0.used_memory [27]    : (2097545216.0, 2097545216.0)\n",
            "COMET INFO:     train_sys.ram.total [24]            : (13655232512.0, 13655232512.0)\n",
            "COMET INFO:     train_sys.ram.used [24]             : (2981466112.0, 2991460352.0)\n",
            "COMET INFO: ----------------------------\n"
          ],
          "name": "stderr"
        },
        {
          "output_type": "stream",
          "text": [
            "\n",
            "\n",
            "--------------------------------------------------------------------------------\n",
            "Mean test batch accuracy on 10000 images with batch size 256: 0.23505859375\n",
            "Mean test batch F1 on 10000 images with batch size 256: 0.18192708707326094\n",
            "--------------------------------------------------------------------------------\n"
          ],
          "name": "stdout"
        },
        {
          "output_type": "stream",
          "text": [
            "COMET INFO: Uploading stats to Comet before program termination (may take several seconds)\n"
          ],
          "name": "stderr"
        }
      ]
    },
    {
      "cell_type": "code",
      "metadata": {
        "id": "6mRkmGK12XIM",
        "colab_type": "code",
        "colab": {}
      },
      "source": [
        ""
      ],
      "execution_count": 0,
      "outputs": []
    }
  ]
}