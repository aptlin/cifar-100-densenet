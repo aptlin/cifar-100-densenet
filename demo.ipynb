{
  "nbformat": 4,
  "nbformat_minor": 0,
  "metadata": {
    "colab": {
      "name": "demo.ipynb",
      "provenance": [],
      "collapsed_sections": [],
      "include_colab_link": true
    },
    "kernelspec": {
      "name": "python3",
      "display_name": "Python 3"
    },
    "accelerator": "GPU"
  },
  "cells": [
    {
      "cell_type": "markdown",
      "metadata": {
        "id": "view-in-github",
        "colab_type": "text"
      },
      "source": [
        "<a href=\"https://colab.research.google.com/github/sdll/cifar-100-densenet/blob/master/demo.ipynb\" target=\"_parent\"><img src=\"https://colab.research.google.com/assets/colab-badge.svg\" alt=\"Open In Colab\"/></a>"
      ]
    },
    {
      "cell_type": "markdown",
      "metadata": {
        "id": "KAW0R5zSsOjA",
        "colab_type": "text"
      },
      "source": [
        "# Image classification demo of DenseNet in PyTorch on CIFAR 100\n",
        "## Configuration"
      ]
    },
    {
      "cell_type": "code",
      "metadata": {
        "id": "TIpy5rccsFFn",
        "colab_type": "code",
        "colab": {}
      },
      "source": [
        "# Taken from https://git.io/JeD2H\n",
        "CIFAR_100_MEAN = (129.3, 124.1, 112.4)\n",
        "CIFAR_100_STD = (68.2,  65.4,  70.4)\n",
        "\n",
        "PROJECT = \"fastrino\"\n",
        "DEVICE = \"cuda\""
      ],
      "execution_count": 0,
      "outputs": []
    },
    {
      "cell_type": "code",
      "metadata": {
        "id": "VeALhFoGs_Yi",
        "colab_type": "code",
        "outputId": "597db26b-6af5-4a53-9ef7-14f1a2709925",
        "colab": {
          "base_uri": "https://localhost:8080/",
          "height": 1000
        }
      },
      "source": [
        "!pip install gsheet-keyring ipython-secrets comet_ml"
      ],
      "execution_count": 3,
      "outputs": [
        {
          "output_type": "stream",
          "text": [
            "Collecting gsheet-keyring\n",
            "  Downloading https://files.pythonhosted.org/packages/b0/4f/d884fe8601d5e7f3e2e010cc5c9d3142f11169fea3203901d36d1b8317f2/gsheet_keyring-1.0.1-py3-none-any.whl\n",
            "Collecting ipython-secrets\n",
            "  Downloading https://files.pythonhosted.org/packages/53/c3/8bf761aff37e08141bfe7f3086f276a9545b73b10ba935b48bb4dc036f54/ipython_secrets-1.1.1-py3-none-any.whl\n",
            "Collecting comet_ml\n",
            "\u001b[?25l  Downloading https://files.pythonhosted.org/packages/31/8c/f30fca4a68379faec4a75b929d1789deb0dd60d5be62afd216c2b2878ad4/comet_ml-3.0.0-py3-none-any.whl (163kB)\n",
            "\u001b[K     |████████████████████████████████| 163kB 9.5MB/s \n",
            "\u001b[?25hRequirement already satisfied: gspread in /usr/local/lib/python3.6/dist-packages (from gsheet-keyring) (3.0.1)\n",
            "Collecting keyring\n",
            "  Downloading https://files.pythonhosted.org/packages/a0/7b/77364ff41dda99cb9621c8a087ff38ffaddbe0a72ad776905a423858a47a/keyring-20.0.0-py2.py3-none-any.whl\n",
            "Requirement already satisfied: oauth2client in /usr/local/lib/python3.6/dist-packages (from gsheet-keyring) (4.1.3)\n",
            "Requirement already satisfied: ipython in /usr/local/lib/python3.6/dist-packages (from ipython-secrets) (5.5.0)\n",
            "Collecting wurlitzer>=1.0.2\n",
            "  Downloading https://files.pythonhosted.org/packages/24/5e/f3bd8443bfdf96d2f5d10097d301076a9eb55637b7864e52d2d1a4d8c72a/wurlitzer-2.0.0-py2.py3-none-any.whl\n",
            "Collecting netifaces>=0.10.7\n",
            "  Downloading https://files.pythonhosted.org/packages/0c/9b/c4c7eb09189548d45939a3d3a6b3d53979c67d124459b27a094c365c347f/netifaces-0.10.9-cp36-cp36m-manylinux1_x86_64.whl\n",
            "Collecting everett[ini]>=1.0.1; python_version >= \"3.0\"\n",
            "  Downloading https://files.pythonhosted.org/packages/12/34/de70a3d913411e40ce84966f085b5da0c6df741e28c86721114dd290aaa0/everett-1.0.2-py2.py3-none-any.whl\n",
            "Requirement already satisfied: jsonschema<3.1.0,>=2.6.0 in /usr/local/lib/python3.6/dist-packages (from comet_ml) (2.6.0)\n",
            "Requirement already satisfied: six in /usr/local/lib/python3.6/dist-packages (from comet_ml) (1.12.0)\n",
            "Requirement already satisfied: nvidia-ml-py3>=7.352.0 in /usr/local/lib/python3.6/dist-packages (from comet_ml) (7.352.0)\n",
            "Collecting comet-git-pure>=0.19.11\n",
            "\u001b[?25l  Downloading https://files.pythonhosted.org/packages/fa/91/b191ae375380332f82aaa83a41c45844ee1809198085cd267fbcb95cce86/comet_git_pure-0.19.14-py3-none-any.whl (401kB)\n",
            "\u001b[K     |████████████████████████████████| 409kB 52.7MB/s \n",
            "\u001b[?25hCollecting websocket-client>=0.55.0\n",
            "\u001b[?25l  Downloading https://files.pythonhosted.org/packages/29/19/44753eab1fdb50770ac69605527e8859468f3c0fd7dc5a76dd9c4dbd7906/websocket_client-0.56.0-py2.py3-none-any.whl (200kB)\n",
            "\u001b[K     |████████████████████████████████| 204kB 46.5MB/s \n",
            "\u001b[?25hRequirement already satisfied: requests>=2.18.4 in /usr/local/lib/python3.6/dist-packages (from comet_ml) (2.21.0)\n",
            "Requirement already satisfied: importlib-metadata; python_version < \"3.8\" in /usr/local/lib/python3.6/dist-packages (from keyring->gsheet-keyring) (1.2.0)\n",
            "Collecting secretstorage; sys_platform == \"linux\"\n",
            "  Downloading https://files.pythonhosted.org/packages/82/59/cb226752e20d83598d7fdcabd7819570b0329a61db07cfbdd21b2ef546e3/SecretStorage-3.1.1-py3-none-any.whl\n",
            "Requirement already satisfied: rsa>=3.1.4 in /usr/local/lib/python3.6/dist-packages (from oauth2client->gsheet-keyring) (4.0)\n",
            "Requirement already satisfied: pyasn1>=0.1.7 in /usr/local/lib/python3.6/dist-packages (from oauth2client->gsheet-keyring) (0.4.8)\n",
            "Requirement already satisfied: httplib2>=0.9.1 in /usr/local/lib/python3.6/dist-packages (from oauth2client->gsheet-keyring) (0.11.3)\n",
            "Requirement already satisfied: pyasn1-modules>=0.0.5 in /usr/local/lib/python3.6/dist-packages (from oauth2client->gsheet-keyring) (0.2.7)\n",
            "Requirement already satisfied: simplegeneric>0.8 in /usr/local/lib/python3.6/dist-packages (from ipython->ipython-secrets) (0.8.1)\n",
            "Requirement already satisfied: decorator in /usr/local/lib/python3.6/dist-packages (from ipython->ipython-secrets) (4.4.1)\n",
            "Requirement already satisfied: pygments in /usr/local/lib/python3.6/dist-packages (from ipython->ipython-secrets) (2.1.3)\n",
            "Requirement already satisfied: pickleshare in /usr/local/lib/python3.6/dist-packages (from ipython->ipython-secrets) (0.7.5)\n",
            "Requirement already satisfied: prompt-toolkit<2.0.0,>=1.0.4 in /usr/local/lib/python3.6/dist-packages (from ipython->ipython-secrets) (1.0.18)\n",
            "Requirement already satisfied: setuptools>=18.5 in /usr/local/lib/python3.6/dist-packages (from ipython->ipython-secrets) (42.0.1)\n",
            "Requirement already satisfied: pexpect; sys_platform != \"win32\" in /usr/local/lib/python3.6/dist-packages (from ipython->ipython-secrets) (4.7.0)\n",
            "Requirement already satisfied: traitlets>=4.2 in /usr/local/lib/python3.6/dist-packages (from ipython->ipython-secrets) (4.3.3)\n",
            "Collecting configobj; extra == \"ini\"\n",
            "  Downloading https://files.pythonhosted.org/packages/64/61/079eb60459c44929e684fa7d9e2fdca403f67d64dd9dbac27296be2e0fab/configobj-5.0.6.tar.gz\n",
            "Requirement already satisfied: urllib3>=1.24.1 in /usr/local/lib/python3.6/dist-packages (from comet-git-pure>=0.19.11->comet_ml) (1.24.3)\n",
            "Requirement already satisfied: certifi in /usr/local/lib/python3.6/dist-packages (from comet-git-pure>=0.19.11->comet_ml) (2019.11.28)\n",
            "Requirement already satisfied: idna<2.9,>=2.5 in /usr/local/lib/python3.6/dist-packages (from requests>=2.18.4->comet_ml) (2.8)\n",
            "Requirement already satisfied: chardet<3.1.0,>=3.0.2 in /usr/local/lib/python3.6/dist-packages (from requests>=2.18.4->comet_ml) (3.0.4)\n",
            "Requirement already satisfied: zipp>=0.5 in /usr/local/lib/python3.6/dist-packages (from importlib-metadata; python_version < \"3.8\"->keyring->gsheet-keyring) (0.6.0)\n",
            "Collecting jeepney\n",
            "\u001b[?25l  Downloading https://files.pythonhosted.org/packages/0a/4c/ef880713a6c6d628869596703167eab2edf8e0ec2d870d1089dcb0901b81/jeepney-0.4.1-py3-none-any.whl (60kB)\n",
            "\u001b[K     |████████████████████████████████| 61kB 9.4MB/s \n",
            "\u001b[?25hCollecting cryptography\n",
            "\u001b[?25l  Downloading https://files.pythonhosted.org/packages/ca/9a/7cece52c46546e214e10811b36b2da52ce1ea7fa203203a629b8dfadad53/cryptography-2.8-cp34-abi3-manylinux2010_x86_64.whl (2.3MB)\n",
            "\u001b[K     |████████████████████████████████| 2.3MB 44.3MB/s \n",
            "\u001b[?25hRequirement already satisfied: wcwidth in /usr/local/lib/python3.6/dist-packages (from prompt-toolkit<2.0.0,>=1.0.4->ipython->ipython-secrets) (0.1.7)\n",
            "Requirement already satisfied: ptyprocess>=0.5 in /usr/local/lib/python3.6/dist-packages (from pexpect; sys_platform != \"win32\"->ipython->ipython-secrets) (0.6.0)\n",
            "Requirement already satisfied: ipython-genutils in /usr/local/lib/python3.6/dist-packages (from traitlets>=4.2->ipython->ipython-secrets) (0.2.0)\n",
            "Requirement already satisfied: more-itertools in /usr/local/lib/python3.6/dist-packages (from zipp>=0.5->importlib-metadata; python_version < \"3.8\"->keyring->gsheet-keyring) (8.0.0)\n",
            "Requirement already satisfied: cffi!=1.11.3,>=1.8 in /usr/local/lib/python3.6/dist-packages (from cryptography->secretstorage; sys_platform == \"linux\"->keyring->gsheet-keyring) (1.13.2)\n",
            "Requirement already satisfied: pycparser in /usr/local/lib/python3.6/dist-packages (from cffi!=1.11.3,>=1.8->cryptography->secretstorage; sys_platform == \"linux\"->keyring->gsheet-keyring) (2.19)\n",
            "Building wheels for collected packages: configobj\n",
            "  Building wheel for configobj (setup.py) ... \u001b[?25l\u001b[?25hdone\n",
            "  Created wheel for configobj: filename=configobj-5.0.6-cp36-none-any.whl size=34546 sha256=4c05709daaeeaa7df64981471ad0210154811a035deab1cac80be14d1d9a54e6\n",
            "  Stored in directory: /root/.cache/pip/wheels/f1/e4/16/4981ca97c2d65106b49861e0b35e2660695be7219a2d351ee0\n",
            "Successfully built configobj\n",
            "Installing collected packages: jeepney, cryptography, secretstorage, keyring, gsheet-keyring, ipython-secrets, wurlitzer, netifaces, configobj, everett, comet-git-pure, websocket-client, comet-ml\n",
            "Successfully installed comet-git-pure-0.19.14 comet-ml-3.0.0 configobj-5.0.6 cryptography-2.8 everett-1.0.2 gsheet-keyring-1.0.1 ipython-secrets-1.1.1 jeepney-0.4.1 keyring-20.0.0 netifaces-0.10.9 secretstorage-3.1.1 websocket-client-0.56.0 wurlitzer-2.0.0\n"
          ],
          "name": "stdout"
        }
      ]
    },
    {
      "cell_type": "markdown",
      "metadata": {
        "id": "zsXT8iqlseWs",
        "colab_type": "text"
      },
      "source": [
        "## Model"
      ]
    },
    {
      "cell_type": "code",
      "metadata": {
        "id": "tW00_8EPshpa",
        "colab_type": "code",
        "colab": {}
      },
      "source": [
        "from comet_ml import Experiment\n",
        "from collections import OrderedDict\n",
        "\n",
        "import torch\n",
        "import torch.nn as nn\n",
        "import torch.nn.functional as F\n",
        "from torch import Tensor\n",
        "\n",
        "\n",
        "class DenseLayer(nn.Module):\n",
        "    def __init__(self, num_input_features, growth_rate, bn_size, drop_rate):\n",
        "        super(DenseLayer, self).__init__()\n",
        "        self.add_module(\"norm1\", nn.BatchNorm2d(num_input_features)),\n",
        "        self.add_module(\"relu1\", nn.ReLU(inplace=True)),\n",
        "        self.add_module(\n",
        "            \"conv1\",\n",
        "            nn.Conv2d(\n",
        "                num_input_features,\n",
        "                bn_size * growth_rate,\n",
        "                kernel_size=1,\n",
        "                stride=1,\n",
        "                bias=False,\n",
        "            ),\n",
        "        ),\n",
        "        self.add_module(\"norm2\", nn.BatchNorm2d(bn_size * growth_rate)),\n",
        "        self.add_module(\"relu2\", nn.ReLU(inplace=True)),\n",
        "        self.add_module(\n",
        "            \"conv2\",\n",
        "            nn.Conv2d(\n",
        "                bn_size * growth_rate,\n",
        "                growth_rate,\n",
        "                kernel_size=3,\n",
        "                stride=1,\n",
        "                padding=1,\n",
        "                bias=False,\n",
        "            ),\n",
        "        ),\n",
        "        self.drop_rate = float(drop_rate)\n",
        "\n",
        "    def bottleneck_function(self, inputs):\n",
        "        concated_features = torch.cat(inputs, 1)\n",
        "        bottleneck_output = self.conv1(\n",
        "            self.relu1(self.norm1(concated_features))\n",
        "        )\n",
        "        return bottleneck_output\n",
        "\n",
        "    def forward(self, input_tensor):\n",
        "        if isinstance(input_tensor, Tensor):\n",
        "            prev_features = [input_tensor]\n",
        "        else:\n",
        "            prev_features = input_tensor\n",
        "\n",
        "        bottleneck_output = self.bottleneck_function(prev_features)\n",
        "\n",
        "        new_features = self.conv2(self.relu2(self.norm2(bottleneck_output)))\n",
        "        if self.drop_rate > 0:\n",
        "            new_features = F.dropout(\n",
        "                new_features, p=self.drop_rate, training=self.training\n",
        "            )\n",
        "        return new_features\n",
        "\n",
        "\n",
        "class DenseBlock(nn.ModuleDict):\n",
        "    def __init__(\n",
        "        self, num_layers, num_input_features, bn_size, growth_rate, drop_rate\n",
        "    ):\n",
        "        super(DenseBlock, self).__init__()\n",
        "        for i in range(num_layers):\n",
        "            layer = DenseLayer(\n",
        "                num_input_features + i * growth_rate,\n",
        "                growth_rate=growth_rate,\n",
        "                bn_size=bn_size,\n",
        "                drop_rate=drop_rate,\n",
        "            )\n",
        "            self.add_module(\"dense_layer%d\" % (i + 1), layer)\n",
        "\n",
        "    def forward(self, init_features):\n",
        "        features = [init_features]\n",
        "        for name, layer in self.items():\n",
        "            new_features = layer(features)\n",
        "            features.append(new_features)\n",
        "        return torch.cat(features, 1)\n",
        "\n",
        "\n",
        "class Transition(nn.Sequential):\n",
        "    def __init__(self, num_input_features, num_output_features):\n",
        "        super(Transition, self).__init__()\n",
        "        self.add_module(\"norm\", nn.BatchNorm2d(num_input_features))\n",
        "        self.add_module(\"relu\", nn.ReLU(inplace=True))\n",
        "        self.add_module(\n",
        "            \"conv\",\n",
        "            nn.Conv2d(\n",
        "                num_input_features,\n",
        "                num_output_features,\n",
        "                kernel_size=1,\n",
        "                stride=1,\n",
        "                bias=False,\n",
        "            ),\n",
        "        )\n",
        "        self.add_module(\"pool\", nn.AvgPool2d(kernel_size=2, stride=2))\n",
        "\n",
        "\n",
        "class DenseNet(nn.Module):\n",
        "    r\"\"\"Densenet-BC model class, based on\n",
        "    `\"Densely Connected Convolutional Networks\"\n",
        "     <https://arxiv.org/pdf/1608.06993.pdf>`_\n",
        "\n",
        "    Args:\n",
        "        growth_rate (int) - how many filters to add each layer (`k` in paper)\n",
        "        block_config (list of 4 ints) - how many layers in each pooling block\n",
        "        num_init_features (int) - the number of filters to learn in the first\n",
        "        convolution layer\n",
        "        bn_size (int) - multiplicative factor for number of bottle neck layers\n",
        "          (i.e. bn_size * k features in the bottleneck layer)\n",
        "        drop_rate (float) - dropout rate after each dense layer\n",
        "        num_classes (int) - number of classification classes\n",
        "    \"\"\"\n",
        "\n",
        "    __constants__ = [\"features\"]\n",
        "\n",
        "    def __init__(\n",
        "        self,\n",
        "        growth_rate=32,\n",
        "        block_config=(6, 12, 24, 16),\n",
        "        num_init_features=64,\n",
        "        bn_size=4,\n",
        "        drop_rate=0,\n",
        "        num_classes=1000,\n",
        "        memory_efficient=False,\n",
        "    ):\n",
        "\n",
        "        super(DenseNet, self).__init__()\n",
        "\n",
        "        self.features = nn.Sequential(\n",
        "            OrderedDict(\n",
        "                [\n",
        "                    (\n",
        "                        \"conv0\",\n",
        "                        nn.Conv2d(\n",
        "                            3,\n",
        "                            num_init_features,\n",
        "                            kernel_size=7,\n",
        "                            stride=2,\n",
        "                            padding=3,\n",
        "                            bias=False,\n",
        "                        ),\n",
        "                    ),\n",
        "                    (\"norm0\", nn.BatchNorm2d(num_init_features)),\n",
        "                    (\"relu0\", nn.ReLU(inplace=True)),\n",
        "                    (\n",
        "                        \"pool0\",\n",
        "                        nn.MaxPool2d(kernel_size=3, stride=2, padding=1),\n",
        "                    ),\n",
        "                ]\n",
        "            )\n",
        "        )\n",
        "\n",
        "        num_features = num_init_features\n",
        "        for i, num_layers in enumerate(block_config):\n",
        "            block = DenseBlock(\n",
        "                num_layers=num_layers,\n",
        "                num_input_features=num_features,\n",
        "                bn_size=bn_size,\n",
        "                growth_rate=growth_rate,\n",
        "                drop_rate=drop_rate,\n",
        "            )\n",
        "            self.features.add_module(\"dense_block%d\" % (i + 1), block)\n",
        "            num_features = num_features + num_layers * growth_rate\n",
        "            if i != len(block_config) - 1:\n",
        "                trans = Transition(\n",
        "                    num_input_features=num_features,\n",
        "                    num_output_features=num_features // 2,\n",
        "                )\n",
        "                self.features.add_module(\"transition%d\" % (i + 1), trans)\n",
        "                num_features = num_features // 2\n",
        "\n",
        "        self.features.add_module(\"norm5\", nn.BatchNorm2d(num_features))\n",
        "\n",
        "        self.classifier = nn.Linear(num_features, num_classes)\n",
        "\n",
        "        for m in self.modules():\n",
        "            if isinstance(m, nn.Conv2d):\n",
        "                nn.init.kaiming_normal_(m.weight)\n",
        "            elif isinstance(m, nn.BatchNorm2d):\n",
        "                nn.init.constant_(m.weight, 1)\n",
        "                nn.init.constant_(m.bias, 0)\n",
        "            elif isinstance(m, nn.Linear):\n",
        "                nn.init.constant_(m.bias, 0)\n",
        "\n",
        "    def forward(self, x):\n",
        "        features = self.features(x)\n",
        "        out = F.relu(features, inplace=True)\n",
        "        out = F.adaptive_avg_pool2d(out, (1, 1))\n",
        "        out = torch.flatten(out, 1)\n",
        "        out = self.classifier(out)\n",
        "        return out\n"
      ],
      "execution_count": 0,
      "outputs": []
    },
    {
      "cell_type": "markdown",
      "metadata": {
        "id": "24bC0atDs6Zw",
        "colab_type": "text"
      },
      "source": [
        "## Utilities"
      ]
    },
    {
      "cell_type": "code",
      "metadata": {
        "id": "m_1TAuO3slEw",
        "colab_type": "code",
        "colab": {}
      },
      "source": [
        "import argparse\n",
        "from getpass import getpass\n",
        "\n",
        "from ipython_secrets import *\n",
        "import numpy as np\n",
        "import torch\n",
        "import torch.nn as nn\n",
        "import torchvision.datasets as datasets\n",
        "import torchvision.transforms as transforms\n",
        "\n",
        "from torch.autograd import Variable\n",
        "from tqdm import tqdm\n",
        "\n",
        "from sklearn.metrics import accuracy_score, f1_score\n",
        "\n",
        "def compute_metric(metric, labels, predictions, **kwargs):\n",
        "    return metric(\n",
        "        labels.cpu().data.numpy(), \n",
        "        torch.argmax(predictions.cpu(), dim=1).data.numpy(),\n",
        "        **kwargs\n",
        "    )\n",
        "\n",
        "def read_args():\n",
        "    parser = argparse.ArgumentParser(\n",
        "        description=\"Image classification demo \"\n",
        "        + \"of DenseNet in PyTorch on CIFAR 100\"\n",
        "    )\n",
        "\n",
        "    parser.add_argument(\n",
        "        \"--num-epochs\",\n",
        "        default=25,\n",
        "        type=int,\n",
        "        help=\"Number of total epochs to run\",\n",
        "    )\n",
        "\n",
        "    parser.add_argument(\n",
        "        \"--batch-size\", default=128, type=int, help=\"Batch size (default: 128)\"\n",
        "    )\n",
        "\n",
        "    parser.add_argument(\n",
        "        \"--lr\",\n",
        "        \"--learning-rate\",\n",
        "        default=1e-4,\n",
        "        type=float,\n",
        "        help=\"Initial learning rate (default: 1e-4)\",\n",
        "    )    \n",
        "\n",
        "    parser.add_argument(\n",
        "        \"--dropout\", default=0.1, type=float, help=\"Dropout rate (default: 0.1)\"\n",
        "    )\n",
        "\n",
        "    parser.add_argument(\n",
        "        \"--comet-logging\",\n",
        "        default=True,\n",
        "        help=\"Whether to log progress to TensorBoard\",\n",
        "        action=\"store_true\",\n",
        "    )\n",
        "    return parser"
      ],
      "execution_count": 0,
      "outputs": []
    },
    {
      "cell_type": "code",
      "metadata": {
        "id": "OyhaqJi0s89D",
        "colab_type": "code",
        "outputId": "8c455ce9-485f-4164-ae39-bb7ec0d650b6",
        "colab": {
          "base_uri": "https://localhost:8080/",
          "height": 1000
        }
      },
      "source": [
        "transform = transforms.Compose(\n",
        "    [\n",
        "        transforms.ToTensor(),\n",
        "        transforms.Normalize(\n",
        "            mean=np.asarray(CIFAR_100_MEAN) / 255.0,\n",
        "            std=np.asarray(CIFAR_100_STD) / 255.0,\n",
        "        ),\n",
        "    ]\n",
        ")\n",
        "data_dirname = \"./data\"\n",
        "\n",
        "train_data = datasets.CIFAR100(\n",
        "    root=data_dirname, train=True, download=True, transform=transform\n",
        ")\n",
        "test_data = datasets.CIFAR100(\n",
        "    root=data_dirname, train=False, download=True, transform=transform\n",
        ")\n",
        "\n",
        "args = read_args().parse_args(args=[])\n",
        "args.growth_rate = 32\n",
        "args.block_config = (6, 12, 24, 16)\n",
        "args.num_init_features = 64\n",
        "args.bn_size = 4\n",
        "args.num_classes = 1000\n",
        "\n",
        "train_loader = torch.utils.data.DataLoader(\n",
        "    train_data,\n",
        "    batch_size=args.batch_size,\n",
        "    shuffle=True,\n",
        "    num_workers=1,\n",
        "    pin_memory=True,\n",
        ")\n",
        "\n",
        "test_loader = torch.utils.data.DataLoader(\n",
        "    test_data,\n",
        "    batch_size=args.batch_size,\n",
        "    shuffle=False,\n",
        "    num_workers=1,\n",
        "    pin_memory=True,\n",
        ")\n",
        "\n",
        "if args.comet_logging:\n",
        "    comet_ml_api_key = get_secret(\"comet-{}\".format(PROJECT))\n",
        "\n",
        "    experiment = Experiment(\n",
        "        api_key=comet_ml_api_key,\n",
        "        project_name=PROJECT,\n",
        "        workspace=PROJECT,\n",
        "        auto_output_logging=None,\n",
        "    )\n",
        "    experiment.log_parameters(vars(args))\n",
        "\n",
        "model = DenseNet(\n",
        "    growth_rate=args.growth_rate,\n",
        "    block_config=args.block_config,\n",
        "    num_init_features=args.num_init_features,\n",
        "    bn_size=args.bn_size,\n",
        "    drop_rate=args.dropout,\n",
        "    num_classes=args.num_classes,\n",
        ")\n",
        "model.to(DEVICE)\n",
        "\n",
        "criterion = nn.CrossEntropyLoss()\n",
        "optimizer = torch.optim.Adam(model.parameters(), lr=args.lr)\n",
        "\n",
        "with experiment.train():\n",
        "    model.train()\n",
        "    step = 0\n",
        "    for epoch in range(1, args.num_epochs + 1):\n",
        "        experiment.log_current_epoch(epoch)\n",
        "        with tqdm(\n",
        "            total=len(train_data) // args.batch_size,\n",
        "            desc=\"Epoch {}: Step\".format(epoch),\n",
        "        ) as pbar:\n",
        "            for idx, (images, labels) in enumerate(train_loader):\n",
        "                images = Variable(images.to(DEVICE))\n",
        "                labels = Variable(labels.to(DEVICE))\n",
        "\n",
        "                optimizer.zero_grad()\n",
        "                outputs = model(images)\n",
        "                loss = criterion(outputs, labels)\n",
        "                loss.backward()\n",
        "                optimizer.step()\n",
        "\n",
        "                experiment.set_step(step)\n",
        "                experiment.log_metric(\"loss\", loss.data.item())\n",
        "\n",
        "                predictions = torch.nn.functional.softmax(outputs, dim=0)\n",
        "                accuracy = compute_metric(accuracy_score, labels, predictions)\n",
        "                f1 = compute_metric(\n",
        "                    f1_score, labels, predictions, average=\"macro\"\n",
        "                )\n",
        "\n",
        "                experiment.log_metrics(\n",
        "                    {\"accuracy\": accuracy, \"f1\": f1}, step=step\n",
        "                )\n",
        "                step += 1\n",
        "                if (idx + 1) % 95 == 0:\n",
        "                    print(\"\\n\")\n",
        "                    print(\"-\" * 80)\n",
        "                    print(\n",
        "                        \"Epoch [%d/%d], Step [%d/%d], Loss: %.4f\"\n",
        "                        % (\n",
        "                            epoch,\n",
        "                            args.num_epochs,\n",
        "                            idx + 1,\n",
        "                            len(train_data) // args.batch_size,\n",
        "                            loss.data.item(),\n",
        "                        )\n",
        "                        + \", Accuracy: {:.4f}\".format(accuracy)\n",
        "                        + \", F1: {:.4f}\".format(f1)\n",
        "                    )\n",
        "                    print(\"-\" * 80)\n",
        "                pbar.update()"
      ],
      "execution_count": 6,
      "outputs": [
        {
          "output_type": "stream",
          "text": [
            "\r0it [00:00, ?it/s]"
          ],
          "name": "stderr"
        },
        {
          "output_type": "stream",
          "text": [
            "Downloading https://www.cs.toronto.edu/~kriz/cifar-100-python.tar.gz to ./data/cifar-100-python.tar.gz\n"
          ],
          "name": "stdout"
        },
        {
          "output_type": "stream",
          "text": [
            "169009152it [00:06, 27750593.70it/s]                               \n"
          ],
          "name": "stderr"
        },
        {
          "output_type": "stream",
          "text": [
            "Extracting ./data/cifar-100-python.tar.gz to ./data\n",
            "Files already downloaded and verified\n"
          ],
          "name": "stdout"
        },
        {
          "output_type": "stream",
          "text": [
            "COMET INFO: Experiment is live on comet.ml https://www.comet.ml/fastrino/fastrino/11700425158b4ee2a3c02a2fa3e335a1\n",
            "\n",
            "Epoch 1: Step:   0%|          | 0/390 [00:00<?, ?it/s]/usr/local/lib/python3.6/dist-packages/sklearn/metrics/classification.py:1437: UndefinedMetricWarning: F-score is ill-defined and being set to 0.0 in labels with no predicted samples.\n",
            "  'precision', 'predicted', average, warn_for)\n",
            "/usr/local/lib/python3.6/dist-packages/sklearn/metrics/classification.py:1439: UndefinedMetricWarning: F-score is ill-defined and being set to 0.0 in labels with no true samples.\n",
            "  'recall', 'true', average, warn_for)\n",
            "Epoch 1: Step:  24%|██▍       | 95/390 [00:25<01:17,  3.80it/s]"
          ],
          "name": "stderr"
        },
        {
          "output_type": "stream",
          "text": [
            "\n",
            "\n",
            "--------------------------------------------------------------------------------\n",
            "Epoch [1/25], Step [95/390], Loss: 4.4298, Accuracy: 0.0625, F1: 0.0289\n",
            "--------------------------------------------------------------------------------\n"
          ],
          "name": "stdout"
        },
        {
          "output_type": "stream",
          "text": [
            "Epoch 1: Step:  49%|████▊     | 190/390 [00:50<00:52,  3.81it/s]"
          ],
          "name": "stderr"
        },
        {
          "output_type": "stream",
          "text": [
            "\n",
            "\n",
            "--------------------------------------------------------------------------------\n",
            "Epoch [1/25], Step [190/390], Loss: 4.0092, Accuracy: 0.0859, F1: 0.0339\n",
            "--------------------------------------------------------------------------------\n"
          ],
          "name": "stdout"
        },
        {
          "output_type": "stream",
          "text": [
            "Epoch 1: Step:  73%|███████▎  | 285/390 [01:16<00:27,  3.76it/s]"
          ],
          "name": "stderr"
        },
        {
          "output_type": "stream",
          "text": [
            "\n",
            "\n",
            "--------------------------------------------------------------------------------\n",
            "Epoch [1/25], Step [285/390], Loss: 3.9002, Accuracy: 0.0859, F1: 0.0489\n",
            "--------------------------------------------------------------------------------\n"
          ],
          "name": "stdout"
        },
        {
          "output_type": "stream",
          "text": [
            "Epoch 1: Step:  97%|█████████▋| 380/390 [01:41<00:02,  3.80it/s]"
          ],
          "name": "stderr"
        },
        {
          "output_type": "stream",
          "text": [
            "\n",
            "\n",
            "--------------------------------------------------------------------------------\n",
            "Epoch [1/25], Step [380/390], Loss: 3.9225, Accuracy: 0.0469, F1: 0.0235\n",
            "--------------------------------------------------------------------------------\n"
          ],
          "name": "stdout"
        },
        {
          "output_type": "stream",
          "text": [
            "Epoch 1: Step: 391it [01:43,  3.96it/s]                         \n",
            "Epoch 2: Step:  24%|██▍       | 95/390 [00:25<01:18,  3.76it/s]"
          ],
          "name": "stderr"
        },
        {
          "output_type": "stream",
          "text": [
            "\n",
            "\n",
            "--------------------------------------------------------------------------------\n",
            "Epoch [2/25], Step [95/390], Loss: 3.5529, Accuracy: 0.1719, F1: 0.1202\n",
            "--------------------------------------------------------------------------------\n"
          ],
          "name": "stdout"
        },
        {
          "output_type": "stream",
          "text": [
            "Epoch 2: Step:  49%|████▊     | 190/390 [00:50<00:55,  3.61it/s]"
          ],
          "name": "stderr"
        },
        {
          "output_type": "stream",
          "text": [
            "\n",
            "\n",
            "--------------------------------------------------------------------------------\n",
            "Epoch [2/25], Step [190/390], Loss: 3.4089, Accuracy: 0.1562, F1: 0.0993\n",
            "--------------------------------------------------------------------------------\n"
          ],
          "name": "stdout"
        },
        {
          "output_type": "stream",
          "text": [
            "Epoch 2: Step:  73%|███████▎  | 285/390 [01:16<00:27,  3.75it/s]"
          ],
          "name": "stderr"
        },
        {
          "output_type": "stream",
          "text": [
            "\n",
            "\n",
            "--------------------------------------------------------------------------------\n",
            "Epoch [2/25], Step [285/390], Loss: 3.5220, Accuracy: 0.1562, F1: 0.0979\n",
            "--------------------------------------------------------------------------------\n"
          ],
          "name": "stdout"
        },
        {
          "output_type": "stream",
          "text": [
            "Epoch 2: Step:  97%|█████████▋| 380/390 [01:41<00:02,  3.63it/s]"
          ],
          "name": "stderr"
        },
        {
          "output_type": "stream",
          "text": [
            "\n",
            "\n",
            "--------------------------------------------------------------------------------\n",
            "Epoch [2/25], Step [380/390], Loss: 3.5135, Accuracy: 0.1484, F1: 0.0945\n",
            "--------------------------------------------------------------------------------\n"
          ],
          "name": "stdout"
        },
        {
          "output_type": "stream",
          "text": [
            "Epoch 2: Step: 391it [01:44,  3.98it/s]                         \n",
            "Epoch 3: Step:  24%|██▍       | 95/390 [00:25<01:18,  3.78it/s]"
          ],
          "name": "stderr"
        },
        {
          "output_type": "stream",
          "text": [
            "\n",
            "\n",
            "--------------------------------------------------------------------------------\n",
            "Epoch [3/25], Step [95/390], Loss: 3.2230, Accuracy: 0.1953, F1: 0.1295\n",
            "--------------------------------------------------------------------------------\n"
          ],
          "name": "stdout"
        },
        {
          "output_type": "stream",
          "text": [
            "Epoch 3: Step:  49%|████▊     | 190/390 [00:51<00:54,  3.67it/s]"
          ],
          "name": "stderr"
        },
        {
          "output_type": "stream",
          "text": [
            "\n",
            "\n",
            "--------------------------------------------------------------------------------\n",
            "Epoch [3/25], Step [190/390], Loss: 3.2801, Accuracy: 0.1562, F1: 0.0966\n",
            "--------------------------------------------------------------------------------\n"
          ],
          "name": "stdout"
        },
        {
          "output_type": "stream",
          "text": [
            "Epoch 3: Step:  73%|███████▎  | 285/390 [01:16<00:28,  3.68it/s]"
          ],
          "name": "stderr"
        },
        {
          "output_type": "stream",
          "text": [
            "\n",
            "\n",
            "--------------------------------------------------------------------------------\n",
            "Epoch [3/25], Step [285/390], Loss: 3.2315, Accuracy: 0.1719, F1: 0.1242\n",
            "--------------------------------------------------------------------------------\n"
          ],
          "name": "stdout"
        },
        {
          "output_type": "stream",
          "text": [
            "Epoch 3: Step:  97%|█████████▋| 380/390 [01:42<00:02,  3.69it/s]"
          ],
          "name": "stderr"
        },
        {
          "output_type": "stream",
          "text": [
            "\n",
            "\n",
            "--------------------------------------------------------------------------------\n",
            "Epoch [3/25], Step [380/390], Loss: 3.2800, Accuracy: 0.1953, F1: 0.1375\n",
            "--------------------------------------------------------------------------------\n"
          ],
          "name": "stdout"
        },
        {
          "output_type": "stream",
          "text": [
            "Epoch 3: Step: 391it [01:44,  4.03it/s]                         \n",
            "Epoch 4: Step:  24%|██▍       | 95/390 [00:25<01:17,  3.80it/s]"
          ],
          "name": "stderr"
        },
        {
          "output_type": "stream",
          "text": [
            "\n",
            "\n",
            "--------------------------------------------------------------------------------\n",
            "Epoch [4/25], Step [95/390], Loss: 2.9908, Accuracy: 0.2422, F1: 0.1835\n",
            "--------------------------------------------------------------------------------\n"
          ],
          "name": "stdout"
        },
        {
          "output_type": "stream",
          "text": [
            "Epoch 4: Step:  49%|████▊     | 190/390 [00:50<00:53,  3.73it/s]"
          ],
          "name": "stderr"
        },
        {
          "output_type": "stream",
          "text": [
            "\n",
            "\n",
            "--------------------------------------------------------------------------------\n",
            "Epoch [4/25], Step [190/390], Loss: 3.0880, Accuracy: 0.2500, F1: 0.1762\n",
            "--------------------------------------------------------------------------------\n"
          ],
          "name": "stdout"
        },
        {
          "output_type": "stream",
          "text": [
            "Epoch 4: Step:  73%|███████▎  | 285/390 [01:15<00:27,  3.76it/s]"
          ],
          "name": "stderr"
        },
        {
          "output_type": "stream",
          "text": [
            "\n",
            "\n",
            "--------------------------------------------------------------------------------\n",
            "Epoch [4/25], Step [285/390], Loss: 3.0451, Accuracy: 0.2500, F1: 0.1765\n",
            "--------------------------------------------------------------------------------\n"
          ],
          "name": "stdout"
        },
        {
          "output_type": "stream",
          "text": [
            "Epoch 4: Step:  97%|█████████▋| 380/390 [01:41<00:02,  3.70it/s]"
          ],
          "name": "stderr"
        },
        {
          "output_type": "stream",
          "text": [
            "\n",
            "\n",
            "--------------------------------------------------------------------------------\n",
            "Epoch [4/25], Step [380/390], Loss: 2.8826, Accuracy: 0.2500, F1: 0.2019\n",
            "--------------------------------------------------------------------------------\n"
          ],
          "name": "stdout"
        },
        {
          "output_type": "stream",
          "text": [
            "Epoch 4: Step: 391it [01:44,  4.04it/s]                         \n",
            "Epoch 5: Step:  24%|██▍       | 95/390 [00:25<01:18,  3.75it/s]"
          ],
          "name": "stderr"
        },
        {
          "output_type": "stream",
          "text": [
            "\n",
            "\n",
            "--------------------------------------------------------------------------------\n",
            "Epoch [5/25], Step [95/390], Loss: 2.5019, Accuracy: 0.3359, F1: 0.2523\n",
            "--------------------------------------------------------------------------------\n"
          ],
          "name": "stdout"
        },
        {
          "output_type": "stream",
          "text": [
            "Epoch 5: Step:  49%|████▊     | 190/390 [00:50<00:53,  3.72it/s]"
          ],
          "name": "stderr"
        },
        {
          "output_type": "stream",
          "text": [
            "\n",
            "\n",
            "--------------------------------------------------------------------------------\n",
            "Epoch [5/25], Step [190/390], Loss: 2.5830, Accuracy: 0.2500, F1: 0.1823\n",
            "--------------------------------------------------------------------------------\n"
          ],
          "name": "stdout"
        },
        {
          "output_type": "stream",
          "text": [
            "Epoch 5: Step:  73%|███████▎  | 285/390 [01:16<00:28,  3.71it/s]"
          ],
          "name": "stderr"
        },
        {
          "output_type": "stream",
          "text": [
            "\n",
            "\n",
            "--------------------------------------------------------------------------------\n",
            "Epoch [5/25], Step [285/390], Loss: 2.8836, Accuracy: 0.2578, F1: 0.1881\n",
            "--------------------------------------------------------------------------------\n"
          ],
          "name": "stdout"
        },
        {
          "output_type": "stream",
          "text": [
            "Epoch 5: Step:  97%|█████████▋| 380/390 [01:41<00:02,  3.76it/s]"
          ],
          "name": "stderr"
        },
        {
          "output_type": "stream",
          "text": [
            "\n",
            "\n",
            "--------------------------------------------------------------------------------\n",
            "Epoch [5/25], Step [380/390], Loss: 2.5889, Accuracy: 0.2891, F1: 0.2020\n",
            "--------------------------------------------------------------------------------\n"
          ],
          "name": "stdout"
        },
        {
          "output_type": "stream",
          "text": [
            "Epoch 5: Step: 391it [01:44,  4.07it/s]                         \n",
            "Epoch 6: Step:  24%|██▍       | 95/390 [00:25<01:17,  3.79it/s]"
          ],
          "name": "stderr"
        },
        {
          "output_type": "stream",
          "text": [
            "\n",
            "\n",
            "--------------------------------------------------------------------------------\n",
            "Epoch [6/25], Step [95/390], Loss: 2.5119, Accuracy: 0.3438, F1: 0.2821\n",
            "--------------------------------------------------------------------------------\n"
          ],
          "name": "stdout"
        },
        {
          "output_type": "stream",
          "text": [
            "Epoch 6: Step:  49%|████▊     | 190/390 [00:50<00:53,  3.73it/s]"
          ],
          "name": "stderr"
        },
        {
          "output_type": "stream",
          "text": [
            "\n",
            "\n",
            "--------------------------------------------------------------------------------\n",
            "Epoch [6/25], Step [190/390], Loss: 2.4916, Accuracy: 0.2969, F1: 0.2053\n",
            "--------------------------------------------------------------------------------\n"
          ],
          "name": "stdout"
        },
        {
          "output_type": "stream",
          "text": [
            "Epoch 6: Step:  73%|███████▎  | 285/390 [01:16<00:28,  3.75it/s]"
          ],
          "name": "stderr"
        },
        {
          "output_type": "stream",
          "text": [
            "\n",
            "\n",
            "--------------------------------------------------------------------------------\n",
            "Epoch [6/25], Step [285/390], Loss: 2.6161, Accuracy: 0.2969, F1: 0.1997\n",
            "--------------------------------------------------------------------------------\n"
          ],
          "name": "stdout"
        },
        {
          "output_type": "stream",
          "text": [
            "Epoch 6: Step:  97%|█████████▋| 380/390 [01:41<00:02,  3.75it/s]"
          ],
          "name": "stderr"
        },
        {
          "output_type": "stream",
          "text": [
            "\n",
            "\n",
            "--------------------------------------------------------------------------------\n",
            "Epoch [6/25], Step [380/390], Loss: 2.4051, Accuracy: 0.3125, F1: 0.2420\n",
            "--------------------------------------------------------------------------------\n"
          ],
          "name": "stdout"
        },
        {
          "output_type": "stream",
          "text": [
            "Epoch 6: Step: 391it [01:44,  4.10it/s]                         \n",
            "Epoch 7: Step:  24%|██▍       | 95/390 [00:25<01:20,  3.65it/s]"
          ],
          "name": "stderr"
        },
        {
          "output_type": "stream",
          "text": [
            "\n",
            "\n",
            "--------------------------------------------------------------------------------\n",
            "Epoch [7/25], Step [95/390], Loss: 2.4050, Accuracy: 0.2969, F1: 0.2021\n",
            "--------------------------------------------------------------------------------\n"
          ],
          "name": "stdout"
        },
        {
          "output_type": "stream",
          "text": [
            "Epoch 7: Step:  49%|████▊     | 190/390 [00:50<00:52,  3.81it/s]"
          ],
          "name": "stderr"
        },
        {
          "output_type": "stream",
          "text": [
            "\n",
            "\n",
            "--------------------------------------------------------------------------------\n",
            "Epoch [7/25], Step [190/390], Loss: 2.1403, Accuracy: 0.4141, F1: 0.3266\n",
            "--------------------------------------------------------------------------------\n"
          ],
          "name": "stdout"
        },
        {
          "output_type": "stream",
          "text": [
            "Epoch 7: Step:  73%|███████▎  | 285/390 [01:16<00:28,  3.65it/s]"
          ],
          "name": "stderr"
        },
        {
          "output_type": "stream",
          "text": [
            "\n",
            "\n",
            "--------------------------------------------------------------------------------\n",
            "Epoch [7/25], Step [285/390], Loss: 2.3787, Accuracy: 0.3359, F1: 0.2562\n",
            "--------------------------------------------------------------------------------\n"
          ],
          "name": "stdout"
        },
        {
          "output_type": "stream",
          "text": [
            "Epoch 7: Step:  97%|█████████▋| 380/390 [01:41<00:02,  3.74it/s]"
          ],
          "name": "stderr"
        },
        {
          "output_type": "stream",
          "text": [
            "\n",
            "\n",
            "--------------------------------------------------------------------------------\n",
            "Epoch [7/25], Step [380/390], Loss: 2.5955, Accuracy: 0.2500, F1: 0.1902\n",
            "--------------------------------------------------------------------------------\n"
          ],
          "name": "stdout"
        },
        {
          "output_type": "stream",
          "text": [
            "Epoch 7: Step: 391it [01:44,  4.11it/s]                         \n",
            "Epoch 8: Step:  24%|██▍       | 95/390 [00:25<01:20,  3.67it/s]"
          ],
          "name": "stderr"
        },
        {
          "output_type": "stream",
          "text": [
            "\n",
            "\n",
            "--------------------------------------------------------------------------------\n",
            "Epoch [8/25], Step [95/390], Loss: 2.3262, Accuracy: 0.3203, F1: 0.2924\n",
            "--------------------------------------------------------------------------------\n"
          ],
          "name": "stdout"
        },
        {
          "output_type": "stream",
          "text": [
            "Epoch 8: Step:  49%|████▊     | 190/390 [00:50<00:53,  3.75it/s]"
          ],
          "name": "stderr"
        },
        {
          "output_type": "stream",
          "text": [
            "\n",
            "\n",
            "--------------------------------------------------------------------------------\n",
            "Epoch [8/25], Step [190/390], Loss: 2.1184, Accuracy: 0.3359, F1: 0.2271\n",
            "--------------------------------------------------------------------------------\n"
          ],
          "name": "stdout"
        },
        {
          "output_type": "stream",
          "text": [
            "Epoch 8: Step:  73%|███████▎  | 285/390 [01:16<00:28,  3.73it/s]"
          ],
          "name": "stderr"
        },
        {
          "output_type": "stream",
          "text": [
            "\n",
            "\n",
            "--------------------------------------------------------------------------------\n",
            "Epoch [8/25], Step [285/390], Loss: 2.2798, Accuracy: 0.3359, F1: 0.2768\n",
            "--------------------------------------------------------------------------------\n"
          ],
          "name": "stdout"
        },
        {
          "output_type": "stream",
          "text": [
            "Epoch 8: Step:  97%|█████████▋| 380/390 [01:41<00:02,  3.73it/s]"
          ],
          "name": "stderr"
        },
        {
          "output_type": "stream",
          "text": [
            "\n",
            "\n",
            "--------------------------------------------------------------------------------\n",
            "Epoch [8/25], Step [380/390], Loss: 2.3996, Accuracy: 0.3047, F1: 0.2125\n",
            "--------------------------------------------------------------------------------\n"
          ],
          "name": "stdout"
        },
        {
          "output_type": "stream",
          "text": [
            "Epoch 8: Step: 391it [01:44,  4.06it/s]                         \n",
            "Epoch 9: Step:  24%|██▍       | 95/390 [00:25<01:19,  3.73it/s]"
          ],
          "name": "stderr"
        },
        {
          "output_type": "stream",
          "text": [
            "\n",
            "\n",
            "--------------------------------------------------------------------------------\n",
            "Epoch [9/25], Step [95/390], Loss: 2.4192, Accuracy: 0.3281, F1: 0.2358\n",
            "--------------------------------------------------------------------------------\n"
          ],
          "name": "stdout"
        },
        {
          "output_type": "stream",
          "text": [
            "Epoch 9: Step:  49%|████▊     | 190/390 [00:50<00:53,  3.76it/s]"
          ],
          "name": "stderr"
        },
        {
          "output_type": "stream",
          "text": [
            "\n",
            "\n",
            "--------------------------------------------------------------------------------\n",
            "Epoch [9/25], Step [190/390], Loss: 2.0877, Accuracy: 0.3984, F1: 0.3167\n",
            "--------------------------------------------------------------------------------\n"
          ],
          "name": "stdout"
        },
        {
          "output_type": "stream",
          "text": [
            "Epoch 9: Step:  73%|███████▎  | 285/390 [01:16<00:28,  3.72it/s]"
          ],
          "name": "stderr"
        },
        {
          "output_type": "stream",
          "text": [
            "\n",
            "\n",
            "--------------------------------------------------------------------------------\n",
            "Epoch [9/25], Step [285/390], Loss: 1.9764, Accuracy: 0.4062, F1: 0.3394\n",
            "--------------------------------------------------------------------------------\n"
          ],
          "name": "stdout"
        },
        {
          "output_type": "stream",
          "text": [
            "Epoch 9: Step:  97%|█████████▋| 380/390 [01:41<00:02,  3.77it/s]"
          ],
          "name": "stderr"
        },
        {
          "output_type": "stream",
          "text": [
            "\n",
            "\n",
            "--------------------------------------------------------------------------------\n",
            "Epoch [9/25], Step [380/390], Loss: 2.2763, Accuracy: 0.3281, F1: 0.2524\n",
            "--------------------------------------------------------------------------------\n"
          ],
          "name": "stdout"
        },
        {
          "output_type": "stream",
          "text": [
            "Epoch 9: Step: 391it [01:44,  4.03it/s]                         \n",
            "Epoch 10: Step:  24%|██▍       | 95/390 [00:25<01:18,  3.74it/s]"
          ],
          "name": "stderr"
        },
        {
          "output_type": "stream",
          "text": [
            "\n",
            "\n",
            "--------------------------------------------------------------------------------\n",
            "Epoch [10/25], Step [95/390], Loss: 1.9870, Accuracy: 0.3984, F1: 0.2987\n",
            "--------------------------------------------------------------------------------\n"
          ],
          "name": "stdout"
        },
        {
          "output_type": "stream",
          "text": [
            "Epoch 10: Step:  49%|████▊     | 190/390 [00:50<00:53,  3.76it/s]"
          ],
          "name": "stderr"
        },
        {
          "output_type": "stream",
          "text": [
            "\n",
            "\n",
            "--------------------------------------------------------------------------------\n",
            "Epoch [10/25], Step [190/390], Loss: 2.1872, Accuracy: 0.3906, F1: 0.3226\n",
            "--------------------------------------------------------------------------------\n"
          ],
          "name": "stdout"
        },
        {
          "output_type": "stream",
          "text": [
            "Epoch 10: Step:  73%|███████▎  | 285/390 [01:16<00:28,  3.74it/s]"
          ],
          "name": "stderr"
        },
        {
          "output_type": "stream",
          "text": [
            "\n",
            "\n",
            "--------------------------------------------------------------------------------\n",
            "Epoch [10/25], Step [285/390], Loss: 1.9890, Accuracy: 0.3438, F1: 0.2491\n",
            "--------------------------------------------------------------------------------\n"
          ],
          "name": "stdout"
        },
        {
          "output_type": "stream",
          "text": [
            "Epoch 10: Step:  97%|█████████▋| 380/390 [01:41<00:02,  3.81it/s]"
          ],
          "name": "stderr"
        },
        {
          "output_type": "stream",
          "text": [
            "\n",
            "\n",
            "--------------------------------------------------------------------------------\n",
            "Epoch [10/25], Step [380/390], Loss: 1.9803, Accuracy: 0.3984, F1: 0.2926\n",
            "--------------------------------------------------------------------------------\n"
          ],
          "name": "stdout"
        },
        {
          "output_type": "stream",
          "text": [
            "Epoch 10: Step: 391it [01:44,  4.13it/s]                         \n",
            "Epoch 11: Step:  24%|██▍       | 95/390 [00:25<01:18,  3.78it/s]"
          ],
          "name": "stderr"
        },
        {
          "output_type": "stream",
          "text": [
            "\n",
            "\n",
            "--------------------------------------------------------------------------------\n",
            "Epoch [11/25], Step [95/390], Loss: 1.9182, Accuracy: 0.3906, F1: 0.3152\n",
            "--------------------------------------------------------------------------------\n"
          ],
          "name": "stdout"
        },
        {
          "output_type": "stream",
          "text": [
            "Epoch 11: Step:  49%|████▊     | 190/390 [00:50<00:52,  3.78it/s]"
          ],
          "name": "stderr"
        },
        {
          "output_type": "stream",
          "text": [
            "\n",
            "\n",
            "--------------------------------------------------------------------------------\n",
            "Epoch [11/25], Step [190/390], Loss: 2.0114, Accuracy: 0.3281, F1: 0.2266\n",
            "--------------------------------------------------------------------------------\n"
          ],
          "name": "stdout"
        },
        {
          "output_type": "stream",
          "text": [
            "Epoch 11: Step:  73%|███████▎  | 285/390 [01:16<00:27,  3.79it/s]"
          ],
          "name": "stderr"
        },
        {
          "output_type": "stream",
          "text": [
            "\n",
            "\n",
            "--------------------------------------------------------------------------------\n",
            "Epoch [11/25], Step [285/390], Loss: 1.9088, Accuracy: 0.4062, F1: 0.2987\n",
            "--------------------------------------------------------------------------------\n"
          ],
          "name": "stdout"
        },
        {
          "output_type": "stream",
          "text": [
            "Epoch 11: Step:  97%|█████████▋| 380/390 [01:41<00:02,  3.77it/s]"
          ],
          "name": "stderr"
        },
        {
          "output_type": "stream",
          "text": [
            "\n",
            "\n",
            "--------------------------------------------------------------------------------\n",
            "Epoch [11/25], Step [380/390], Loss: 2.0212, Accuracy: 0.3984, F1: 0.3146\n",
            "--------------------------------------------------------------------------------\n"
          ],
          "name": "stdout"
        },
        {
          "output_type": "stream",
          "text": [
            "Epoch 11: Step: 391it [01:44,  4.00it/s]                         \n",
            "Epoch 12: Step:  24%|██▍       | 95/390 [00:25<01:18,  3.75it/s]"
          ],
          "name": "stderr"
        },
        {
          "output_type": "stream",
          "text": [
            "\n",
            "\n",
            "--------------------------------------------------------------------------------\n",
            "Epoch [12/25], Step [95/390], Loss: 1.8321, Accuracy: 0.4141, F1: 0.3231\n",
            "--------------------------------------------------------------------------------\n"
          ],
          "name": "stdout"
        },
        {
          "output_type": "stream",
          "text": [
            "Epoch 12: Step:  49%|████▊     | 190/390 [00:50<00:54,  3.68it/s]"
          ],
          "name": "stderr"
        },
        {
          "output_type": "stream",
          "text": [
            "\n",
            "\n",
            "--------------------------------------------------------------------------------\n",
            "Epoch [12/25], Step [190/390], Loss: 1.7682, Accuracy: 0.4453, F1: 0.3452\n",
            "--------------------------------------------------------------------------------\n"
          ],
          "name": "stdout"
        },
        {
          "output_type": "stream",
          "text": [
            "Epoch 12: Step:  73%|███████▎  | 285/390 [01:15<00:27,  3.83it/s]"
          ],
          "name": "stderr"
        },
        {
          "output_type": "stream",
          "text": [
            "\n",
            "\n",
            "--------------------------------------------------------------------------------\n",
            "Epoch [12/25], Step [285/390], Loss: 1.7931, Accuracy: 0.3906, F1: 0.3192\n",
            "--------------------------------------------------------------------------------\n"
          ],
          "name": "stdout"
        },
        {
          "output_type": "stream",
          "text": [
            "Epoch 12: Step:  97%|█████████▋| 380/390 [01:40<00:02,  3.68it/s]"
          ],
          "name": "stderr"
        },
        {
          "output_type": "stream",
          "text": [
            "\n",
            "\n",
            "--------------------------------------------------------------------------------\n",
            "Epoch [12/25], Step [380/390], Loss: 2.0696, Accuracy: 0.3906, F1: 0.3045\n",
            "--------------------------------------------------------------------------------\n"
          ],
          "name": "stdout"
        },
        {
          "output_type": "stream",
          "text": [
            "Epoch 12: Step: 391it [01:43,  3.97it/s]                         \n",
            "Epoch 13: Step:  24%|██▍       | 95/390 [00:25<01:17,  3.80it/s]"
          ],
          "name": "stderr"
        },
        {
          "output_type": "stream",
          "text": [
            "\n",
            "\n",
            "--------------------------------------------------------------------------------\n",
            "Epoch [13/25], Step [95/390], Loss: 1.6835, Accuracy: 0.4688, F1: 0.3840\n",
            "--------------------------------------------------------------------------------\n"
          ],
          "name": "stdout"
        },
        {
          "output_type": "stream",
          "text": [
            "Epoch 13: Step:  49%|████▊     | 190/390 [00:50<00:53,  3.71it/s]"
          ],
          "name": "stderr"
        },
        {
          "output_type": "stream",
          "text": [
            "\n",
            "\n",
            "--------------------------------------------------------------------------------\n",
            "Epoch [13/25], Step [190/390], Loss: 1.8997, Accuracy: 0.4531, F1: 0.3570\n",
            "--------------------------------------------------------------------------------\n"
          ],
          "name": "stdout"
        },
        {
          "output_type": "stream",
          "text": [
            "Epoch 13: Step:  73%|███████▎  | 285/390 [01:15<00:27,  3.82it/s]"
          ],
          "name": "stderr"
        },
        {
          "output_type": "stream",
          "text": [
            "\n",
            "\n",
            "--------------------------------------------------------------------------------\n",
            "Epoch [13/25], Step [285/390], Loss: 1.8143, Accuracy: 0.4453, F1: 0.3625\n",
            "--------------------------------------------------------------------------------\n"
          ],
          "name": "stdout"
        },
        {
          "output_type": "stream",
          "text": [
            "Epoch 13: Step:  97%|█████████▋| 380/390 [01:40<00:02,  3.68it/s]"
          ],
          "name": "stderr"
        },
        {
          "output_type": "stream",
          "text": [
            "\n",
            "\n",
            "--------------------------------------------------------------------------------\n",
            "Epoch [13/25], Step [380/390], Loss: 1.9029, Accuracy: 0.3359, F1: 0.2435\n",
            "--------------------------------------------------------------------------------\n"
          ],
          "name": "stdout"
        },
        {
          "output_type": "stream",
          "text": [
            "Epoch 13: Step: 391it [01:43,  4.11it/s]                         \n",
            "Epoch 14: Step:  24%|██▍       | 95/390 [00:25<01:18,  3.75it/s]"
          ],
          "name": "stderr"
        },
        {
          "output_type": "stream",
          "text": [
            "\n",
            "\n",
            "--------------------------------------------------------------------------------\n",
            "Epoch [14/25], Step [95/390], Loss: 1.3662, Accuracy: 0.4844, F1: 0.3885\n",
            "--------------------------------------------------------------------------------\n"
          ],
          "name": "stdout"
        },
        {
          "output_type": "stream",
          "text": [
            "Epoch 14: Step:  49%|████▊     | 190/390 [00:51<00:54,  3.69it/s]"
          ],
          "name": "stderr"
        },
        {
          "output_type": "stream",
          "text": [
            "\n",
            "\n",
            "--------------------------------------------------------------------------------\n",
            "Epoch [14/25], Step [190/390], Loss: 1.6544, Accuracy: 0.4219, F1: 0.3502\n",
            "--------------------------------------------------------------------------------\n"
          ],
          "name": "stdout"
        },
        {
          "output_type": "stream",
          "text": [
            "Epoch 14: Step:  73%|███████▎  | 285/390 [01:17<00:28,  3.72it/s]"
          ],
          "name": "stderr"
        },
        {
          "output_type": "stream",
          "text": [
            "\n",
            "\n",
            "--------------------------------------------------------------------------------\n",
            "Epoch [14/25], Step [285/390], Loss: 1.7380, Accuracy: 0.4062, F1: 0.3277\n",
            "--------------------------------------------------------------------------------\n"
          ],
          "name": "stdout"
        },
        {
          "output_type": "stream",
          "text": [
            "Epoch 14: Step:  97%|█████████▋| 380/390 [01:42<00:02,  3.69it/s]"
          ],
          "name": "stderr"
        },
        {
          "output_type": "stream",
          "text": [
            "\n",
            "\n",
            "--------------------------------------------------------------------------------\n",
            "Epoch [14/25], Step [380/390], Loss: 1.8210, Accuracy: 0.5000, F1: 0.4526\n",
            "--------------------------------------------------------------------------------\n"
          ],
          "name": "stdout"
        },
        {
          "output_type": "stream",
          "text": [
            "Epoch 14: Step: 391it [01:45,  4.03it/s]                         \n",
            "Epoch 15: Step:  24%|██▍       | 95/390 [00:25<01:19,  3.73it/s]"
          ],
          "name": "stderr"
        },
        {
          "output_type": "stream",
          "text": [
            "\n",
            "\n",
            "--------------------------------------------------------------------------------\n",
            "Epoch [15/25], Step [95/390], Loss: 1.4576, Accuracy: 0.5234, F1: 0.4624\n",
            "--------------------------------------------------------------------------------\n"
          ],
          "name": "stdout"
        },
        {
          "output_type": "stream",
          "text": [
            "Epoch 15: Step:  49%|████▊     | 190/390 [00:50<00:53,  3.73it/s]"
          ],
          "name": "stderr"
        },
        {
          "output_type": "stream",
          "text": [
            "\n",
            "\n",
            "--------------------------------------------------------------------------------\n",
            "Epoch [15/25], Step [190/390], Loss: 1.3345, Accuracy: 0.5234, F1: 0.4265\n",
            "--------------------------------------------------------------------------------\n"
          ],
          "name": "stdout"
        },
        {
          "output_type": "stream",
          "text": [
            "Epoch 15: Step:  73%|███████▎  | 285/390 [01:16<00:27,  3.78it/s]"
          ],
          "name": "stderr"
        },
        {
          "output_type": "stream",
          "text": [
            "\n",
            "\n",
            "--------------------------------------------------------------------------------\n",
            "Epoch [15/25], Step [285/390], Loss: 1.4978, Accuracy: 0.4531, F1: 0.3743\n",
            "--------------------------------------------------------------------------------\n"
          ],
          "name": "stdout"
        },
        {
          "output_type": "stream",
          "text": [
            "Epoch 15: Step:  97%|█████████▋| 380/390 [01:41<00:02,  3.75it/s]"
          ],
          "name": "stderr"
        },
        {
          "output_type": "stream",
          "text": [
            "\n",
            "\n",
            "--------------------------------------------------------------------------------\n",
            "Epoch [15/25], Step [380/390], Loss: 1.6102, Accuracy: 0.4453, F1: 0.3328\n",
            "--------------------------------------------------------------------------------\n"
          ],
          "name": "stdout"
        },
        {
          "output_type": "stream",
          "text": [
            "Epoch 15: Step: 391it [01:44,  4.05it/s]                         \n",
            "Epoch 16: Step:  24%|██▍       | 95/390 [00:25<01:17,  3.80it/s]"
          ],
          "name": "stderr"
        },
        {
          "output_type": "stream",
          "text": [
            "\n",
            "\n",
            "--------------------------------------------------------------------------------\n",
            "Epoch [16/25], Step [95/390], Loss: 1.2892, Accuracy: 0.4531, F1: 0.3579\n",
            "--------------------------------------------------------------------------------\n"
          ],
          "name": "stdout"
        },
        {
          "output_type": "stream",
          "text": [
            "Epoch 16: Step:  49%|████▊     | 190/390 [00:50<00:53,  3.75it/s]"
          ],
          "name": "stderr"
        },
        {
          "output_type": "stream",
          "text": [
            "\n",
            "\n",
            "--------------------------------------------------------------------------------\n",
            "Epoch [16/25], Step [190/390], Loss: 1.3492, Accuracy: 0.4453, F1: 0.3683\n",
            "--------------------------------------------------------------------------------\n"
          ],
          "name": "stdout"
        },
        {
          "output_type": "stream",
          "text": [
            "Epoch 16: Step:  73%|███████▎  | 285/390 [01:16<00:27,  3.80it/s]"
          ],
          "name": "stderr"
        },
        {
          "output_type": "stream",
          "text": [
            "\n",
            "\n",
            "--------------------------------------------------------------------------------\n",
            "Epoch [16/25], Step [285/390], Loss: 1.5443, Accuracy: 0.4844, F1: 0.3941\n",
            "--------------------------------------------------------------------------------\n"
          ],
          "name": "stdout"
        },
        {
          "output_type": "stream",
          "text": [
            "Epoch 16: Step:  97%|█████████▋| 380/390 [01:41<00:02,  3.77it/s]"
          ],
          "name": "stderr"
        },
        {
          "output_type": "stream",
          "text": [
            "\n",
            "\n",
            "--------------------------------------------------------------------------------\n",
            "Epoch [16/25], Step [380/390], Loss: 1.4890, Accuracy: 0.4922, F1: 0.4083\n",
            "--------------------------------------------------------------------------------\n"
          ],
          "name": "stdout"
        },
        {
          "output_type": "stream",
          "text": [
            "Epoch 16: Step: 391it [01:44,  4.07it/s]                         \n",
            "Epoch 17: Step:  24%|██▍       | 95/390 [00:25<01:20,  3.64it/s]"
          ],
          "name": "stderr"
        },
        {
          "output_type": "stream",
          "text": [
            "\n",
            "\n",
            "--------------------------------------------------------------------------------\n",
            "Epoch [17/25], Step [95/390], Loss: 1.3811, Accuracy: 0.4766, F1: 0.3793\n",
            "--------------------------------------------------------------------------------\n"
          ],
          "name": "stdout"
        },
        {
          "output_type": "stream",
          "text": [
            "Epoch 17: Step:  49%|████▊     | 190/390 [00:50<00:52,  3.78it/s]"
          ],
          "name": "stderr"
        },
        {
          "output_type": "stream",
          "text": [
            "\n",
            "\n",
            "--------------------------------------------------------------------------------\n",
            "Epoch [17/25], Step [190/390], Loss: 1.2543, Accuracy: 0.5234, F1: 0.3922\n",
            "--------------------------------------------------------------------------------\n"
          ],
          "name": "stdout"
        },
        {
          "output_type": "stream",
          "text": [
            "Epoch 17: Step:  73%|███████▎  | 285/390 [01:16<00:29,  3.59it/s]"
          ],
          "name": "stderr"
        },
        {
          "output_type": "stream",
          "text": [
            "\n",
            "\n",
            "--------------------------------------------------------------------------------\n",
            "Epoch [17/25], Step [285/390], Loss: 1.2613, Accuracy: 0.5547, F1: 0.4601\n",
            "--------------------------------------------------------------------------------\n"
          ],
          "name": "stdout"
        },
        {
          "output_type": "stream",
          "text": [
            "Epoch 17: Step:  97%|█████████▋| 380/390 [01:41<00:02,  3.76it/s]"
          ],
          "name": "stderr"
        },
        {
          "output_type": "stream",
          "text": [
            "\n",
            "\n",
            "--------------------------------------------------------------------------------\n",
            "Epoch [17/25], Step [380/390], Loss: 1.4777, Accuracy: 0.4922, F1: 0.4122\n",
            "--------------------------------------------------------------------------------\n"
          ],
          "name": "stdout"
        },
        {
          "output_type": "stream",
          "text": [
            "Epoch 17: Step: 391it [01:44,  4.08it/s]                         \n",
            "Epoch 18: Step:  24%|██▍       | 95/390 [00:25<01:19,  3.71it/s]"
          ],
          "name": "stderr"
        },
        {
          "output_type": "stream",
          "text": [
            "\n",
            "\n",
            "--------------------------------------------------------------------------------\n",
            "Epoch [18/25], Step [95/390], Loss: 1.2253, Accuracy: 0.4922, F1: 0.3972\n",
            "--------------------------------------------------------------------------------\n"
          ],
          "name": "stdout"
        },
        {
          "output_type": "stream",
          "text": [
            "Epoch 18: Step:  49%|████▊     | 190/390 [00:50<00:52,  3.79it/s]"
          ],
          "name": "stderr"
        },
        {
          "output_type": "stream",
          "text": [
            "\n",
            "\n",
            "--------------------------------------------------------------------------------\n",
            "Epoch [18/25], Step [190/390], Loss: 1.2080, Accuracy: 0.5312, F1: 0.4223\n",
            "--------------------------------------------------------------------------------\n"
          ],
          "name": "stdout"
        },
        {
          "output_type": "stream",
          "text": [
            "Epoch 18: Step:  73%|███████▎  | 285/390 [01:16<00:28,  3.71it/s]"
          ],
          "name": "stderr"
        },
        {
          "output_type": "stream",
          "text": [
            "\n",
            "\n",
            "--------------------------------------------------------------------------------\n",
            "Epoch [18/25], Step [285/390], Loss: 1.2606, Accuracy: 0.5078, F1: 0.4136\n",
            "--------------------------------------------------------------------------------\n"
          ],
          "name": "stdout"
        },
        {
          "output_type": "stream",
          "text": [
            "Epoch 18: Step:  97%|█████████▋| 380/390 [01:41<00:02,  3.79it/s]"
          ],
          "name": "stderr"
        },
        {
          "output_type": "stream",
          "text": [
            "\n",
            "\n",
            "--------------------------------------------------------------------------------\n",
            "Epoch [18/25], Step [380/390], Loss: 1.1854, Accuracy: 0.4297, F1: 0.3407\n",
            "--------------------------------------------------------------------------------\n"
          ],
          "name": "stdout"
        },
        {
          "output_type": "stream",
          "text": [
            "Epoch 18: Step: 391it [01:44,  4.06it/s]                         \n",
            "Epoch 19: Step:  24%|██▍       | 95/390 [00:25<01:19,  3.72it/s]"
          ],
          "name": "stderr"
        },
        {
          "output_type": "stream",
          "text": [
            "\n",
            "\n",
            "--------------------------------------------------------------------------------\n",
            "Epoch [19/25], Step [95/390], Loss: 0.9967, Accuracy: 0.5234, F1: 0.4344\n",
            "--------------------------------------------------------------------------------\n"
          ],
          "name": "stdout"
        },
        {
          "output_type": "stream",
          "text": [
            "Epoch 19: Step:  49%|████▊     | 190/390 [00:50<00:52,  3.82it/s]"
          ],
          "name": "stderr"
        },
        {
          "output_type": "stream",
          "text": [
            "\n",
            "\n",
            "--------------------------------------------------------------------------------\n",
            "Epoch [19/25], Step [190/390], Loss: 0.9726, Accuracy: 0.6172, F1: 0.4920\n",
            "--------------------------------------------------------------------------------\n"
          ],
          "name": "stdout"
        },
        {
          "output_type": "stream",
          "text": [
            "Epoch 19: Step:  73%|███████▎  | 285/390 [01:16<00:28,  3.71it/s]"
          ],
          "name": "stderr"
        },
        {
          "output_type": "stream",
          "text": [
            "\n",
            "\n",
            "--------------------------------------------------------------------------------\n",
            "Epoch [19/25], Step [285/390], Loss: 1.2815, Accuracy: 0.4609, F1: 0.3733\n",
            "--------------------------------------------------------------------------------\n"
          ],
          "name": "stdout"
        },
        {
          "output_type": "stream",
          "text": [
            "Epoch 19: Step:  97%|█████████▋| 380/390 [01:41<00:02,  3.77it/s]"
          ],
          "name": "stderr"
        },
        {
          "output_type": "stream",
          "text": [
            "\n",
            "\n",
            "--------------------------------------------------------------------------------\n",
            "Epoch [19/25], Step [380/390], Loss: 1.0534, Accuracy: 0.5547, F1: 0.4404\n",
            "--------------------------------------------------------------------------------\n"
          ],
          "name": "stdout"
        },
        {
          "output_type": "stream",
          "text": [
            "Epoch 19: Step: 391it [01:44,  4.08it/s]                         \n",
            "Epoch 20: Step:  24%|██▍       | 95/390 [00:25<01:19,  3.71it/s]"
          ],
          "name": "stderr"
        },
        {
          "output_type": "stream",
          "text": [
            "\n",
            "\n",
            "--------------------------------------------------------------------------------\n",
            "Epoch [20/25], Step [95/390], Loss: 0.8449, Accuracy: 0.5156, F1: 0.3950\n",
            "--------------------------------------------------------------------------------\n"
          ],
          "name": "stdout"
        },
        {
          "output_type": "stream",
          "text": [
            "Epoch 20: Step:  49%|████▊     | 190/390 [00:50<00:53,  3.74it/s]"
          ],
          "name": "stderr"
        },
        {
          "output_type": "stream",
          "text": [
            "\n",
            "\n",
            "--------------------------------------------------------------------------------\n",
            "Epoch [20/25], Step [190/390], Loss: 1.2122, Accuracy: 0.5234, F1: 0.4186\n",
            "--------------------------------------------------------------------------------\n"
          ],
          "name": "stdout"
        },
        {
          "output_type": "stream",
          "text": [
            "Epoch 20: Step:  73%|███████▎  | 285/390 [01:16<00:28,  3.73it/s]"
          ],
          "name": "stderr"
        },
        {
          "output_type": "stream",
          "text": [
            "\n",
            "\n",
            "--------------------------------------------------------------------------------\n",
            "Epoch [20/25], Step [285/390], Loss: 1.2802, Accuracy: 0.4609, F1: 0.3609\n",
            "--------------------------------------------------------------------------------\n"
          ],
          "name": "stdout"
        },
        {
          "output_type": "stream",
          "text": [
            "Epoch 20: Step:  97%|█████████▋| 380/390 [01:41<00:02,  3.78it/s]"
          ],
          "name": "stderr"
        },
        {
          "output_type": "stream",
          "text": [
            "\n",
            "\n",
            "--------------------------------------------------------------------------------\n",
            "Epoch [20/25], Step [380/390], Loss: 1.1517, Accuracy: 0.5469, F1: 0.4570\n",
            "--------------------------------------------------------------------------------\n"
          ],
          "name": "stdout"
        },
        {
          "output_type": "stream",
          "text": [
            "Epoch 20: Step: 391it [01:44,  4.10it/s]                         \n",
            "Epoch 21: Step:  24%|██▍       | 95/390 [00:25<01:18,  3.75it/s]"
          ],
          "name": "stderr"
        },
        {
          "output_type": "stream",
          "text": [
            "\n",
            "\n",
            "--------------------------------------------------------------------------------\n",
            "Epoch [21/25], Step [95/390], Loss: 0.9752, Accuracy: 0.4922, F1: 0.4038\n",
            "--------------------------------------------------------------------------------\n"
          ],
          "name": "stdout"
        },
        {
          "output_type": "stream",
          "text": [
            "Epoch 21: Step:  49%|████▊     | 190/390 [00:51<00:53,  3.76it/s]"
          ],
          "name": "stderr"
        },
        {
          "output_type": "stream",
          "text": [
            "\n",
            "\n",
            "--------------------------------------------------------------------------------\n",
            "Epoch [21/25], Step [190/390], Loss: 1.1922, Accuracy: 0.4844, F1: 0.3932\n",
            "--------------------------------------------------------------------------------\n"
          ],
          "name": "stdout"
        },
        {
          "output_type": "stream",
          "text": [
            "Epoch 21: Step:  73%|███████▎  | 285/390 [01:16<00:28,  3.73it/s]"
          ],
          "name": "stderr"
        },
        {
          "output_type": "stream",
          "text": [
            "\n",
            "\n",
            "--------------------------------------------------------------------------------\n",
            "Epoch [21/25], Step [285/390], Loss: 0.9315, Accuracy: 0.5234, F1: 0.4140\n",
            "--------------------------------------------------------------------------------\n"
          ],
          "name": "stdout"
        },
        {
          "output_type": "stream",
          "text": [
            "Epoch 21: Step:  97%|█████████▋| 380/390 [01:41<00:02,  3.74it/s]"
          ],
          "name": "stderr"
        },
        {
          "output_type": "stream",
          "text": [
            "\n",
            "\n",
            "--------------------------------------------------------------------------------\n",
            "Epoch [21/25], Step [380/390], Loss: 1.1414, Accuracy: 0.5234, F1: 0.4277\n",
            "--------------------------------------------------------------------------------\n"
          ],
          "name": "stdout"
        },
        {
          "output_type": "stream",
          "text": [
            "Epoch 21: Step: 391it [01:44,  4.00it/s]                         \n",
            "Epoch 22: Step:  24%|██▍       | 95/390 [00:25<01:18,  3.75it/s]"
          ],
          "name": "stderr"
        },
        {
          "output_type": "stream",
          "text": [
            "\n",
            "\n",
            "--------------------------------------------------------------------------------\n",
            "Epoch [22/25], Step [95/390], Loss: 0.9299, Accuracy: 0.5234, F1: 0.4183\n",
            "--------------------------------------------------------------------------------\n"
          ],
          "name": "stdout"
        },
        {
          "output_type": "stream",
          "text": [
            "Epoch 22: Step:  49%|████▊     | 190/390 [00:51<00:54,  3.65it/s]"
          ],
          "name": "stderr"
        },
        {
          "output_type": "stream",
          "text": [
            "\n",
            "\n",
            "--------------------------------------------------------------------------------\n",
            "Epoch [22/25], Step [190/390], Loss: 1.0375, Accuracy: 0.5156, F1: 0.4143\n",
            "--------------------------------------------------------------------------------\n"
          ],
          "name": "stdout"
        },
        {
          "output_type": "stream",
          "text": [
            "Epoch 22: Step:  73%|███████▎  | 285/390 [01:16<00:27,  3.77it/s]"
          ],
          "name": "stderr"
        },
        {
          "output_type": "stream",
          "text": [
            "\n",
            "\n",
            "--------------------------------------------------------------------------------\n",
            "Epoch [22/25], Step [285/390], Loss: 1.2088, Accuracy: 0.5234, F1: 0.4397\n",
            "--------------------------------------------------------------------------------\n"
          ],
          "name": "stdout"
        },
        {
          "output_type": "stream",
          "text": [
            "Epoch 22: Step:  97%|█████████▋| 380/390 [01:41<00:02,  3.66it/s]"
          ],
          "name": "stderr"
        },
        {
          "output_type": "stream",
          "text": [
            "\n",
            "\n",
            "--------------------------------------------------------------------------------\n",
            "Epoch [22/25], Step [380/390], Loss: 1.1094, Accuracy: 0.5156, F1: 0.4449\n",
            "--------------------------------------------------------------------------------\n"
          ],
          "name": "stdout"
        },
        {
          "output_type": "stream",
          "text": [
            "Epoch 22: Step: 391it [01:44,  3.99it/s]                         \n",
            "Epoch 23: Step:  24%|██▍       | 95/390 [00:25<01:18,  3.75it/s]"
          ],
          "name": "stderr"
        },
        {
          "output_type": "stream",
          "text": [
            "\n",
            "\n",
            "--------------------------------------------------------------------------------\n",
            "Epoch [23/25], Step [95/390], Loss: 0.8191, Accuracy: 0.5391, F1: 0.4474\n",
            "--------------------------------------------------------------------------------\n"
          ],
          "name": "stdout"
        },
        {
          "output_type": "stream",
          "text": [
            "Epoch 23: Step:  49%|████▊     | 190/390 [00:51<00:54,  3.67it/s]"
          ],
          "name": "stderr"
        },
        {
          "output_type": "stream",
          "text": [
            "\n",
            "\n",
            "--------------------------------------------------------------------------------\n",
            "Epoch [23/25], Step [190/390], Loss: 0.7902, Accuracy: 0.5703, F1: 0.4661\n",
            "--------------------------------------------------------------------------------\n"
          ],
          "name": "stdout"
        },
        {
          "output_type": "stream",
          "text": [
            "Epoch 23: Step:  73%|███████▎  | 285/390 [01:16<00:27,  3.76it/s]"
          ],
          "name": "stderr"
        },
        {
          "output_type": "stream",
          "text": [
            "\n",
            "\n",
            "--------------------------------------------------------------------------------\n",
            "Epoch [23/25], Step [285/390], Loss: 1.0728, Accuracy: 0.5234, F1: 0.4132\n",
            "--------------------------------------------------------------------------------\n"
          ],
          "name": "stdout"
        },
        {
          "output_type": "stream",
          "text": [
            "Epoch 23: Step:  97%|█████████▋| 380/390 [01:41<00:02,  3.69it/s]"
          ],
          "name": "stderr"
        },
        {
          "output_type": "stream",
          "text": [
            "\n",
            "\n",
            "--------------------------------------------------------------------------------\n",
            "Epoch [23/25], Step [380/390], Loss: 1.1286, Accuracy: 0.5234, F1: 0.4356\n",
            "--------------------------------------------------------------------------------\n"
          ],
          "name": "stdout"
        },
        {
          "output_type": "stream",
          "text": [
            "Epoch 23: Step: 391it [01:44,  4.03it/s]                         \n",
            "Epoch 24: Step:  24%|██▍       | 95/390 [00:25<01:21,  3.63it/s]"
          ],
          "name": "stderr"
        },
        {
          "output_type": "stream",
          "text": [
            "\n",
            "\n",
            "--------------------------------------------------------------------------------\n",
            "Epoch [24/25], Step [95/390], Loss: 0.8290, Accuracy: 0.5781, F1: 0.4912\n",
            "--------------------------------------------------------------------------------\n"
          ],
          "name": "stdout"
        },
        {
          "output_type": "stream",
          "text": [
            "Epoch 24: Step:  49%|████▊     | 190/390 [00:51<00:53,  3.74it/s]"
          ],
          "name": "stderr"
        },
        {
          "output_type": "stream",
          "text": [
            "\n",
            "\n",
            "--------------------------------------------------------------------------------\n",
            "Epoch [24/25], Step [190/390], Loss: 0.6478, Accuracy: 0.6172, F1: 0.4850\n",
            "--------------------------------------------------------------------------------\n"
          ],
          "name": "stdout"
        },
        {
          "output_type": "stream",
          "text": [
            "Epoch 24: Step:  73%|███████▎  | 285/390 [01:16<00:28,  3.75it/s]"
          ],
          "name": "stderr"
        },
        {
          "output_type": "stream",
          "text": [
            "\n",
            "\n",
            "--------------------------------------------------------------------------------\n",
            "Epoch [24/25], Step [285/390], Loss: 0.7943, Accuracy: 0.4922, F1: 0.3840\n",
            "--------------------------------------------------------------------------------\n"
          ],
          "name": "stdout"
        },
        {
          "output_type": "stream",
          "text": [
            "Epoch 24: Step:  97%|█████████▋| 380/390 [01:42<00:02,  3.67it/s]"
          ],
          "name": "stderr"
        },
        {
          "output_type": "stream",
          "text": [
            "\n",
            "\n",
            "--------------------------------------------------------------------------------\n",
            "Epoch [24/25], Step [380/390], Loss: 0.7891, Accuracy: 0.4922, F1: 0.4105\n",
            "--------------------------------------------------------------------------------\n"
          ],
          "name": "stdout"
        },
        {
          "output_type": "stream",
          "text": [
            "Epoch 24: Step: 391it [01:44,  4.05it/s]                         \n",
            "Epoch 25: Step:  24%|██▍       | 95/390 [00:25<01:18,  3.74it/s]"
          ],
          "name": "stderr"
        },
        {
          "output_type": "stream",
          "text": [
            "\n",
            "\n",
            "--------------------------------------------------------------------------------\n",
            "Epoch [25/25], Step [95/390], Loss: 0.5367, Accuracy: 0.6094, F1: 0.4741\n",
            "--------------------------------------------------------------------------------\n"
          ],
          "name": "stdout"
        },
        {
          "output_type": "stream",
          "text": [
            "Epoch 25: Step:  49%|████▊     | 190/390 [00:51<00:53,  3.71it/s]"
          ],
          "name": "stderr"
        },
        {
          "output_type": "stream",
          "text": [
            "\n",
            "\n",
            "--------------------------------------------------------------------------------\n",
            "Epoch [25/25], Step [190/390], Loss: 0.7529, Accuracy: 0.5703, F1: 0.4493\n",
            "--------------------------------------------------------------------------------\n"
          ],
          "name": "stdout"
        },
        {
          "output_type": "stream",
          "text": [
            "Epoch 25: Step:  73%|███████▎  | 285/390 [01:16<00:27,  3.78it/s]"
          ],
          "name": "stderr"
        },
        {
          "output_type": "stream",
          "text": [
            "\n",
            "\n",
            "--------------------------------------------------------------------------------\n",
            "Epoch [25/25], Step [285/390], Loss: 0.6321, Accuracy: 0.5938, F1: 0.5155\n",
            "--------------------------------------------------------------------------------\n"
          ],
          "name": "stdout"
        },
        {
          "output_type": "stream",
          "text": [
            "Epoch 25: Step:  97%|█████████▋| 380/390 [01:42<00:02,  3.68it/s]"
          ],
          "name": "stderr"
        },
        {
          "output_type": "stream",
          "text": [
            "\n",
            "\n",
            "--------------------------------------------------------------------------------\n",
            "Epoch [25/25], Step [380/390], Loss: 0.9144, Accuracy: 0.6016, F1: 0.5078\n",
            "--------------------------------------------------------------------------------\n"
          ],
          "name": "stdout"
        },
        {
          "output_type": "stream",
          "text": [
            "Epoch 25: Step: 391it [01:44,  4.05it/s]                         \n"
          ],
          "name": "stderr"
        }
      ]
    },
    {
      "cell_type": "code",
      "metadata": {
        "id": "cS7Y8G6w_aEG",
        "colab_type": "code",
        "outputId": "ce27b92e-f05d-408e-c205-4f9062db84fa",
        "colab": {
          "base_uri": "https://localhost:8080/",
          "height": 734
        }
      },
      "source": [
        "with experiment.test():\n",
        "    model.eval()\n",
        "\n",
        "    total_accuracy = 0\n",
        "    total_f1 = 0\n",
        "    count = 0\n",
        "    with tqdm(\n",
        "        total=len(test_data) // args.batch_size, desc=\"Test Step\".format(epoch)\n",
        "    ) as pbar:\n",
        "        for idx, (images, labels) in enumerate(test_loader):\n",
        "            images = Variable(images.to(DEVICE))\n",
        "            labels = Variable(labels.to(DEVICE))\n",
        "\n",
        "            outputs = model(images)\n",
        "            loss = criterion(outputs, labels)\n",
        "\n",
        "            predictions = torch.nn.functional.softmax(outputs, dim=0)\n",
        "            count += 1\n",
        "            total_accuracy += compute_metric(\n",
        "                accuracy_score, labels, predictions\n",
        "            )\n",
        "            total_f1 += compute_metric(\n",
        "                f1_score, labels, predictions, average=\"macro\"\n",
        "            )\n",
        "            pbar.update()\n",
        "\n",
        "    experiment.log_metrics(\n",
        "        {\"mean_accuracy\": total_accuracy / count, \"mean_f1\": total_f1 / count},\n",
        "        step=step,\n",
        "    )\n",
        "    print(\"\\n\")\n",
        "    print(\"-\" * 80)\n",
        "    print(\n",
        "        \"Mean test batch accuracy on {} images with batch size {}: {}\".format(\n",
        "            len(test_data), args.batch_size, total_accuracy / count\n",
        "        )\n",
        "    )\n",
        "    print(\n",
        "        \"Mean test batch F1 on {} images with batch size {}: {}\".format(\n",
        "            len(test_data), args.batch_size, total_f1 / count\n",
        "        )\n",
        "    )\n",
        "    print(\"-\" * 80)\n",
        "    experiment.end()"
      ],
      "execution_count": 7,
      "outputs": [
        {
          "output_type": "stream",
          "text": [
            "Test Step:   0%|          | 0/78 [00:00<?, ?it/s]/usr/local/lib/python3.6/dist-packages/sklearn/metrics/classification.py:1437: UndefinedMetricWarning: F-score is ill-defined and being set to 0.0 in labels with no predicted samples.\n",
            "  'precision', 'predicted', average, warn_for)\n",
            "/usr/local/lib/python3.6/dist-packages/sklearn/metrics/classification.py:1439: UndefinedMetricWarning: F-score is ill-defined and being set to 0.0 in labels with no true samples.\n",
            "  'recall', 'true', average, warn_for)\n",
            "Test Step: 79it [00:05, 15.21it/s]                        \n",
            "COMET INFO: ----------------------------\n",
            "COMET INFO: Comet.ml Experiment Summary:\n",
            "COMET INFO:   Data:\n",
            "COMET INFO:     url: https://www.comet.ml/fastrino/fastrino/11700425158b4ee2a3c02a2fa3e335a1\n",
            "COMET INFO:   Metrics [count] (min, max):\n",
            "COMET INFO:     sys.cpu.percent.01                  : (6.9, 6.9)\n",
            "COMET INFO:     sys.cpu.percent.02                  : (13.5, 13.5)\n",
            "COMET INFO:     sys.cpu.percent.avg                 : (10.2, 10.2)\n",
            "COMET INFO:     sys.gpu.0.free_memory               : (11996954624.0, 11996954624.0)\n",
            "COMET INFO:     sys.gpu.0.gpu_utilization           : (0.0, 0.0)\n",
            "COMET INFO:     sys.gpu.0.total_memory              : (11996954624.0, 11996954624.0)\n",
            "COMET INFO:     sys.gpu.0.used_memory               : (0.0, 0.0)\n",
            "COMET INFO:     sys.ram.total                       : (13655224320.0, 13655224320.0)\n",
            "COMET INFO:     sys.ram.used                        : (972988416.0, 972988416.0)\n",
            "COMET INFO:     test_mean_accuracy                  : (0.33079509493670883, 0.33079509493670883)\n",
            "COMET INFO:     test_mean_f1                        : (0.2666806530771708, 0.2666806530771708)\n",
            "COMET INFO:     train_accuracy [9775]               : (0.0, 0.71875)\n",
            "COMET INFO:     train_curr_epoch [25]               : 25\n",
            "COMET INFO:     train_f1 [9775]                     : (0.0, 0.6245535714285714)\n",
            "COMET INFO:     train_loss [10753]                  : (0.4492761194705963, 6.941493988037109)\n",
            "COMET INFO:     train_sys.cpu.percent.01 [38]       : (52.5, 73.7)\n",
            "COMET INFO:     train_sys.cpu.percent.02 [38]       : (53.5, 72.8)\n",
            "COMET INFO:     train_sys.cpu.percent.avg [38]      : (60.400000000000006, 64.6)\n",
            "COMET INFO:     train_sys.gpu.0.free_memory [43]    : (11168186368.0, 11168186368.0)\n",
            "COMET INFO:     train_sys.gpu.0.gpu_utilization [43]: (43.0, 67.0)\n",
            "COMET INFO:     train_sys.gpu.0.used_memory [43]    : (828768256.0, 828768256.0)\n",
            "COMET INFO:     train_sys.ram.total [38]            : (13655224320.0, 13655224320.0)\n",
            "COMET INFO:     train_sys.ram.used [38]             : (2269323264.0, 2382626816.0)\n",
            "COMET INFO: ----------------------------\n"
          ],
          "name": "stderr"
        },
        {
          "output_type": "stream",
          "text": [
            "\n",
            "\n",
            "--------------------------------------------------------------------------------\n",
            "Mean test batch accuracy on 10000 images with batch size 128: 0.33079509493670883\n",
            "Mean test batch F1 on 10000 images with batch size 128: 0.2666806530771708\n",
            "--------------------------------------------------------------------------------\n"
          ],
          "name": "stdout"
        },
        {
          "output_type": "stream",
          "text": [
            "COMET INFO: Uploading stats to Comet before program termination (may take several seconds)\n"
          ],
          "name": "stderr"
        }
      ]
    },
    {
      "cell_type": "code",
      "metadata": {
        "id": "6mRkmGK12XIM",
        "colab_type": "code",
        "colab": {}
      },
      "source": [
        ""
      ],
      "execution_count": 0,
      "outputs": []
    }
  ]
}